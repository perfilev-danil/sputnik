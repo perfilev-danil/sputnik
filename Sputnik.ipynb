{
 "cells": [
  {
   "cell_type": "markdown",
   "id": "61c7b9fe-10a3-4240-b995-16283f8f405a",
   "metadata": {},
   "source": [
    "# Спутник"
   ]
  },
  {
   "cell_type": "markdown",
   "id": "ef887e99-8442-453d-a4a6-01950e6f56f2",
   "metadata": {},
   "source": [
    "Перфильев Данил"
   ]
  },
  {
   "cell_type": "markdown",
   "id": "2c434f91-37cf-408b-bf3c-bb1500e6cefb",
   "metadata": {},
   "source": [
    "## Контекст"
   ]
  },
  {
   "cell_type": "markdown",
   "id": "15fa04b7-c965-4865-9eaf-47163bfcde28",
   "metadata": {},
   "source": [
    "В Спутнике есть несколько основных каналов трафика. У каждого канала есть свои метрики для оценки эффективности его работы. Например, количество посещений сайта,  сумма просмотров отдельных страниц экскурсии и сумма заказов. \n",
    "Эффективность канала трафика оценивается как по фактическим величинам отдельных бизнесовых  метрик, так и на основе построенного прогноза для этих величин. \n",
    "Кроме того, при работе с трафиком одна из главных сложностей - получить чистые репрезентативные данные. \n"
   ]
  },
  {
   "cell_type": "markdown",
   "id": "cd6e985f-e5db-40ee-999b-daf1d09a9c1b",
   "metadata": {},
   "source": [
    "## Задание"
   ]
  },
  {
   "cell_type": "markdown",
   "id": "b52ae687-edc8-4667-826a-450354834708",
   "metadata": {},
   "source": [
    "На примере города Анапа оценить эффективность работы каналов трафика"
   ]
  },
  {
   "cell_type": "code",
   "execution_count": 1,
   "id": "00d8ffc7-08f9-4017-a6e9-1c6c85d666ad",
   "metadata": {},
   "outputs": [],
   "source": [
    "#импорт библиотек\n",
    "import pandas as pd\n",
    "import numpy as np\n",
    "from scipy import stats\n",
    "\n",
    "import matplotlib.pyplot as plt\n",
    "import seaborn as sns"
   ]
  },
  {
   "cell_type": "code",
   "execution_count": 2,
   "id": "0da3e094-6b4f-4ca2-8c7f-3bc96d448310",
   "metadata": {},
   "outputs": [],
   "source": [
    "#загрузка данных\n",
    "orders_df = pd.read_csv(\"./orders.csv\", index_col = 0)\n",
    "visits_df = pd.read_csv(\"./visits.csv\", index_col = 0)\n",
    "views_df = pd.read_csv(\"./views.csv\", index_col = 0)"
   ]
  },
  {
   "cell_type": "code",
   "execution_count": 3,
   "id": "516a1f55-50ea-402c-bc40-ac6dcb5b8f52",
   "metadata": {},
   "outputs": [],
   "source": [
    "orders_df.drop_duplicates(inplace = True)\n",
    "visits_df.drop_duplicates(inplace = True)\n",
    "views_df.drop_duplicates(inplace = True)"
   ]
  },
  {
   "cell_type": "markdown",
   "id": "f7a60d96-be94-4ac7-af36-d03cf0f15795",
   "metadata": {},
   "source": [
    "### 1.\tНеобходимо вычистить ботные и некорректные данные из набора данных visits.csv"
   ]
  },
  {
   "cell_type": "markdown",
   "id": "2e5474ba-98ac-4608-acec-2fbc37ae40c8",
   "metadata": {},
   "source": [
    "#### a.\tНам известно, что на органический канал трафика приходят подозрительные посещения из браузера Chrome Mobile, при utm_source яндекс и мобильном девайсе. Необходимо вычистить посещения, которые отвечают описанным условиям."
   ]
  },
  {
   "cell_type": "code",
   "execution_count": 4,
   "id": "5c840f9d-c360-4cb4-ba8f-c08d53b00e75",
   "metadata": {},
   "outputs": [
    {
     "data": {
      "text/html": [
       "<div>\n",
       "<style scoped>\n",
       "    .dataframe tbody tr th:only-of-type {\n",
       "        vertical-align: middle;\n",
       "    }\n",
       "\n",
       "    .dataframe tbody tr th {\n",
       "        vertical-align: top;\n",
       "    }\n",
       "\n",
       "    .dataframe thead th {\n",
       "        text-align: right;\n",
       "    }\n",
       "</style>\n",
       "<table border=\"1\" class=\"dataframe\">\n",
       "  <thead>\n",
       "    <tr style=\"text-align: right;\">\n",
       "      <th></th>\n",
       "      <th>started_at</th>\n",
       "      <th>id</th>\n",
       "      <th>utm_medium</th>\n",
       "      <th>device_type</th>\n",
       "      <th>utm_source</th>\n",
       "      <th>browser</th>\n",
       "    </tr>\n",
       "  </thead>\n",
       "  <tbody>\n",
       "    <tr>\n",
       "      <th>0</th>\n",
       "      <td>2023-03-01 02:50:00.564479</td>\n",
       "      <td>277249829</td>\n",
       "      <td>organic</td>\n",
       "      <td>Mobile</td>\n",
       "      <td>yandex</td>\n",
       "      <td>Chrome Mobile</td>\n",
       "    </tr>\n",
       "    <tr>\n",
       "      <th>1</th>\n",
       "      <td>2023-03-01 06:40:17.746113</td>\n",
       "      <td>277323126</td>\n",
       "      <td>organic</td>\n",
       "      <td>Tablet</td>\n",
       "      <td>yandex</td>\n",
       "      <td>Yandex Browser</td>\n",
       "    </tr>\n",
       "    <tr>\n",
       "      <th>2</th>\n",
       "      <td>2023-03-01 07:36:36.907793</td>\n",
       "      <td>277337231</td>\n",
       "      <td>organic</td>\n",
       "      <td>Mobile</td>\n",
       "      <td>yandex</td>\n",
       "      <td>Chrome Mobile</td>\n",
       "    </tr>\n",
       "    <tr>\n",
       "      <th>3</th>\n",
       "      <td>2023-03-01 07:48:37.006550</td>\n",
       "      <td>277340573</td>\n",
       "      <td>organic</td>\n",
       "      <td>Desktop</td>\n",
       "      <td>google</td>\n",
       "      <td>Chrome</td>\n",
       "    </tr>\n",
       "    <tr>\n",
       "      <th>4</th>\n",
       "      <td>2023-03-01 07:52:18.295917</td>\n",
       "      <td>277341578</td>\n",
       "      <td>affiliate</td>\n",
       "      <td>Desktop</td>\n",
       "      <td>affiliate_3421</td>\n",
       "      <td>Firefox</td>\n",
       "    </tr>\n",
       "  </tbody>\n",
       "</table>\n",
       "</div>"
      ],
      "text/plain": [
       "                   started_at         id utm_medium device_type  \\\n",
       "0  2023-03-01 02:50:00.564479  277249829    organic      Mobile   \n",
       "1  2023-03-01 06:40:17.746113  277323126    organic      Tablet   \n",
       "2  2023-03-01 07:36:36.907793  277337231    organic      Mobile   \n",
       "3  2023-03-01 07:48:37.006550  277340573    organic     Desktop   \n",
       "4  2023-03-01 07:52:18.295917  277341578  affiliate     Desktop   \n",
       "\n",
       "       utm_source         browser  \n",
       "0          yandex   Chrome Mobile  \n",
       "1          yandex  Yandex Browser  \n",
       "2          yandex   Chrome Mobile  \n",
       "3          google          Chrome  \n",
       "4  affiliate_3421         Firefox  "
      ]
     },
     "execution_count": 4,
     "metadata": {},
     "output_type": "execute_result"
    }
   ],
   "source": [
    "#ознакомление с данными из visits.csv\n",
    "visits_df.head()"
   ]
  },
  {
   "cell_type": "code",
   "execution_count": 5,
   "id": "e976476b-dffa-493c-beb2-266e2c20cbe6",
   "metadata": {},
   "outputs": [],
   "source": [
    "#получение данных, которые являются подозрительными в соответствии с условиями\n",
    "suspicious_visits_df = visits_df[(visits_df['utm_medium'] == 'organic') & (visits_df['browser'] == 'Chrome Mobile') & (visits_df['utm_source'] == 'yandex') & (visits_df['device_type'] == 'Mobile')]"
   ]
  },
  {
   "cell_type": "code",
   "execution_count": 6,
   "id": "ee9c1471-14e3-4826-970a-722c2b62fdd8",
   "metadata": {},
   "outputs": [
    {
     "data": {
      "text/html": [
       "<div>\n",
       "<style scoped>\n",
       "    .dataframe tbody tr th:only-of-type {\n",
       "        vertical-align: middle;\n",
       "    }\n",
       "\n",
       "    .dataframe tbody tr th {\n",
       "        vertical-align: top;\n",
       "    }\n",
       "\n",
       "    .dataframe thead th {\n",
       "        text-align: right;\n",
       "    }\n",
       "</style>\n",
       "<table border=\"1\" class=\"dataframe\">\n",
       "  <thead>\n",
       "    <tr style=\"text-align: right;\">\n",
       "      <th></th>\n",
       "      <th>started_at</th>\n",
       "      <th>id</th>\n",
       "      <th>utm_medium</th>\n",
       "      <th>device_type</th>\n",
       "      <th>utm_source</th>\n",
       "      <th>browser</th>\n",
       "    </tr>\n",
       "  </thead>\n",
       "  <tbody>\n",
       "    <tr>\n",
       "      <th>0</th>\n",
       "      <td>2023-03-01 02:50:00.564479</td>\n",
       "      <td>277249829</td>\n",
       "      <td>organic</td>\n",
       "      <td>Mobile</td>\n",
       "      <td>yandex</td>\n",
       "      <td>Chrome Mobile</td>\n",
       "    </tr>\n",
       "    <tr>\n",
       "      <th>2</th>\n",
       "      <td>2023-03-01 07:36:36.907793</td>\n",
       "      <td>277337231</td>\n",
       "      <td>organic</td>\n",
       "      <td>Mobile</td>\n",
       "      <td>yandex</td>\n",
       "      <td>Chrome Mobile</td>\n",
       "    </tr>\n",
       "    <tr>\n",
       "      <th>12</th>\n",
       "      <td>2023-03-01 10:26:00.760251</td>\n",
       "      <td>277397043</td>\n",
       "      <td>organic</td>\n",
       "      <td>Mobile</td>\n",
       "      <td>yandex</td>\n",
       "      <td>Chrome Mobile</td>\n",
       "    </tr>\n",
       "    <tr>\n",
       "      <th>30</th>\n",
       "      <td>2023-03-01 15:13:15.936808</td>\n",
       "      <td>277525286</td>\n",
       "      <td>organic</td>\n",
       "      <td>Mobile</td>\n",
       "      <td>yandex</td>\n",
       "      <td>Chrome Mobile</td>\n",
       "    </tr>\n",
       "    <tr>\n",
       "      <th>78</th>\n",
       "      <td>2023-03-01 17:37:49.336903</td>\n",
       "      <td>277589720</td>\n",
       "      <td>organic</td>\n",
       "      <td>Mobile</td>\n",
       "      <td>yandex</td>\n",
       "      <td>Chrome Mobile</td>\n",
       "    </tr>\n",
       "  </tbody>\n",
       "</table>\n",
       "</div>"
      ],
      "text/plain": [
       "                    started_at         id utm_medium device_type utm_source  \\\n",
       "0   2023-03-01 02:50:00.564479  277249829    organic      Mobile     yandex   \n",
       "2   2023-03-01 07:36:36.907793  277337231    organic      Mobile     yandex   \n",
       "12  2023-03-01 10:26:00.760251  277397043    organic      Mobile     yandex   \n",
       "30  2023-03-01 15:13:15.936808  277525286    organic      Mobile     yandex   \n",
       "78  2023-03-01 17:37:49.336903  277589720    organic      Mobile     yandex   \n",
       "\n",
       "          browser  \n",
       "0   Chrome Mobile  \n",
       "2   Chrome Mobile  \n",
       "12  Chrome Mobile  \n",
       "30  Chrome Mobile  \n",
       "78  Chrome Mobile  "
      ]
     },
     "execution_count": 6,
     "metadata": {},
     "output_type": "execute_result"
    }
   ],
   "source": [
    "suspicious_visits_df.head()"
   ]
  },
  {
   "cell_type": "code",
   "execution_count": 7,
   "id": "52987675-79a0-4fc2-a006-44a1c7c86e89",
   "metadata": {},
   "outputs": [],
   "source": [
    "#получение чистых данных, очистка в соответствии с условиями\n",
    "cleaned_visits_df = visits_df.drop(suspicious_visits_df.index)"
   ]
  },
  {
   "cell_type": "code",
   "execution_count": 8,
   "id": "2145cb36-5641-45b5-b086-1864f925a38d",
   "metadata": {},
   "outputs": [
    {
     "data": {
      "text/html": [
       "<div>\n",
       "<style scoped>\n",
       "    .dataframe tbody tr th:only-of-type {\n",
       "        vertical-align: middle;\n",
       "    }\n",
       "\n",
       "    .dataframe tbody tr th {\n",
       "        vertical-align: top;\n",
       "    }\n",
       "\n",
       "    .dataframe thead th {\n",
       "        text-align: right;\n",
       "    }\n",
       "</style>\n",
       "<table border=\"1\" class=\"dataframe\">\n",
       "  <thead>\n",
       "    <tr style=\"text-align: right;\">\n",
       "      <th></th>\n",
       "      <th>started_at</th>\n",
       "      <th>id</th>\n",
       "      <th>utm_medium</th>\n",
       "      <th>device_type</th>\n",
       "      <th>utm_source</th>\n",
       "      <th>browser</th>\n",
       "    </tr>\n",
       "  </thead>\n",
       "  <tbody>\n",
       "    <tr>\n",
       "      <th>1</th>\n",
       "      <td>2023-03-01 06:40:17.746113</td>\n",
       "      <td>277323126</td>\n",
       "      <td>organic</td>\n",
       "      <td>Tablet</td>\n",
       "      <td>yandex</td>\n",
       "      <td>Yandex Browser</td>\n",
       "    </tr>\n",
       "    <tr>\n",
       "      <th>3</th>\n",
       "      <td>2023-03-01 07:48:37.006550</td>\n",
       "      <td>277340573</td>\n",
       "      <td>organic</td>\n",
       "      <td>Desktop</td>\n",
       "      <td>google</td>\n",
       "      <td>Chrome</td>\n",
       "    </tr>\n",
       "    <tr>\n",
       "      <th>4</th>\n",
       "      <td>2023-03-01 07:52:18.295917</td>\n",
       "      <td>277341578</td>\n",
       "      <td>affiliate</td>\n",
       "      <td>Desktop</td>\n",
       "      <td>affiliate_3421</td>\n",
       "      <td>Firefox</td>\n",
       "    </tr>\n",
       "    <tr>\n",
       "      <th>5</th>\n",
       "      <td>2023-03-01 07:52:21.296114</td>\n",
       "      <td>277341589</td>\n",
       "      <td>affiliate</td>\n",
       "      <td>Desktop</td>\n",
       "      <td>affiliate_3421</td>\n",
       "      <td>Chrome</td>\n",
       "    </tr>\n",
       "    <tr>\n",
       "      <th>6</th>\n",
       "      <td>2023-03-01 08:42:32.200535</td>\n",
       "      <td>277357036</td>\n",
       "      <td>organic</td>\n",
       "      <td>Tablet</td>\n",
       "      <td>yandex</td>\n",
       "      <td>Chrome</td>\n",
       "    </tr>\n",
       "  </tbody>\n",
       "</table>\n",
       "</div>"
      ],
      "text/plain": [
       "                   started_at         id utm_medium device_type  \\\n",
       "1  2023-03-01 06:40:17.746113  277323126    organic      Tablet   \n",
       "3  2023-03-01 07:48:37.006550  277340573    organic     Desktop   \n",
       "4  2023-03-01 07:52:18.295917  277341578  affiliate     Desktop   \n",
       "5  2023-03-01 07:52:21.296114  277341589  affiliate     Desktop   \n",
       "6  2023-03-01 08:42:32.200535  277357036    organic      Tablet   \n",
       "\n",
       "       utm_source         browser  \n",
       "1          yandex  Yandex Browser  \n",
       "3          google          Chrome  \n",
       "4  affiliate_3421         Firefox  \n",
       "5  affiliate_3421          Chrome  \n",
       "6          yandex          Chrome  "
      ]
     },
     "execution_count": 8,
     "metadata": {},
     "output_type": "execute_result"
    }
   ],
   "source": [
    "cleaned_visits_df.head()"
   ]
  },
  {
   "cell_type": "code",
   "execution_count": 9,
   "id": "1073fcf7-c5ea-467d-835d-49bd6f175559",
   "metadata": {},
   "outputs": [],
   "source": [
    "#сохранение чистых данных"
   ]
  },
  {
   "cell_type": "code",
   "execution_count": 10,
   "id": "9fdfe7e1-791a-43b4-bfb8-df29e2c19f1b",
   "metadata": {},
   "outputs": [],
   "source": [
    "cleaned_visits_df.to_csv('cleaned_visits.csv', index = False)"
   ]
  },
  {
   "cell_type": "markdown",
   "id": "457717b8-0571-4ad8-ac55-8af0d5259fdc",
   "metadata": {},
   "source": [
    "### 2.\tОценка эффективности работы органического канала трафика (=organic)."
   ]
  },
  {
   "cell_type": "code",
   "execution_count": 11,
   "id": "69497806-5114-4711-ba55-e412e764b5c4",
   "metadata": {},
   "outputs": [
    {
     "data": {
      "text/html": [
       "<div>\n",
       "<style scoped>\n",
       "    .dataframe tbody tr th:only-of-type {\n",
       "        vertical-align: middle;\n",
       "    }\n",
       "\n",
       "    .dataframe tbody tr th {\n",
       "        vertical-align: top;\n",
       "    }\n",
       "\n",
       "    .dataframe thead th {\n",
       "        text-align: right;\n",
       "    }\n",
       "</style>\n",
       "<table border=\"1\" class=\"dataframe\">\n",
       "  <thead>\n",
       "    <tr style=\"text-align: right;\">\n",
       "      <th></th>\n",
       "      <th>started_at</th>\n",
       "      <th>id</th>\n",
       "      <th>utm_medium</th>\n",
       "      <th>device_type</th>\n",
       "      <th>utm_source</th>\n",
       "      <th>browser</th>\n",
       "    </tr>\n",
       "  </thead>\n",
       "  <tbody>\n",
       "    <tr>\n",
       "      <th>1</th>\n",
       "      <td>2023-03-01 06:40:17.746113</td>\n",
       "      <td>277323126</td>\n",
       "      <td>organic</td>\n",
       "      <td>Tablet</td>\n",
       "      <td>yandex</td>\n",
       "      <td>Yandex Browser</td>\n",
       "    </tr>\n",
       "    <tr>\n",
       "      <th>3</th>\n",
       "      <td>2023-03-01 07:48:37.006550</td>\n",
       "      <td>277340573</td>\n",
       "      <td>organic</td>\n",
       "      <td>Desktop</td>\n",
       "      <td>google</td>\n",
       "      <td>Chrome</td>\n",
       "    </tr>\n",
       "    <tr>\n",
       "      <th>6</th>\n",
       "      <td>2023-03-01 08:42:32.200535</td>\n",
       "      <td>277357036</td>\n",
       "      <td>organic</td>\n",
       "      <td>Tablet</td>\n",
       "      <td>yandex</td>\n",
       "      <td>Chrome</td>\n",
       "    </tr>\n",
       "    <tr>\n",
       "      <th>7</th>\n",
       "      <td>2023-03-01 08:59:11.331039</td>\n",
       "      <td>277362728</td>\n",
       "      <td>organic</td>\n",
       "      <td>Phablet</td>\n",
       "      <td>google</td>\n",
       "      <td>Samsung Browser</td>\n",
       "    </tr>\n",
       "    <tr>\n",
       "      <th>8</th>\n",
       "      <td>2023-03-01 09:02:42.078832</td>\n",
       "      <td>277363899</td>\n",
       "      <td>organic</td>\n",
       "      <td>Mobile</td>\n",
       "      <td>google</td>\n",
       "      <td>Chrome Mobile</td>\n",
       "    </tr>\n",
       "  </tbody>\n",
       "</table>\n",
       "</div>"
      ],
      "text/plain": [
       "                   started_at         id utm_medium device_type utm_source  \\\n",
       "1  2023-03-01 06:40:17.746113  277323126    organic      Tablet     yandex   \n",
       "3  2023-03-01 07:48:37.006550  277340573    organic     Desktop     google   \n",
       "6  2023-03-01 08:42:32.200535  277357036    organic      Tablet     yandex   \n",
       "7  2023-03-01 08:59:11.331039  277362728    organic     Phablet     google   \n",
       "8  2023-03-01 09:02:42.078832  277363899    organic      Mobile     google   \n",
       "\n",
       "           browser  \n",
       "1   Yandex Browser  \n",
       "3           Chrome  \n",
       "6           Chrome  \n",
       "7  Samsung Browser  \n",
       "8    Chrome Mobile  "
      ]
     },
     "execution_count": 11,
     "metadata": {},
     "output_type": "execute_result"
    }
   ],
   "source": [
    "#получение данных органического канала после очистки\n",
    "visits_organic_df = cleaned_visits_df[cleaned_visits_df['utm_medium'] == 'organic']\n",
    "visits_organic_df.head()"
   ]
  },
  {
   "cell_type": "code",
   "execution_count": 12,
   "id": "dc7d2137-8acd-4ba3-a79d-ad19dcf78a90",
   "metadata": {},
   "outputs": [
    {
     "name": "stderr",
     "output_type": "stream",
     "text": [
      "C:\\Users\\Данил\\AppData\\Local\\Temp\\ipykernel_27108\\744849248.py:2: SettingWithCopyWarning: \n",
      "A value is trying to be set on a copy of a slice from a DataFrame.\n",
      "Try using .loc[row_indexer,col_indexer] = value instead\n",
      "\n",
      "See the caveats in the documentation: https://pandas.pydata.org/pandas-docs/stable/user_guide/indexing.html#returning-a-view-versus-a-copy\n",
      "  visits_organic_df['year'] = pd.to_datetime(visits_organic_df['started_at']).dt.year\n"
     ]
    }
   ],
   "source": [
    "#преобразование признака \"started_at\" - годы\n",
    "visits_organic_df['year'] = pd.to_datetime(visits_organic_df['started_at']).dt.year"
   ]
  },
  {
   "cell_type": "code",
   "execution_count": 13,
   "id": "b1da7b76-23cd-4885-9398-a49855e3fbd1",
   "metadata": {},
   "outputs": [
    {
     "name": "stderr",
     "output_type": "stream",
     "text": [
      "C:\\Users\\Данил\\AppData\\Local\\Temp\\ipykernel_27108\\2539688531.py:2: SettingWithCopyWarning: \n",
      "A value is trying to be set on a copy of a slice from a DataFrame.\n",
      "Try using .loc[row_indexer,col_indexer] = value instead\n",
      "\n",
      "See the caveats in the documentation: https://pandas.pydata.org/pandas-docs/stable/user_guide/indexing.html#returning-a-view-versus-a-copy\n",
      "  visits_organic_df['month'] = pd.to_datetime(visits_organic_df['started_at']).dt.month\n"
     ]
    }
   ],
   "source": [
    "#преобразование признака \"started_at\" - месяцы\n",
    "visits_organic_df['month'] = pd.to_datetime(visits_organic_df['started_at']).dt.month"
   ]
  },
  {
   "cell_type": "code",
   "execution_count": 14,
   "id": "c3e81b1b-dd25-4836-b2b7-a3380df807ad",
   "metadata": {},
   "outputs": [
    {
     "name": "stderr",
     "output_type": "stream",
     "text": [
      "C:\\Users\\Данил\\AppData\\Local\\Temp\\ipykernel_27108\\2762777828.py:2: SettingWithCopyWarning: \n",
      "A value is trying to be set on a copy of a slice from a DataFrame.\n",
      "Try using .loc[row_indexer,col_indexer] = value instead\n",
      "\n",
      "See the caveats in the documentation: https://pandas.pydata.org/pandas-docs/stable/user_guide/indexing.html#returning-a-view-versus-a-copy\n",
      "  visits_organic_df['day'] = pd.to_datetime(visits_organic_df['started_at']).dt.day\n"
     ]
    }
   ],
   "source": [
    "#преобразование признака \"started_at\" - дни\n",
    "visits_organic_df['day'] = pd.to_datetime(visits_organic_df['started_at']).dt.day"
   ]
  },
  {
   "cell_type": "code",
   "execution_count": 15,
   "id": "9b007991-7c1e-4a12-8785-c3c0eb1673f5",
   "metadata": {},
   "outputs": [
    {
     "name": "stderr",
     "output_type": "stream",
     "text": [
      "C:\\Users\\Данил\\AppData\\Local\\Temp\\ipykernel_27108\\427431397.py:2: SettingWithCopyWarning: \n",
      "A value is trying to be set on a copy of a slice from a DataFrame.\n",
      "Try using .loc[row_indexer,col_indexer] = value instead\n",
      "\n",
      "See the caveats in the documentation: https://pandas.pydata.org/pandas-docs/stable/user_guide/indexing.html#returning-a-view-versus-a-copy\n",
      "  visits_organic_df['hour'] = pd.to_datetime(visits_organic_df['started_at']).dt.hour\n"
     ]
    }
   ],
   "source": [
    "#преобразование признака \"started_at\" - часы\n",
    "visits_organic_df['hour'] = pd.to_datetime(visits_organic_df['started_at']).dt.hour"
   ]
  },
  {
   "cell_type": "code",
   "execution_count": 16,
   "id": "aa56228b-d313-46f8-bdd7-d5b06744d0cd",
   "metadata": {},
   "outputs": [],
   "source": [
    "visits_organic_df = visits_organic_df.drop('started_at', axis = 1)"
   ]
  },
  {
   "cell_type": "code",
   "execution_count": 17,
   "id": "97fa7944-672d-4651-9c48-6c90c172c310",
   "metadata": {},
   "outputs": [
    {
     "data": {
      "text/html": [
       "<div>\n",
       "<style scoped>\n",
       "    .dataframe tbody tr th:only-of-type {\n",
       "        vertical-align: middle;\n",
       "    }\n",
       "\n",
       "    .dataframe tbody tr th {\n",
       "        vertical-align: top;\n",
       "    }\n",
       "\n",
       "    .dataframe thead th {\n",
       "        text-align: right;\n",
       "    }\n",
       "</style>\n",
       "<table border=\"1\" class=\"dataframe\">\n",
       "  <thead>\n",
       "    <tr style=\"text-align: right;\">\n",
       "      <th></th>\n",
       "      <th>id</th>\n",
       "      <th>utm_medium</th>\n",
       "      <th>device_type</th>\n",
       "      <th>utm_source</th>\n",
       "      <th>browser</th>\n",
       "      <th>year</th>\n",
       "      <th>month</th>\n",
       "      <th>day</th>\n",
       "      <th>hour</th>\n",
       "    </tr>\n",
       "  </thead>\n",
       "  <tbody>\n",
       "    <tr>\n",
       "      <th>1</th>\n",
       "      <td>277323126</td>\n",
       "      <td>organic</td>\n",
       "      <td>Tablet</td>\n",
       "      <td>yandex</td>\n",
       "      <td>Yandex Browser</td>\n",
       "      <td>2023</td>\n",
       "      <td>3</td>\n",
       "      <td>1</td>\n",
       "      <td>6</td>\n",
       "    </tr>\n",
       "    <tr>\n",
       "      <th>3</th>\n",
       "      <td>277340573</td>\n",
       "      <td>organic</td>\n",
       "      <td>Desktop</td>\n",
       "      <td>google</td>\n",
       "      <td>Chrome</td>\n",
       "      <td>2023</td>\n",
       "      <td>3</td>\n",
       "      <td>1</td>\n",
       "      <td>7</td>\n",
       "    </tr>\n",
       "    <tr>\n",
       "      <th>6</th>\n",
       "      <td>277357036</td>\n",
       "      <td>organic</td>\n",
       "      <td>Tablet</td>\n",
       "      <td>yandex</td>\n",
       "      <td>Chrome</td>\n",
       "      <td>2023</td>\n",
       "      <td>3</td>\n",
       "      <td>1</td>\n",
       "      <td>8</td>\n",
       "    </tr>\n",
       "    <tr>\n",
       "      <th>7</th>\n",
       "      <td>277362728</td>\n",
       "      <td>organic</td>\n",
       "      <td>Phablet</td>\n",
       "      <td>google</td>\n",
       "      <td>Samsung Browser</td>\n",
       "      <td>2023</td>\n",
       "      <td>3</td>\n",
       "      <td>1</td>\n",
       "      <td>8</td>\n",
       "    </tr>\n",
       "    <tr>\n",
       "      <th>8</th>\n",
       "      <td>277363899</td>\n",
       "      <td>organic</td>\n",
       "      <td>Mobile</td>\n",
       "      <td>google</td>\n",
       "      <td>Chrome Mobile</td>\n",
       "      <td>2023</td>\n",
       "      <td>3</td>\n",
       "      <td>1</td>\n",
       "      <td>9</td>\n",
       "    </tr>\n",
       "  </tbody>\n",
       "</table>\n",
       "</div>"
      ],
      "text/plain": [
       "          id utm_medium device_type utm_source          browser  year  month  \\\n",
       "1  277323126    organic      Tablet     yandex   Yandex Browser  2023      3   \n",
       "3  277340573    organic     Desktop     google           Chrome  2023      3   \n",
       "6  277357036    organic      Tablet     yandex           Chrome  2023      3   \n",
       "7  277362728    organic     Phablet     google  Samsung Browser  2023      3   \n",
       "8  277363899    organic      Mobile     google    Chrome Mobile  2023      3   \n",
       "\n",
       "   day  hour  \n",
       "1    1     6  \n",
       "3    1     7  \n",
       "6    1     8  \n",
       "7    1     8  \n",
       "8    1     9  "
      ]
     },
     "execution_count": 17,
     "metadata": {},
     "output_type": "execute_result"
    }
   ],
   "source": [
    "visits_organic_df.head()"
   ]
  },
  {
   "cell_type": "markdown",
   "id": "87aa03cc-0019-4fe2-bf89-281758cb0d0e",
   "metadata": {},
   "source": [
    "#### a.\tПредложи метрики, по которым мы сможем оценить эффективность органического канала трафика. "
   ]
  },
  {
   "cell_type": "markdown",
   "id": "5268b08e-9f31-476f-969c-759304368e57",
   "metadata": {},
   "source": [
    "Распределение посещений по месяцам"
   ]
  },
  {
   "cell_type": "code",
   "execution_count": 18,
   "id": "cae0b875-f3e5-4536-8437-461b5858a5f7",
   "metadata": {},
   "outputs": [
    {
     "data": {
      "text/html": [
       "<div>\n",
       "<style scoped>\n",
       "    .dataframe tbody tr th:only-of-type {\n",
       "        vertical-align: middle;\n",
       "    }\n",
       "\n",
       "    .dataframe tbody tr th {\n",
       "        vertical-align: top;\n",
       "    }\n",
       "\n",
       "    .dataframe thead th {\n",
       "        text-align: right;\n",
       "    }\n",
       "</style>\n",
       "<table border=\"1\" class=\"dataframe\">\n",
       "  <thead>\n",
       "    <tr style=\"text-align: right;\">\n",
       "      <th></th>\n",
       "      <th>year</th>\n",
       "      <th>month</th>\n",
       "      <th>visits</th>\n",
       "    </tr>\n",
       "  </thead>\n",
       "  <tbody>\n",
       "    <tr>\n",
       "      <th>0</th>\n",
       "      <td>2023</td>\n",
       "      <td>3</td>\n",
       "      <td>29114</td>\n",
       "    </tr>\n",
       "    <tr>\n",
       "      <th>1</th>\n",
       "      <td>2023</td>\n",
       "      <td>4</td>\n",
       "      <td>33718</td>\n",
       "    </tr>\n",
       "    <tr>\n",
       "      <th>2</th>\n",
       "      <td>2023</td>\n",
       "      <td>5</td>\n",
       "      <td>43032</td>\n",
       "    </tr>\n",
       "    <tr>\n",
       "      <th>3</th>\n",
       "      <td>2023</td>\n",
       "      <td>6</td>\n",
       "      <td>63141</td>\n",
       "    </tr>\n",
       "    <tr>\n",
       "      <th>4</th>\n",
       "      <td>2023</td>\n",
       "      <td>7</td>\n",
       "      <td>81928</td>\n",
       "    </tr>\n",
       "  </tbody>\n",
       "</table>\n",
       "</div>"
      ],
      "text/plain": [
       "   year  month  visits\n",
       "0  2023      3   29114\n",
       "1  2023      4   33718\n",
       "2  2023      5   43032\n",
       "3  2023      6   63141\n",
       "4  2023      7   81928"
      ]
     },
     "execution_count": 18,
     "metadata": {},
     "output_type": "execute_result"
    }
   ],
   "source": [
    "visits_organic_months_df = visits_organic_df.groupby(['year', 'month']).size().reset_index(name = 'visits')\n",
    "visits_organic_months_df.head()"
   ]
  },
  {
   "cell_type": "code",
   "execution_count": 19,
   "id": "99092a09-5a12-433a-8ff4-1ed6e66e1baa",
   "metadata": {},
   "outputs": [
    {
     "data": {
      "image/png": "[encoded data removed]",
      "text/plain": [
       "<Figure size 1800x400 with 1 Axes>"
      ]
     },
     "metadata": {},
     "output_type": "display_data"
    }
   ],
   "source": [
    "plt.figure(figsize = (18, 4))\n",
    "sns.barplot(data = visits_organic_months_df, x = 'month', y = 'visits', hue = 'year')\n",
    "plt.title('Распределение посещений по месяцам', fontsize = 14)\n",
    "plt.show()"
   ]
  },
  {
   "cell_type": "code",
   "execution_count": 20,
   "id": "e4bd24ee-2430-4482-9edc-69acc2e892eb",
   "metadata": {},
   "outputs": [],
   "source": [
    "#из графика следует, что данные представлены не в полном объеме\n",
    "#из данных можно провести сравнительную оценку по годам только для месяцев: март, апрель, май, июнь"
   ]
  },
  {
   "cell_type": "code",
   "execution_count": 21,
   "id": "45162a1e-38dd-468c-b6ed-6f49c5325ba1",
   "metadata": {},
   "outputs": [
    {
     "data": {
      "text/html": [
       "<div>\n",
       "<style scoped>\n",
       "    .dataframe tbody tr th:only-of-type {\n",
       "        vertical-align: middle;\n",
       "    }\n",
       "\n",
       "    .dataframe tbody tr th {\n",
       "        vertical-align: top;\n",
       "    }\n",
       "\n",
       "    .dataframe thead th {\n",
       "        text-align: right;\n",
       "    }\n",
       "</style>\n",
       "<table border=\"1\" class=\"dataframe\">\n",
       "  <thead>\n",
       "    <tr style=\"text-align: right;\">\n",
       "      <th></th>\n",
       "      <th>year</th>\n",
       "      <th>visits</th>\n",
       "    </tr>\n",
       "  </thead>\n",
       "  <tbody>\n",
       "    <tr>\n",
       "      <th>0</th>\n",
       "      <td>2023</td>\n",
       "      <td>441914</td>\n",
       "    </tr>\n",
       "    <tr>\n",
       "      <th>1</th>\n",
       "      <td>2024</td>\n",
       "      <td>249968</td>\n",
       "    </tr>\n",
       "  </tbody>\n",
       "</table>\n",
       "</div>"
      ],
      "text/plain": [
       "   year  visits\n",
       "0  2023  441914\n",
       "1  2024  249968"
      ]
     },
     "execution_count": 21,
     "metadata": {},
     "output_type": "execute_result"
    }
   ],
   "source": [
    "visits_organic_years_df = visits_organic_df.groupby(['year']).size().reset_index(name = 'visits')\n",
    "visits_organic_years_df"
   ]
  },
  {
   "cell_type": "markdown",
   "id": "ae0e3a5c-19e0-4807-9f0b-fd6545c54e97",
   "metadata": {},
   "source": [
    "Количество посещений за период: март 2023 - июнь 2024"
   ]
  },
  {
   "cell_type": "code",
   "execution_count": 22,
   "id": "ae791838-bb77-46b6-bbab-0d3e6e955409",
   "metadata": {},
   "outputs": [
    {
     "data": {
      "text/plain": [
       "691882"
      ]
     },
     "execution_count": 22,
     "metadata": {},
     "output_type": "execute_result"
    }
   ],
   "source": [
    "visits = len(visits_organic_df)\n",
    "visits"
   ]
  },
  {
   "cell_type": "markdown",
   "id": "d6594729-bbda-4be0-92f6-799b346a38c0",
   "metadata": {},
   "source": [
    "Количество посещений за каждый месяц за период: март 2023 - июнь 2024"
   ]
  },
  {
   "cell_type": "code",
   "execution_count": 23,
   "id": "b97c04ab-566e-4538-9b96-566985b9a110",
   "metadata": {},
   "outputs": [],
   "source": [
    "visits_organic_months_df = visits_organic_df.groupby(['year', 'month']).size().reset_index(name = 'visits')"
   ]
  },
  {
   "cell_type": "code",
   "execution_count": 24,
   "id": "d64ee7bf-c5a9-499b-adf6-3a8369d08ca2",
   "metadata": {},
   "outputs": [
    {
     "data": {
      "text/html": [
       "<div>\n",
       "<style scoped>\n",
       "    .dataframe tbody tr th:only-of-type {\n",
       "        vertical-align: middle;\n",
       "    }\n",
       "\n",
       "    .dataframe tbody tr th {\n",
       "        vertical-align: top;\n",
       "    }\n",
       "\n",
       "    .dataframe thead th {\n",
       "        text-align: right;\n",
       "    }\n",
       "</style>\n",
       "<table border=\"1\" class=\"dataframe\">\n",
       "  <thead>\n",
       "    <tr style=\"text-align: right;\">\n",
       "      <th></th>\n",
       "      <th>year</th>\n",
       "      <th>month</th>\n",
       "      <th>visits</th>\n",
       "    </tr>\n",
       "  </thead>\n",
       "  <tbody>\n",
       "    <tr>\n",
       "      <th>0</th>\n",
       "      <td>2023</td>\n",
       "      <td>3</td>\n",
       "      <td>29114</td>\n",
       "    </tr>\n",
       "    <tr>\n",
       "      <th>1</th>\n",
       "      <td>2023</td>\n",
       "      <td>4</td>\n",
       "      <td>33718</td>\n",
       "    </tr>\n",
       "    <tr>\n",
       "      <th>2</th>\n",
       "      <td>2023</td>\n",
       "      <td>5</td>\n",
       "      <td>43032</td>\n",
       "    </tr>\n",
       "    <tr>\n",
       "      <th>3</th>\n",
       "      <td>2023</td>\n",
       "      <td>6</td>\n",
       "      <td>63141</td>\n",
       "    </tr>\n",
       "    <tr>\n",
       "      <th>4</th>\n",
       "      <td>2023</td>\n",
       "      <td>7</td>\n",
       "      <td>81928</td>\n",
       "    </tr>\n",
       "  </tbody>\n",
       "</table>\n",
       "</div>"
      ],
      "text/plain": [
       "   year  month  visits\n",
       "0  2023      3   29114\n",
       "1  2023      4   33718\n",
       "2  2023      5   43032\n",
       "3  2023      6   63141\n",
       "4  2023      7   81928"
      ]
     },
     "execution_count": 24,
     "metadata": {},
     "output_type": "execute_result"
    }
   ],
   "source": [
    "visits_organic_months_df.head()"
   ]
  },
  {
   "cell_type": "markdown",
   "id": "c0adcd44-f210-49d1-90e1-7f2f67a1b9af",
   "metadata": {},
   "source": [
    "Среднее количество посещений сервиса за период: март 2023 - июнь 2024"
   ]
  },
  {
   "cell_type": "code",
   "execution_count": 25,
   "id": "ad7052fe-484c-4fce-b17b-ea4f7d7031b0",
   "metadata": {},
   "outputs": [
    {
     "data": {
      "text/plain": [
       "43242.625"
      ]
     },
     "execution_count": 25,
     "metadata": {},
     "output_type": "execute_result"
    }
   ],
   "source": [
    "visits_organic_mean = visits_organic_months_df['visits'].mean()\n",
    "visits_organic_mean"
   ]
  },
  {
   "cell_type": "markdown",
   "id": "7ef64571-7e5f-4192-9e85-63571003a388",
   "metadata": {},
   "source": [
    "Стандартное отклонение"
   ]
  },
  {
   "cell_type": "code",
   "execution_count": 26,
   "id": "c208088c-754e-48c9-91ea-4a1ceda96c47",
   "metadata": {},
   "outputs": [
    {
     "data": {
      "text/plain": [
       "20384.627920322706"
      ]
     },
     "execution_count": 26,
     "metadata": {},
     "output_type": "execute_result"
    }
   ],
   "source": [
    "visits_organic_std = visits_organic_months_df['visits'].std(ddof = 1)\n",
    "visits_organic_std"
   ]
  },
  {
   "cell_type": "markdown",
   "id": "39708fd6-7f9c-4d8f-b4ff-4567413fbc6c",
   "metadata": {},
   "source": [
    "Z-значение для 95% доверительного интервала"
   ]
  },
  {
   "cell_type": "code",
   "execution_count": 27,
   "id": "5dc1b2c5-73ef-4107-922b-c8cb56f02e9e",
   "metadata": {},
   "outputs": [],
   "source": [
    "z = 1.96"
   ]
  },
  {
   "cell_type": "markdown",
   "id": "4793f5a1-5f37-41c3-9669-12eeea4a7c11",
   "metadata": {},
   "source": [
    "Количество наблюдений"
   ]
  },
  {
   "cell_type": "code",
   "execution_count": 28,
   "id": "96211f87-bd21-4c22-8ba9-d34238056070",
   "metadata": {},
   "outputs": [
    {
     "data": {
      "text/plain": [
       "16"
      ]
     },
     "execution_count": 28,
     "metadata": {},
     "output_type": "execute_result"
    }
   ],
   "source": [
    "n = len(visits_organic_months_df)\n",
    "n"
   ]
  },
  {
   "cell_type": "markdown",
   "id": "58cefd1b-27d6-47c4-9567-99eb8af8639e",
   "metadata": {},
   "source": [
    "Найдем доверительный интервал для среднего"
   ]
  },
  {
   "cell_type": "code",
   "execution_count": 29,
   "id": "2a4288d7-1c84-4272-9d4f-ccea19043fd2",
   "metadata": {},
   "outputs": [
    {
     "name": "stdout",
     "output_type": "stream",
     "text": [
      "Среднее количество посещений по всем имеющимся месяцам: 43242.62\n",
      "95% доверительный интервал: [33254.16, 53231.09]\n"
     ]
    }
   ],
   "source": [
    "ci_lower = visits_organic_mean - z * (visits_organic_std / np.sqrt(n))\n",
    "ci_upper = visits_organic_mean + z * (visits_organic_std / np.sqrt(n))\n",
    "\n",
    "print(f\"Среднее количество посещений по всем имеющимся месяцам: {round(visits_organic_mean, 2)}\")\n",
    "print(f\"95% доверительный интервал: [{round(ci_lower, 2)}, {round(ci_upper, 2)}]\")"
   ]
  },
  {
   "cell_type": "code",
   "execution_count": 30,
   "id": "c32e0d5b-9fc5-4264-b08a-a053f02f8915",
   "metadata": {},
   "outputs": [],
   "source": [
    "# С 95% вероятностью истинное среднее значение посещений лежит в этом диапазоне, даже с учётом того, что некоторые месяцы отсутствуют"
   ]
  },
  {
   "cell_type": "markdown",
   "id": "d60aa33e-7bf8-404a-80ee-51d533bf4d31",
   "metadata": {},
   "source": [
    "Сравнительный анализ данных"
   ]
  },
  {
   "cell_type": "code",
   "execution_count": 31,
   "id": "bf8bca66-d1aa-466f-b264-470e651630f2",
   "metadata": {},
   "outputs": [],
   "source": [
    "#для сравнительного анализа по годам возможна оценка только по месяцам: март, апрель, май, июнь"
   ]
  },
  {
   "cell_type": "code",
   "execution_count": 32,
   "id": "f09aa120-79cc-4ca6-b4ad-0fa04e24468a",
   "metadata": {},
   "outputs": [
    {
     "data": {
      "text/html": [
       "<div>\n",
       "<style scoped>\n",
       "    .dataframe tbody tr th:only-of-type {\n",
       "        vertical-align: middle;\n",
       "    }\n",
       "\n",
       "    .dataframe tbody tr th {\n",
       "        vertical-align: top;\n",
       "    }\n",
       "\n",
       "    .dataframe thead th {\n",
       "        text-align: right;\n",
       "    }\n",
       "</style>\n",
       "<table border=\"1\" class=\"dataframe\">\n",
       "  <thead>\n",
       "    <tr style=\"text-align: right;\">\n",
       "      <th></th>\n",
       "      <th>id</th>\n",
       "      <th>utm_medium</th>\n",
       "      <th>device_type</th>\n",
       "      <th>utm_source</th>\n",
       "      <th>browser</th>\n",
       "      <th>year</th>\n",
       "      <th>month</th>\n",
       "      <th>day</th>\n",
       "      <th>hour</th>\n",
       "    </tr>\n",
       "  </thead>\n",
       "  <tbody>\n",
       "    <tr>\n",
       "      <th>1</th>\n",
       "      <td>277323126</td>\n",
       "      <td>organic</td>\n",
       "      <td>Tablet</td>\n",
       "      <td>yandex</td>\n",
       "      <td>Yandex Browser</td>\n",
       "      <td>2023</td>\n",
       "      <td>3</td>\n",
       "      <td>1</td>\n",
       "      <td>6</td>\n",
       "    </tr>\n",
       "    <tr>\n",
       "      <th>3</th>\n",
       "      <td>277340573</td>\n",
       "      <td>organic</td>\n",
       "      <td>Desktop</td>\n",
       "      <td>google</td>\n",
       "      <td>Chrome</td>\n",
       "      <td>2023</td>\n",
       "      <td>3</td>\n",
       "      <td>1</td>\n",
       "      <td>7</td>\n",
       "    </tr>\n",
       "    <tr>\n",
       "      <th>6</th>\n",
       "      <td>277357036</td>\n",
       "      <td>organic</td>\n",
       "      <td>Tablet</td>\n",
       "      <td>yandex</td>\n",
       "      <td>Chrome</td>\n",
       "      <td>2023</td>\n",
       "      <td>3</td>\n",
       "      <td>1</td>\n",
       "      <td>8</td>\n",
       "    </tr>\n",
       "    <tr>\n",
       "      <th>7</th>\n",
       "      <td>277362728</td>\n",
       "      <td>organic</td>\n",
       "      <td>Phablet</td>\n",
       "      <td>google</td>\n",
       "      <td>Samsung Browser</td>\n",
       "      <td>2023</td>\n",
       "      <td>3</td>\n",
       "      <td>1</td>\n",
       "      <td>8</td>\n",
       "    </tr>\n",
       "    <tr>\n",
       "      <th>8</th>\n",
       "      <td>277363899</td>\n",
       "      <td>organic</td>\n",
       "      <td>Mobile</td>\n",
       "      <td>google</td>\n",
       "      <td>Chrome Mobile</td>\n",
       "      <td>2023</td>\n",
       "      <td>3</td>\n",
       "      <td>1</td>\n",
       "      <td>9</td>\n",
       "    </tr>\n",
       "  </tbody>\n",
       "</table>\n",
       "</div>"
      ],
      "text/plain": [
       "          id utm_medium device_type utm_source          browser  year  month  \\\n",
       "1  277323126    organic      Tablet     yandex   Yandex Browser  2023      3   \n",
       "3  277340573    organic     Desktop     google           Chrome  2023      3   \n",
       "6  277357036    organic      Tablet     yandex           Chrome  2023      3   \n",
       "7  277362728    organic     Phablet     google  Samsung Browser  2023      3   \n",
       "8  277363899    organic      Mobile     google    Chrome Mobile  2023      3   \n",
       "\n",
       "   day  hour  \n",
       "1    1     6  \n",
       "3    1     7  \n",
       "6    1     8  \n",
       "7    1     8  \n",
       "8    1     9  "
      ]
     },
     "execution_count": 32,
     "metadata": {},
     "output_type": "execute_result"
    }
   ],
   "source": [
    "visits_organic_commons_df = visits_organic_df[(visits_organic_df['month'] == 3) | (visits_organic_df['month'] == 4) | (visits_organic_df['month'] == 5) | (visits_organic_df['month'] == 6)]\n",
    "visits_organic_commons_df.head()"
   ]
  },
  {
   "cell_type": "markdown",
   "id": "83d6593c-7c93-4d3f-8cb3-00081f6525cc",
   "metadata": {},
   "source": [
    "Среднее количество посещений март - июнь (2023 - 2024)"
   ]
  },
  {
   "cell_type": "code",
   "execution_count": 33,
   "id": "5e81c410-3398-4224-a0cd-b1bbb3652ee0",
   "metadata": {},
   "outputs": [
    {
     "data": {
      "text/html": [
       "<div>\n",
       "<style scoped>\n",
       "    .dataframe tbody tr th:only-of-type {\n",
       "        vertical-align: middle;\n",
       "    }\n",
       "\n",
       "    .dataframe tbody tr th {\n",
       "        vertical-align: top;\n",
       "    }\n",
       "\n",
       "    .dataframe thead th {\n",
       "        text-align: right;\n",
       "    }\n",
       "</style>\n",
       "<table border=\"1\" class=\"dataframe\">\n",
       "  <thead>\n",
       "    <tr style=\"text-align: right;\">\n",
       "      <th></th>\n",
       "      <th>month</th>\n",
       "      <th>year</th>\n",
       "      <th>visits</th>\n",
       "    </tr>\n",
       "  </thead>\n",
       "  <tbody>\n",
       "    <tr>\n",
       "      <th>0</th>\n",
       "      <td>3</td>\n",
       "      <td>2023</td>\n",
       "      <td>29114</td>\n",
       "    </tr>\n",
       "    <tr>\n",
       "      <th>1</th>\n",
       "      <td>3</td>\n",
       "      <td>2024</td>\n",
       "      <td>34668</td>\n",
       "    </tr>\n",
       "    <tr>\n",
       "      <th>2</th>\n",
       "      <td>4</td>\n",
       "      <td>2023</td>\n",
       "      <td>33718</td>\n",
       "    </tr>\n",
       "    <tr>\n",
       "      <th>3</th>\n",
       "      <td>4</td>\n",
       "      <td>2024</td>\n",
       "      <td>41053</td>\n",
       "    </tr>\n",
       "    <tr>\n",
       "      <th>4</th>\n",
       "      <td>5</td>\n",
       "      <td>2023</td>\n",
       "      <td>43032</td>\n",
       "    </tr>\n",
       "  </tbody>\n",
       "</table>\n",
       "</div>"
      ],
      "text/plain": [
       "   month  year  visits\n",
       "0      3  2023   29114\n",
       "1      3  2024   34668\n",
       "2      4  2023   33718\n",
       "3      4  2024   41053\n",
       "4      5  2023   43032"
      ]
     },
     "execution_count": 33,
     "metadata": {},
     "output_type": "execute_result"
    }
   ],
   "source": [
    "visits_organic_commons_months_df = visits_organic_commons_df.groupby(['month', 'year']).size().reset_index(name = 'visits')\n",
    "visits_organic_commons_months_df.head()"
   ]
  },
  {
   "cell_type": "code",
   "execution_count": 34,
   "id": "d0c1b0f2-6478-453d-b726-0d4ae28e574e",
   "metadata": {},
   "outputs": [
    {
     "name": "stdout",
     "output_type": "stream",
     "text": [
      "Среднее количество посещений март-июнь (2023 - 2024): 45597.0\n"
     ]
    }
   ],
   "source": [
    "visits_organic_commons_months_mean = visits_organic_commons_months_df['visits'].mean()\n",
    "print(f\"Среднее количество посещений март-июнь (2023 - 2024): {(visits_organic_commons_months_mean)}\")"
   ]
  },
  {
   "cell_type": "markdown",
   "id": "556f1e0f-f3e0-4766-bce4-73625116e582",
   "metadata": {},
   "source": [
    "Распределение посещений по часам"
   ]
  },
  {
   "cell_type": "code",
   "execution_count": 35,
   "id": "15ba8cf5-310c-43ab-b808-45d702862262",
   "metadata": {},
   "outputs": [
    {
     "data": {
      "text/html": [
       "<div>\n",
       "<style scoped>\n",
       "    .dataframe tbody tr th:only-of-type {\n",
       "        vertical-align: middle;\n",
       "    }\n",
       "\n",
       "    .dataframe tbody tr th {\n",
       "        vertical-align: top;\n",
       "    }\n",
       "\n",
       "    .dataframe thead th {\n",
       "        text-align: right;\n",
       "    }\n",
       "</style>\n",
       "<table border=\"1\" class=\"dataframe\">\n",
       "  <thead>\n",
       "    <tr style=\"text-align: right;\">\n",
       "      <th></th>\n",
       "      <th>hour</th>\n",
       "      <th>year</th>\n",
       "      <th>visits</th>\n",
       "    </tr>\n",
       "  </thead>\n",
       "  <tbody>\n",
       "    <tr>\n",
       "      <th>0</th>\n",
       "      <td>0</td>\n",
       "      <td>2023</td>\n",
       "      <td>3062</td>\n",
       "    </tr>\n",
       "    <tr>\n",
       "      <th>1</th>\n",
       "      <td>0</td>\n",
       "      <td>2024</td>\n",
       "      <td>3581</td>\n",
       "    </tr>\n",
       "    <tr>\n",
       "      <th>2</th>\n",
       "      <td>1</td>\n",
       "      <td>2023</td>\n",
       "      <td>1572</td>\n",
       "    </tr>\n",
       "    <tr>\n",
       "      <th>3</th>\n",
       "      <td>1</td>\n",
       "      <td>2024</td>\n",
       "      <td>1929</td>\n",
       "    </tr>\n",
       "    <tr>\n",
       "      <th>4</th>\n",
       "      <td>2</td>\n",
       "      <td>2023</td>\n",
       "      <td>972</td>\n",
       "    </tr>\n",
       "  </tbody>\n",
       "</table>\n",
       "</div>"
      ],
      "text/plain": [
       "   hour  year  visits\n",
       "0     0  2023    3062\n",
       "1     0  2024    3581\n",
       "2     1  2023    1572\n",
       "3     1  2024    1929\n",
       "4     2  2023     972"
      ]
     },
     "execution_count": 35,
     "metadata": {},
     "output_type": "execute_result"
    }
   ],
   "source": [
    "visits_organic_hours_df = visits_organic_commons_df.groupby(['hour', 'year']).size().reset_index(name = 'visits')\n",
    "visits_organic_hours_df.head()"
   ]
  },
  {
   "cell_type": "code",
   "execution_count": 36,
   "id": "c3187b32-53f1-40c2-afc3-7ddf36c12640",
   "metadata": {},
   "outputs": [
    {
     "data": {
      "image/png": "[encoded data removed]",
      "text/plain": [
       "<Figure size 1800x400 with 1 Axes>"
      ]
     },
     "metadata": {},
     "output_type": "display_data"
    }
   ],
   "source": [
    "plt.figure(figsize = (18, 4))\n",
    "sns.barplot(data = visits_organic_hours_df, x = 'hour', y = 'visits', hue = 'year')\n",
    "plt.title('Распределение посещений по часам', fontsize = 14)\n",
    "plt.show()"
   ]
  },
  {
   "cell_type": "markdown",
   "id": "435d5573-481b-4359-85ff-151eabb6badf",
   "metadata": {},
   "source": [
    "Распределение посещений по типам устройств"
   ]
  },
  {
   "cell_type": "code",
   "execution_count": 37,
   "id": "104b9a15-712d-4290-a653-30210f792495",
   "metadata": {},
   "outputs": [
    {
     "data": {
      "text/html": [
       "<div>\n",
       "<style scoped>\n",
       "    .dataframe tbody tr th:only-of-type {\n",
       "        vertical-align: middle;\n",
       "    }\n",
       "\n",
       "    .dataframe tbody tr th {\n",
       "        vertical-align: top;\n",
       "    }\n",
       "\n",
       "    .dataframe thead th {\n",
       "        text-align: right;\n",
       "    }\n",
       "</style>\n",
       "<table border=\"1\" class=\"dataframe\">\n",
       "  <thead>\n",
       "    <tr style=\"text-align: right;\">\n",
       "      <th></th>\n",
       "      <th>year</th>\n",
       "      <th>device_type</th>\n",
       "      <th>visits</th>\n",
       "    </tr>\n",
       "  </thead>\n",
       "  <tbody>\n",
       "    <tr>\n",
       "      <th>0</th>\n",
       "      <td>2023</td>\n",
       "      <td>Desktop</td>\n",
       "      <td>24436</td>\n",
       "    </tr>\n",
       "    <tr>\n",
       "      <th>1</th>\n",
       "      <td>2023</td>\n",
       "      <td>Mobile</td>\n",
       "      <td>128206</td>\n",
       "    </tr>\n",
       "    <tr>\n",
       "      <th>2</th>\n",
       "      <td>2023</td>\n",
       "      <td>Phablet</td>\n",
       "      <td>5009</td>\n",
       "    </tr>\n",
       "    <tr>\n",
       "      <th>3</th>\n",
       "      <td>2023</td>\n",
       "      <td>TV</td>\n",
       "      <td>19</td>\n",
       "    </tr>\n",
       "    <tr>\n",
       "      <th>4</th>\n",
       "      <td>2023</td>\n",
       "      <td>Tablet</td>\n",
       "      <td>11333</td>\n",
       "    </tr>\n",
       "  </tbody>\n",
       "</table>\n",
       "</div>"
      ],
      "text/plain": [
       "   year device_type  visits\n",
       "0  2023     Desktop   24436\n",
       "1  2023      Mobile  128206\n",
       "2  2023     Phablet    5009\n",
       "3  2023          TV      19\n",
       "4  2023      Tablet   11333"
      ]
     },
     "execution_count": 37,
     "metadata": {},
     "output_type": "execute_result"
    }
   ],
   "source": [
    "visits_organic_device_types_df = visits_organic_commons_df.groupby(['year', 'device_type']).size().reset_index(name = 'visits')\n",
    "visits_organic_device_types_df.head()"
   ]
  },
  {
   "cell_type": "code",
   "execution_count": 38,
   "id": "c11f4daa-9eb0-4555-b5aa-a256ec014d4b",
   "metadata": {},
   "outputs": [
    {
     "data": {
      "image/png": "[encoded data removed]",
      "text/plain": [
       "<Figure size 1800x400 with 1 Axes>"
      ]
     },
     "metadata": {},
     "output_type": "display_data"
    }
   ],
   "source": [
    "plt.figure(figsize = (18, 4))\n",
    "sns.barplot(data = visits_organic_device_types_df, x = 'device_type', y = 'visits', hue = 'year')\n",
    "plt.title('Распределение посещений по типам устройств', fontsize = 14)\n",
    "plt.show()"
   ]
  },
  {
   "cell_type": "markdown",
   "id": "691d1de9-ae3c-4543-b71c-866ac62aae0d",
   "metadata": {},
   "source": [
    "Распределение посещений по браузерам"
   ]
  },
  {
   "cell_type": "code",
   "execution_count": 39,
   "id": "da9f2d98-05f1-477f-899f-8b80b1af0748",
   "metadata": {},
   "outputs": [
    {
     "data": {
      "text/html": [
       "<div>\n",
       "<style scoped>\n",
       "    .dataframe tbody tr th:only-of-type {\n",
       "        vertical-align: middle;\n",
       "    }\n",
       "\n",
       "    .dataframe tbody tr th {\n",
       "        vertical-align: top;\n",
       "    }\n",
       "\n",
       "    .dataframe thead th {\n",
       "        text-align: right;\n",
       "    }\n",
       "</style>\n",
       "<table border=\"1\" class=\"dataframe\">\n",
       "  <thead>\n",
       "    <tr style=\"text-align: right;\">\n",
       "      <th></th>\n",
       "      <th>browser</th>\n",
       "      <th>year</th>\n",
       "      <th>visits</th>\n",
       "    </tr>\n",
       "  </thead>\n",
       "  <tbody>\n",
       "    <tr>\n",
       "      <th>0</th>\n",
       "      <td>Aloha Browser</td>\n",
       "      <td>2023</td>\n",
       "      <td>3</td>\n",
       "    </tr>\n",
       "    <tr>\n",
       "      <th>1</th>\n",
       "      <td>Aloha Browser</td>\n",
       "      <td>2024</td>\n",
       "      <td>1</td>\n",
       "    </tr>\n",
       "    <tr>\n",
       "      <th>2</th>\n",
       "      <td>Amigo</td>\n",
       "      <td>2023</td>\n",
       "      <td>4</td>\n",
       "    </tr>\n",
       "    <tr>\n",
       "      <th>3</th>\n",
       "      <td>Amigo</td>\n",
       "      <td>2024</td>\n",
       "      <td>2</td>\n",
       "    </tr>\n",
       "    <tr>\n",
       "      <th>4</th>\n",
       "      <td>Android Browser</td>\n",
       "      <td>2023</td>\n",
       "      <td>2</td>\n",
       "    </tr>\n",
       "  </tbody>\n",
       "</table>\n",
       "</div>"
      ],
      "text/plain": [
       "           browser  year  visits\n",
       "0    Aloha Browser  2023       3\n",
       "1    Aloha Browser  2024       1\n",
       "2            Amigo  2023       4\n",
       "3            Amigo  2024       2\n",
       "4  Android Browser  2023       2"
      ]
     },
     "execution_count": 39,
     "metadata": {},
     "output_type": "execute_result"
    }
   ],
   "source": [
    "visits_organic_browsers_df = visits_organic_commons_df.groupby(['browser', 'year']).size().reset_index(name = 'visits')\n",
    "visits_organic_browsers_df.head()"
   ]
  },
  {
   "cell_type": "code",
   "execution_count": 40,
   "id": "e5db5213-9501-483e-8399-b2908c663569",
   "metadata": {},
   "outputs": [
    {
     "data": {
      "text/plain": [
       "47"
      ]
     },
     "execution_count": 40,
     "metadata": {},
     "output_type": "execute_result"
    }
   ],
   "source": [
    "visits_organic_browsers_df['browser'].nunique()"
   ]
  },
  {
   "cell_type": "code",
   "execution_count": 41,
   "id": "46dc27eb-afd2-4ea1-bfdc-4de9645413e0",
   "metadata": {},
   "outputs": [
    {
     "data": {
      "text/html": [
       "<div>\n",
       "<style scoped>\n",
       "    .dataframe tbody tr th:only-of-type {\n",
       "        vertical-align: middle;\n",
       "    }\n",
       "\n",
       "    .dataframe tbody tr th {\n",
       "        vertical-align: top;\n",
       "    }\n",
       "\n",
       "    .dataframe thead th {\n",
       "        text-align: right;\n",
       "    }\n",
       "</style>\n",
       "<table border=\"1\" class=\"dataframe\">\n",
       "  <thead>\n",
       "    <tr style=\"text-align: right;\">\n",
       "      <th></th>\n",
       "      <th>browser</th>\n",
       "      <th>year</th>\n",
       "      <th>visits</th>\n",
       "    </tr>\n",
       "  </thead>\n",
       "  <tbody>\n",
       "    <tr>\n",
       "      <th>11</th>\n",
       "      <td>Chrome Mobile</td>\n",
       "      <td>2024</td>\n",
       "      <td>75100</td>\n",
       "    </tr>\n",
       "    <tr>\n",
       "      <th>10</th>\n",
       "      <td>Chrome Mobile</td>\n",
       "      <td>2023</td>\n",
       "      <td>52836</td>\n",
       "    </tr>\n",
       "    <tr>\n",
       "      <th>55</th>\n",
       "      <td>Mobile Safari</td>\n",
       "      <td>2024</td>\n",
       "      <td>43779</td>\n",
       "    </tr>\n",
       "    <tr>\n",
       "      <th>54</th>\n",
       "      <td>Mobile Safari</td>\n",
       "      <td>2023</td>\n",
       "      <td>39847</td>\n",
       "    </tr>\n",
       "    <tr>\n",
       "      <th>8</th>\n",
       "      <td>Chrome</td>\n",
       "      <td>2023</td>\n",
       "      <td>30387</td>\n",
       "    </tr>\n",
       "    <tr>\n",
       "      <th>9</th>\n",
       "      <td>Chrome</td>\n",
       "      <td>2024</td>\n",
       "      <td>30356</td>\n",
       "    </tr>\n",
       "    <tr>\n",
       "      <th>78</th>\n",
       "      <td>Yandex Browser</td>\n",
       "      <td>2024</td>\n",
       "      <td>28894</td>\n",
       "    </tr>\n",
       "    <tr>\n",
       "      <th>77</th>\n",
       "      <td>Yandex Browser</td>\n",
       "      <td>2023</td>\n",
       "      <td>27260</td>\n",
       "    </tr>\n",
       "    <tr>\n",
       "      <th>32</th>\n",
       "      <td>Google Search App</td>\n",
       "      <td>2024</td>\n",
       "      <td>3930</td>\n",
       "    </tr>\n",
       "    <tr>\n",
       "      <th>13</th>\n",
       "      <td>Chrome Mobile iOS</td>\n",
       "      <td>2024</td>\n",
       "      <td>3751</td>\n",
       "    </tr>\n",
       "    <tr>\n",
       "      <th>31</th>\n",
       "      <td>Google Search App</td>\n",
       "      <td>2023</td>\n",
       "      <td>3256</td>\n",
       "    </tr>\n",
       "    <tr>\n",
       "      <th>12</th>\n",
       "      <td>Chrome Mobile iOS</td>\n",
       "      <td>2023</td>\n",
       "      <td>3234</td>\n",
       "    </tr>\n",
       "  </tbody>\n",
       "</table>\n",
       "</div>"
      ],
      "text/plain": [
       "              browser  year  visits\n",
       "11      Chrome Mobile  2024   75100\n",
       "10      Chrome Mobile  2023   52836\n",
       "55      Mobile Safari  2024   43779\n",
       "54      Mobile Safari  2023   39847\n",
       "8              Chrome  2023   30387\n",
       "9              Chrome  2024   30356\n",
       "78     Yandex Browser  2024   28894\n",
       "77     Yandex Browser  2023   27260\n",
       "32  Google Search App  2024    3930\n",
       "13  Chrome Mobile iOS  2024    3751\n",
       "31  Google Search App  2023    3256\n",
       "12  Chrome Mobile iOS  2023    3234"
      ]
     },
     "execution_count": 41,
     "metadata": {},
     "output_type": "execute_result"
    }
   ],
   "source": [
    "visits_organic_browsers_df = visits_organic_browsers_df.sort_values(by = ['visits'], ascending = False)[:12]\n",
    "visits_organic_browsers_df"
   ]
  },
  {
   "cell_type": "code",
   "execution_count": 42,
   "id": "da48f5dd-bf0c-4a95-8370-c320ed44908e",
   "metadata": {},
   "outputs": [
    {
     "data": {
      "image/png": "[encoded data removed]",
      "text/plain": [
       "<Figure size 1800x400 with 1 Axes>"
      ]
     },
     "metadata": {},
     "output_type": "display_data"
    }
   ],
   "source": [
    "plt.figure(figsize = (18, 4))\n",
    "sns.barplot(data = visits_organic_browsers_df, x = 'browser', y = 'visits', hue = 'year')\n",
    "plt.title('Распределение посещений по браузерам', fontsize = 14)\n",
    "plt.show()"
   ]
  },
  {
   "cell_type": "markdown",
   "id": "64f630f6-28b3-46c3-bfdf-9632230285f9",
   "metadata": {},
   "source": [
    "#### b.\tОбъясни, как именно они помогают оценить эффективность"
   ]
  },
  {
   "cell_type": "markdown",
   "id": "26f98928-810a-465f-999d-da7c1bebe8fa",
   "metadata": {},
   "source": [
    "- Распределение посещений по месяцам - показывает сезонность и тренды органического трафика;\n",
    "- Количество посещений - даёт базовую оценку масштаба канала;\n",
    "- Среднее количество посещений - усреднённый показатель активности; \n",
    "- Доверительный интервал среднего показателя по посещениям - показывает надёжность среднего значения и разброс трафика;\n",
    "- Распределение посещений по часам - определяет, в какое время пользователи чаще приходят;\n",
    "- Распределение посещений по устройствам - помогает оптимизировать продукт (сайт, приложение) под наиболее используемые устройства;\n",
    "- Распределение посещений по браузерам - полезно для технической оптимизации, чтобы сайт корректно работал в популярных браузерах."
   ]
  },
  {
   "cell_type": "markdown",
   "id": "368f7d12-5dd7-4eca-bbe5-f0ff516a1c42",
   "metadata": {},
   "source": [
    "#### c.\tКакой месяц был самый удачный для этого канала, а какой самый неудачный?"
   ]
  },
  {
   "cell_type": "code",
   "execution_count": 43,
   "id": "6781d8f5-f5dd-4d9c-be29-d6e8522f6a3b",
   "metadata": {},
   "outputs": [
    {
     "data": {
      "text/html": [
       "<div>\n",
       "<style scoped>\n",
       "    .dataframe tbody tr th:only-of-type {\n",
       "        vertical-align: middle;\n",
       "    }\n",
       "\n",
       "    .dataframe tbody tr th {\n",
       "        vertical-align: top;\n",
       "    }\n",
       "\n",
       "    .dataframe thead th {\n",
       "        text-align: right;\n",
       "    }\n",
       "</style>\n",
       "<table border=\"1\" class=\"dataframe\">\n",
       "  <thead>\n",
       "    <tr style=\"text-align: right;\">\n",
       "      <th></th>\n",
       "      <th>year</th>\n",
       "      <th>month</th>\n",
       "      <th>visits</th>\n",
       "    </tr>\n",
       "  </thead>\n",
       "  <tbody>\n",
       "    <tr>\n",
       "      <th>0</th>\n",
       "      <td>2023</td>\n",
       "      <td>3</td>\n",
       "      <td>29114</td>\n",
       "    </tr>\n",
       "    <tr>\n",
       "      <th>1</th>\n",
       "      <td>2023</td>\n",
       "      <td>4</td>\n",
       "      <td>33718</td>\n",
       "    </tr>\n",
       "    <tr>\n",
       "      <th>2</th>\n",
       "      <td>2023</td>\n",
       "      <td>5</td>\n",
       "      <td>43032</td>\n",
       "    </tr>\n",
       "    <tr>\n",
       "      <th>3</th>\n",
       "      <td>2023</td>\n",
       "      <td>6</td>\n",
       "      <td>63141</td>\n",
       "    </tr>\n",
       "    <tr>\n",
       "      <th>4</th>\n",
       "      <td>2023</td>\n",
       "      <td>7</td>\n",
       "      <td>81928</td>\n",
       "    </tr>\n",
       "  </tbody>\n",
       "</table>\n",
       "</div>"
      ],
      "text/plain": [
       "   year  month  visits\n",
       "0  2023      3   29114\n",
       "1  2023      4   33718\n",
       "2  2023      5   43032\n",
       "3  2023      6   63141\n",
       "4  2023      7   81928"
      ]
     },
     "execution_count": 43,
     "metadata": {},
     "output_type": "execute_result"
    }
   ],
   "source": [
    "visits_organic_months_df = visits_organic_df.groupby(['year', 'month']).size().reset_index(name = 'visits')\n",
    "visits_organic_months_df.head()"
   ]
  },
  {
   "cell_type": "code",
   "execution_count": 44,
   "id": "75d78ca2-7c9e-45a4-9864-36aa148767bf",
   "metadata": {},
   "outputs": [
    {
     "data": {
      "image/png": "[encoded data removed]",
      "text/plain": [
       "<Figure size 1800x400 with 1 Axes>"
      ]
     },
     "metadata": {},
     "output_type": "display_data"
    }
   ],
   "source": [
    "plt.figure(figsize = (18, 4))\n",
    "sns.barplot(data = visits_organic_months_df, x = 'month', y = 'visits', hue = 'year')\n",
    "plt.title('Распределение посещений по месяцам', fontsize = 14)\n",
    "plt.show()"
   ]
  },
  {
   "cell_type": "code",
   "execution_count": 45,
   "id": "b619f737-496a-4233-a999-0a3bf6967403",
   "metadata": {},
   "outputs": [
    {
     "name": "stdout",
     "output_type": "stream",
     "text": [
      "Самый удачный месяц 7\n",
      "Год: 2023\n",
      "Число посещений: 81928\n"
     ]
    }
   ],
   "source": [
    "visits_organic_best = visits_organic_months_df['visits'].max()\n",
    "\n",
    "visits_organic_best_month = visits_organic_months_df[visits_organic_months_df['visits'] == visits_organic_best]\n",
    "visits_organic_best_month\n",
    "\n",
    "print(f'Самый удачный месяц {visits_organic_best_month['month'].values[0]}')\n",
    "print(f'Год: {visits_organic_best_month['year'].values[0]}')\n",
    "print(f'Число посещений: {visits_organic_best_month['visits'].values[0]}')"
   ]
  },
  {
   "cell_type": "code",
   "execution_count": 46,
   "id": "a18eaa73-6020-48b7-b427-4779fdf4cb5a",
   "metadata": {},
   "outputs": [
    {
     "name": "stdout",
     "output_type": "stream",
     "text": [
      "Самый неудачный месяц 12\n",
      "Год: 2023\n",
      "Число посещений: 13829\n"
     ]
    }
   ],
   "source": [
    "visits_organic_worst = visits_organic_months_df['visits'].min()\n",
    "\n",
    "visits_organic_worst_month = visits_organic_months_df[visits_organic_months_df['visits'] == visits_organic_worst]\n",
    "visits_organic_worst_month\n",
    "\n",
    "print(f'Самый неудачный месяц {visits_organic_worst_month['month'].values[0]}')\n",
    "print(f'Год: {visits_organic_worst_month['year'].values[0]}')\n",
    "print(f'Число посещений: {visits_organic_worst_month['visits'].values[0]}')"
   ]
  },
  {
   "cell_type": "markdown",
   "id": "2da1c87d-6ffc-4ef0-96de-1589099a7530",
   "metadata": {},
   "source": [
    "### 3.\tПрогноз посещений для органического канала трафика для июля-сентября 2024 года."
   ]
  },
  {
   "cell_type": "code",
   "execution_count": 47,
   "id": "25f2fbbe-059a-48b3-8ec3-b8826f613965",
   "metadata": {},
   "outputs": [],
   "source": [
    "#оценка измененений по годам"
   ]
  },
  {
   "cell_type": "code",
   "execution_count": 48,
   "id": "11081ae6-2f23-4074-b39a-876b741e440f",
   "metadata": {},
   "outputs": [
    {
     "data": {
      "text/html": [
       "<div>\n",
       "<style scoped>\n",
       "    .dataframe tbody tr th:only-of-type {\n",
       "        vertical-align: middle;\n",
       "    }\n",
       "\n",
       "    .dataframe tbody tr th {\n",
       "        vertical-align: top;\n",
       "    }\n",
       "\n",
       "    .dataframe thead th {\n",
       "        text-align: right;\n",
       "    }\n",
       "</style>\n",
       "<table border=\"1\" class=\"dataframe\">\n",
       "  <thead>\n",
       "    <tr style=\"text-align: right;\">\n",
       "      <th></th>\n",
       "      <th>id</th>\n",
       "      <th>utm_medium</th>\n",
       "      <th>device_type</th>\n",
       "      <th>utm_source</th>\n",
       "      <th>browser</th>\n",
       "      <th>year</th>\n",
       "      <th>month</th>\n",
       "      <th>day</th>\n",
       "      <th>hour</th>\n",
       "    </tr>\n",
       "  </thead>\n",
       "  <tbody>\n",
       "    <tr>\n",
       "      <th>1</th>\n",
       "      <td>277323126</td>\n",
       "      <td>organic</td>\n",
       "      <td>Tablet</td>\n",
       "      <td>yandex</td>\n",
       "      <td>Yandex Browser</td>\n",
       "      <td>2023</td>\n",
       "      <td>3</td>\n",
       "      <td>1</td>\n",
       "      <td>6</td>\n",
       "    </tr>\n",
       "    <tr>\n",
       "      <th>3</th>\n",
       "      <td>277340573</td>\n",
       "      <td>organic</td>\n",
       "      <td>Desktop</td>\n",
       "      <td>google</td>\n",
       "      <td>Chrome</td>\n",
       "      <td>2023</td>\n",
       "      <td>3</td>\n",
       "      <td>1</td>\n",
       "      <td>7</td>\n",
       "    </tr>\n",
       "    <tr>\n",
       "      <th>6</th>\n",
       "      <td>277357036</td>\n",
       "      <td>organic</td>\n",
       "      <td>Tablet</td>\n",
       "      <td>yandex</td>\n",
       "      <td>Chrome</td>\n",
       "      <td>2023</td>\n",
       "      <td>3</td>\n",
       "      <td>1</td>\n",
       "      <td>8</td>\n",
       "    </tr>\n",
       "    <tr>\n",
       "      <th>7</th>\n",
       "      <td>277362728</td>\n",
       "      <td>organic</td>\n",
       "      <td>Phablet</td>\n",
       "      <td>google</td>\n",
       "      <td>Samsung Browser</td>\n",
       "      <td>2023</td>\n",
       "      <td>3</td>\n",
       "      <td>1</td>\n",
       "      <td>8</td>\n",
       "    </tr>\n",
       "    <tr>\n",
       "      <th>8</th>\n",
       "      <td>277363899</td>\n",
       "      <td>organic</td>\n",
       "      <td>Mobile</td>\n",
       "      <td>google</td>\n",
       "      <td>Chrome Mobile</td>\n",
       "      <td>2023</td>\n",
       "      <td>3</td>\n",
       "      <td>1</td>\n",
       "      <td>9</td>\n",
       "    </tr>\n",
       "  </tbody>\n",
       "</table>\n",
       "</div>"
      ],
      "text/plain": [
       "          id utm_medium device_type utm_source          browser  year  month  \\\n",
       "1  277323126    organic      Tablet     yandex   Yandex Browser  2023      3   \n",
       "3  277340573    organic     Desktop     google           Chrome  2023      3   \n",
       "6  277357036    organic      Tablet     yandex           Chrome  2023      3   \n",
       "7  277362728    organic     Phablet     google  Samsung Browser  2023      3   \n",
       "8  277363899    organic      Mobile     google    Chrome Mobile  2023      3   \n",
       "\n",
       "   day  hour  \n",
       "1    1     6  \n",
       "3    1     7  \n",
       "6    1     8  \n",
       "7    1     8  \n",
       "8    1     9  "
      ]
     },
     "execution_count": 48,
     "metadata": {},
     "output_type": "execute_result"
    }
   ],
   "source": [
    "visits_organic_2023_df = visits_organic_df[visits_organic_df['year'] == 2023]\n",
    "visits_organic_2023_df.head()"
   ]
  },
  {
   "cell_type": "code",
   "execution_count": 49,
   "id": "cac711a5-4621-4601-a480-5746028392f4",
   "metadata": {},
   "outputs": [
    {
     "data": {
      "text/html": [
       "<div>\n",
       "<style scoped>\n",
       "    .dataframe tbody tr th:only-of-type {\n",
       "        vertical-align: middle;\n",
       "    }\n",
       "\n",
       "    .dataframe tbody tr th {\n",
       "        vertical-align: top;\n",
       "    }\n",
       "\n",
       "    .dataframe thead th {\n",
       "        text-align: right;\n",
       "    }\n",
       "</style>\n",
       "<table border=\"1\" class=\"dataframe\">\n",
       "  <thead>\n",
       "    <tr style=\"text-align: right;\">\n",
       "      <th></th>\n",
       "      <th>month</th>\n",
       "      <th>visits</th>\n",
       "    </tr>\n",
       "  </thead>\n",
       "  <tbody>\n",
       "    <tr>\n",
       "      <th>0</th>\n",
       "      <td>3</td>\n",
       "      <td>29114</td>\n",
       "    </tr>\n",
       "    <tr>\n",
       "      <th>1</th>\n",
       "      <td>4</td>\n",
       "      <td>33718</td>\n",
       "    </tr>\n",
       "    <tr>\n",
       "      <th>2</th>\n",
       "      <td>5</td>\n",
       "      <td>43032</td>\n",
       "    </tr>\n",
       "    <tr>\n",
       "      <th>3</th>\n",
       "      <td>6</td>\n",
       "      <td>63141</td>\n",
       "    </tr>\n",
       "    <tr>\n",
       "      <th>4</th>\n",
       "      <td>7</td>\n",
       "      <td>81928</td>\n",
       "    </tr>\n",
       "  </tbody>\n",
       "</table>\n",
       "</div>"
      ],
      "text/plain": [
       "   month  visits\n",
       "0      3   29114\n",
       "1      4   33718\n",
       "2      5   43032\n",
       "3      6   63141\n",
       "4      7   81928"
      ]
     },
     "execution_count": 49,
     "metadata": {},
     "output_type": "execute_result"
    }
   ],
   "source": [
    "visits_organic_2023_months_df = visits_organic_2023_df.groupby(['month']).size().reset_index(name = 'visits')\n",
    "visits_organic_2023_months_df.head()"
   ]
  },
  {
   "cell_type": "code",
   "execution_count": 50,
   "id": "d77a849e-0bb6-4414-a685-c002f7bedd78",
   "metadata": {},
   "outputs": [
    {
     "data": {
      "text/html": [
       "<div>\n",
       "<style scoped>\n",
       "    .dataframe tbody tr th:only-of-type {\n",
       "        vertical-align: middle;\n",
       "    }\n",
       "\n",
       "    .dataframe tbody tr th {\n",
       "        vertical-align: top;\n",
       "    }\n",
       "\n",
       "    .dataframe thead th {\n",
       "        text-align: right;\n",
       "    }\n",
       "</style>\n",
       "<table border=\"1\" class=\"dataframe\">\n",
       "  <thead>\n",
       "    <tr style=\"text-align: right;\">\n",
       "      <th></th>\n",
       "      <th>id</th>\n",
       "      <th>utm_medium</th>\n",
       "      <th>device_type</th>\n",
       "      <th>utm_source</th>\n",
       "      <th>browser</th>\n",
       "      <th>year</th>\n",
       "      <th>month</th>\n",
       "      <th>day</th>\n",
       "      <th>hour</th>\n",
       "    </tr>\n",
       "  </thead>\n",
       "  <tbody>\n",
       "    <tr>\n",
       "      <th>73822</th>\n",
       "      <td>527961559</td>\n",
       "      <td>organic</td>\n",
       "      <td>Desktop</td>\n",
       "      <td>google</td>\n",
       "      <td>Chrome</td>\n",
       "      <td>2024</td>\n",
       "      <td>2</td>\n",
       "      <td>1</td>\n",
       "      <td>0</td>\n",
       "    </tr>\n",
       "    <tr>\n",
       "      <th>73823</th>\n",
       "      <td>527968251</td>\n",
       "      <td>organic</td>\n",
       "      <td>Mobile</td>\n",
       "      <td>google</td>\n",
       "      <td>Chrome Mobile</td>\n",
       "      <td>2024</td>\n",
       "      <td>2</td>\n",
       "      <td>1</td>\n",
       "      <td>0</td>\n",
       "    </tr>\n",
       "    <tr>\n",
       "      <th>73824</th>\n",
       "      <td>527991606</td>\n",
       "      <td>organic</td>\n",
       "      <td>Tablet</td>\n",
       "      <td>yandex</td>\n",
       "      <td>Yandex Browser</td>\n",
       "      <td>2024</td>\n",
       "      <td>2</td>\n",
       "      <td>1</td>\n",
       "      <td>2</td>\n",
       "    </tr>\n",
       "    <tr>\n",
       "      <th>74350</th>\n",
       "      <td>528035349</td>\n",
       "      <td>organic</td>\n",
       "      <td>Mobile</td>\n",
       "      <td>google</td>\n",
       "      <td>Chrome Mobile</td>\n",
       "      <td>2024</td>\n",
       "      <td>2</td>\n",
       "      <td>1</td>\n",
       "      <td>4</td>\n",
       "    </tr>\n",
       "    <tr>\n",
       "      <th>74351</th>\n",
       "      <td>528068572</td>\n",
       "      <td>organic</td>\n",
       "      <td>Mobile</td>\n",
       "      <td>google</td>\n",
       "      <td>Chrome Mobile</td>\n",
       "      <td>2024</td>\n",
       "      <td>2</td>\n",
       "      <td>1</td>\n",
       "      <td>6</td>\n",
       "    </tr>\n",
       "  </tbody>\n",
       "</table>\n",
       "</div>"
      ],
      "text/plain": [
       "              id utm_medium device_type utm_source         browser  year  \\\n",
       "73822  527961559    organic     Desktop     google          Chrome  2024   \n",
       "73823  527968251    organic      Mobile     google   Chrome Mobile  2024   \n",
       "73824  527991606    organic      Tablet     yandex  Yandex Browser  2024   \n",
       "74350  528035349    organic      Mobile     google   Chrome Mobile  2024   \n",
       "74351  528068572    organic      Mobile     google   Chrome Mobile  2024   \n",
       "\n",
       "       month  day  hour  \n",
       "73822      2    1     0  \n",
       "73823      2    1     0  \n",
       "73824      2    1     2  \n",
       "74350      2    1     4  \n",
       "74351      2    1     6  "
      ]
     },
     "execution_count": 50,
     "metadata": {},
     "output_type": "execute_result"
    }
   ],
   "source": [
    "visits_organic_2024_df = visits_organic_df[visits_organic_df['year'] == 2024]\n",
    "visits_organic_2024_df.head()"
   ]
  },
  {
   "cell_type": "code",
   "execution_count": 51,
   "id": "899886fc-95d4-4956-923a-8e255a3f57d8",
   "metadata": {},
   "outputs": [
    {
     "data": {
      "text/html": [
       "<div>\n",
       "<style scoped>\n",
       "    .dataframe tbody tr th:only-of-type {\n",
       "        vertical-align: middle;\n",
       "    }\n",
       "\n",
       "    .dataframe tbody tr th {\n",
       "        vertical-align: top;\n",
       "    }\n",
       "\n",
       "    .dataframe thead th {\n",
       "        text-align: right;\n",
       "    }\n",
       "</style>\n",
       "<table border=\"1\" class=\"dataframe\">\n",
       "  <thead>\n",
       "    <tr style=\"text-align: right;\">\n",
       "      <th></th>\n",
       "      <th>month</th>\n",
       "      <th>visits</th>\n",
       "    </tr>\n",
       "  </thead>\n",
       "  <tbody>\n",
       "    <tr>\n",
       "      <th>0</th>\n",
       "      <td>1</td>\n",
       "      <td>28584</td>\n",
       "    </tr>\n",
       "    <tr>\n",
       "      <th>1</th>\n",
       "      <td>2</td>\n",
       "      <td>25613</td>\n",
       "    </tr>\n",
       "    <tr>\n",
       "      <th>2</th>\n",
       "      <td>3</td>\n",
       "      <td>34668</td>\n",
       "    </tr>\n",
       "    <tr>\n",
       "      <th>3</th>\n",
       "      <td>4</td>\n",
       "      <td>41053</td>\n",
       "    </tr>\n",
       "    <tr>\n",
       "      <th>4</th>\n",
       "      <td>5</td>\n",
       "      <td>48032</td>\n",
       "    </tr>\n",
       "  </tbody>\n",
       "</table>\n",
       "</div>"
      ],
      "text/plain": [
       "   month  visits\n",
       "0      1   28584\n",
       "1      2   25613\n",
       "2      3   34668\n",
       "3      4   41053\n",
       "4      5   48032"
      ]
     },
     "execution_count": 51,
     "metadata": {},
     "output_type": "execute_result"
    }
   ],
   "source": [
    "visits_organic_2024_months_df = visits_organic_2024_df.groupby(['month']).size().reset_index(name = 'visits')\n",
    "visits_organic_2024_months_df.head()"
   ]
  },
  {
   "cell_type": "code",
   "execution_count": 52,
   "id": "404e065e-07d8-42da-a890-7fe1f3e5c9a1",
   "metadata": {},
   "outputs": [
    {
     "data": {
      "text/html": [
       "<div>\n",
       "<style scoped>\n",
       "    .dataframe tbody tr th:only-of-type {\n",
       "        vertical-align: middle;\n",
       "    }\n",
       "\n",
       "    .dataframe tbody tr th {\n",
       "        vertical-align: top;\n",
       "    }\n",
       "\n",
       "    .dataframe thead th {\n",
       "        text-align: right;\n",
       "    }\n",
       "</style>\n",
       "<table border=\"1\" class=\"dataframe\">\n",
       "  <thead>\n",
       "    <tr style=\"text-align: right;\">\n",
       "      <th></th>\n",
       "      <th>month</th>\n",
       "      <th>visits_2023</th>\n",
       "      <th>visits_2024</th>\n",
       "    </tr>\n",
       "  </thead>\n",
       "  <tbody>\n",
       "    <tr>\n",
       "      <th>0</th>\n",
       "      <td>3</td>\n",
       "      <td>29114</td>\n",
       "      <td>34668</td>\n",
       "    </tr>\n",
       "    <tr>\n",
       "      <th>1</th>\n",
       "      <td>4</td>\n",
       "      <td>33718</td>\n",
       "      <td>41053</td>\n",
       "    </tr>\n",
       "    <tr>\n",
       "      <th>2</th>\n",
       "      <td>5</td>\n",
       "      <td>43032</td>\n",
       "      <td>48032</td>\n",
       "    </tr>\n",
       "    <tr>\n",
       "      <th>3</th>\n",
       "      <td>6</td>\n",
       "      <td>63141</td>\n",
       "      <td>72018</td>\n",
       "    </tr>\n",
       "  </tbody>\n",
       "</table>\n",
       "</div>"
      ],
      "text/plain": [
       "   month  visits_2023  visits_2024\n",
       "0      3        29114        34668\n",
       "1      4        33718        41053\n",
       "2      5        43032        48032\n",
       "3      6        63141        72018"
      ]
     },
     "execution_count": 52,
     "metadata": {},
     "output_type": "execute_result"
    }
   ],
   "source": [
    "visits_organic_difference_2023_2024_df = pd.merge(visits_organic_2023_months_df[['month', 'visits']], visits_organic_2024_months_df[['month', 'visits']], on = 'month', how = 'inner')\n",
    "visits_organic_difference_2023_2024_df = visits_organic_difference_2023_2024_df.rename(columns = {'visits_x' : 'visits_2023', 'visits_y' : 'visits_2024'})\n",
    "visits_organic_difference_2023_2024_df"
   ]
  },
  {
   "cell_type": "markdown",
   "id": "563ec620-7f6c-4558-be18-42ff37028bf0",
   "metadata": {},
   "source": [
    "Разница по посещениям"
   ]
  },
  {
   "cell_type": "code",
   "execution_count": 53,
   "id": "60e7c4c1-e17f-4ce2-b625-78acfbcdf324",
   "metadata": {},
   "outputs": [
    {
     "data": {
      "text/html": [
       "<div>\n",
       "<style scoped>\n",
       "    .dataframe tbody tr th:only-of-type {\n",
       "        vertical-align: middle;\n",
       "    }\n",
       "\n",
       "    .dataframe tbody tr th {\n",
       "        vertical-align: top;\n",
       "    }\n",
       "\n",
       "    .dataframe thead th {\n",
       "        text-align: right;\n",
       "    }\n",
       "</style>\n",
       "<table border=\"1\" class=\"dataframe\">\n",
       "  <thead>\n",
       "    <tr style=\"text-align: right;\">\n",
       "      <th></th>\n",
       "      <th>month</th>\n",
       "      <th>visits_2023</th>\n",
       "      <th>visits_2024</th>\n",
       "      <th>difference</th>\n",
       "    </tr>\n",
       "  </thead>\n",
       "  <tbody>\n",
       "    <tr>\n",
       "      <th>0</th>\n",
       "      <td>3</td>\n",
       "      <td>29114</td>\n",
       "      <td>34668</td>\n",
       "      <td>5554</td>\n",
       "    </tr>\n",
       "    <tr>\n",
       "      <th>1</th>\n",
       "      <td>4</td>\n",
       "      <td>33718</td>\n",
       "      <td>41053</td>\n",
       "      <td>7335</td>\n",
       "    </tr>\n",
       "    <tr>\n",
       "      <th>2</th>\n",
       "      <td>5</td>\n",
       "      <td>43032</td>\n",
       "      <td>48032</td>\n",
       "      <td>5000</td>\n",
       "    </tr>\n",
       "    <tr>\n",
       "      <th>3</th>\n",
       "      <td>6</td>\n",
       "      <td>63141</td>\n",
       "      <td>72018</td>\n",
       "      <td>8877</td>\n",
       "    </tr>\n",
       "  </tbody>\n",
       "</table>\n",
       "</div>"
      ],
      "text/plain": [
       "   month  visits_2023  visits_2024  difference\n",
       "0      3        29114        34668        5554\n",
       "1      4        33718        41053        7335\n",
       "2      5        43032        48032        5000\n",
       "3      6        63141        72018        8877"
      ]
     },
     "execution_count": 53,
     "metadata": {},
     "output_type": "execute_result"
    }
   ],
   "source": [
    "visits_organic_difference_2023_2024_df['difference'] = visits_organic_difference_2023_2024_df['visits_2024'] - visits_organic_difference_2023_2024_df['visits_2023']\n",
    "visits_organic_difference_2023_2024_df.head()"
   ]
  },
  {
   "cell_type": "markdown",
   "id": "1cfa8551-6cc1-40c1-9fc2-0a5481343923",
   "metadata": {},
   "source": [
    "Прирост по посещениям в процентах "
   ]
  },
  {
   "cell_type": "code",
   "execution_count": 54,
   "id": "66a76e99-da3c-48f9-a794-0339f8fb96c3",
   "metadata": {},
   "outputs": [
    {
     "data": {
      "text/html": [
       "<div>\n",
       "<style scoped>\n",
       "    .dataframe tbody tr th:only-of-type {\n",
       "        vertical-align: middle;\n",
       "    }\n",
       "\n",
       "    .dataframe tbody tr th {\n",
       "        vertical-align: top;\n",
       "    }\n",
       "\n",
       "    .dataframe thead th {\n",
       "        text-align: right;\n",
       "    }\n",
       "</style>\n",
       "<table border=\"1\" class=\"dataframe\">\n",
       "  <thead>\n",
       "    <tr style=\"text-align: right;\">\n",
       "      <th></th>\n",
       "      <th>month</th>\n",
       "      <th>visits_2023</th>\n",
       "      <th>visits_2024</th>\n",
       "      <th>difference</th>\n",
       "      <th>effect</th>\n",
       "    </tr>\n",
       "  </thead>\n",
       "  <tbody>\n",
       "    <tr>\n",
       "      <th>0</th>\n",
       "      <td>3</td>\n",
       "      <td>29114</td>\n",
       "      <td>34668</td>\n",
       "      <td>5554</td>\n",
       "      <td>16.0</td>\n",
       "    </tr>\n",
       "    <tr>\n",
       "      <th>1</th>\n",
       "      <td>4</td>\n",
       "      <td>33718</td>\n",
       "      <td>41053</td>\n",
       "      <td>7335</td>\n",
       "      <td>18.0</td>\n",
       "    </tr>\n",
       "    <tr>\n",
       "      <th>2</th>\n",
       "      <td>5</td>\n",
       "      <td>43032</td>\n",
       "      <td>48032</td>\n",
       "      <td>5000</td>\n",
       "      <td>10.0</td>\n",
       "    </tr>\n",
       "    <tr>\n",
       "      <th>3</th>\n",
       "      <td>6</td>\n",
       "      <td>63141</td>\n",
       "      <td>72018</td>\n",
       "      <td>8877</td>\n",
       "      <td>12.0</td>\n",
       "    </tr>\n",
       "  </tbody>\n",
       "</table>\n",
       "</div>"
      ],
      "text/plain": [
       "   month  visits_2023  visits_2024  difference  effect\n",
       "0      3        29114        34668        5554    16.0\n",
       "1      4        33718        41053        7335    18.0\n",
       "2      5        43032        48032        5000    10.0\n",
       "3      6        63141        72018        8877    12.0"
      ]
     },
     "execution_count": 54,
     "metadata": {},
     "output_type": "execute_result"
    }
   ],
   "source": [
    "visits_organic_difference_2023_2024_df['effect'] = round((visits_organic_difference_2023_2024_df['difference'] * 100) / visits_organic_difference_2023_2024_df['visits_2024'])\n",
    "visits_organic_difference_2023_2024_df.head()"
   ]
  },
  {
   "cell_type": "markdown",
   "id": "031b764d-bf16-4a81-a1aa-3d3976cf784e",
   "metadata": {},
   "source": [
    "Средний процент прироста по посещениям"
   ]
  },
  {
   "cell_type": "code",
   "execution_count": 55,
   "id": "d30656ae-c047-4983-ae6b-2ea86e9125e3",
   "metadata": {},
   "outputs": [
    {
     "data": {
      "text/plain": [
       "14.0"
      ]
     },
     "execution_count": 55,
     "metadata": {},
     "output_type": "execute_result"
    }
   ],
   "source": [
    "visits_organic_difference_2023_2024_effect_mean = visits_organic_difference_2023_2024_df['effect'].mean()\n",
    "visits_organic_difference_2023_2024_effect_mean"
   ]
  },
  {
   "cell_type": "code",
   "execution_count": 56,
   "id": "9dddbca3-6b71-475f-a36a-38f4fe0175cf",
   "metadata": {},
   "outputs": [
    {
     "data": {
      "text/plain": [
       "1.14"
      ]
     },
     "execution_count": 56,
     "metadata": {},
     "output_type": "execute_result"
    }
   ],
   "source": [
    "visits_organic_difference_2023_2024_effect_mean_coef = round(1 + visits_organic_difference_2023_2024_effect_mean / 100, 2)\n",
    "visits_organic_difference_2023_2024_effect_mean_coef"
   ]
  },
  {
   "cell_type": "code",
   "execution_count": 57,
   "id": "324bc28c-149e-48d8-8138-ad35af329b1a",
   "metadata": {},
   "outputs": [
    {
     "name": "stderr",
     "output_type": "stream",
     "text": [
      "C:\\Users\\Данил\\AppData\\Local\\Temp\\ipykernel_27108\\1782840639.py:2: SettingWithCopyWarning: \n",
      "A value is trying to be set on a copy of a slice from a DataFrame.\n",
      "Try using .loc[row_indexer,col_indexer] = value instead\n",
      "\n",
      "See the caveats in the documentation: https://pandas.pydata.org/pandas-docs/stable/user_guide/indexing.html#returning-a-view-versus-a-copy\n",
      "  visits_organic_2023_months_7_8_9_df['year'] = 2023\n"
     ]
    },
    {
     "data": {
      "text/html": [
       "<div>\n",
       "<style scoped>\n",
       "    .dataframe tbody tr th:only-of-type {\n",
       "        vertical-align: middle;\n",
       "    }\n",
       "\n",
       "    .dataframe tbody tr th {\n",
       "        vertical-align: top;\n",
       "    }\n",
       "\n",
       "    .dataframe thead th {\n",
       "        text-align: right;\n",
       "    }\n",
       "</style>\n",
       "<table border=\"1\" class=\"dataframe\">\n",
       "  <thead>\n",
       "    <tr style=\"text-align: right;\">\n",
       "      <th></th>\n",
       "      <th>month</th>\n",
       "      <th>visits</th>\n",
       "      <th>year</th>\n",
       "    </tr>\n",
       "  </thead>\n",
       "  <tbody>\n",
       "    <tr>\n",
       "      <th>4</th>\n",
       "      <td>7</td>\n",
       "      <td>81928</td>\n",
       "      <td>2023</td>\n",
       "    </tr>\n",
       "    <tr>\n",
       "      <th>5</th>\n",
       "      <td>8</td>\n",
       "      <td>74271</td>\n",
       "      <td>2023</td>\n",
       "    </tr>\n",
       "    <tr>\n",
       "      <th>6</th>\n",
       "      <td>9</td>\n",
       "      <td>51650</td>\n",
       "      <td>2023</td>\n",
       "    </tr>\n",
       "  </tbody>\n",
       "</table>\n",
       "</div>"
      ],
      "text/plain": [
       "   month  visits  year\n",
       "4      7   81928  2023\n",
       "5      8   74271  2023\n",
       "6      9   51650  2023"
      ]
     },
     "execution_count": 57,
     "metadata": {},
     "output_type": "execute_result"
    }
   ],
   "source": [
    "visits_organic_2023_months_7_8_9_df = visits_organic_2023_months_df[(visits_organic_2023_months_df['month'] == 7) | (visits_organic_2023_months_df['month'] == 8) | (visits_organic_2023_months_df['month'] == 9)]\n",
    "visits_organic_2023_months_7_8_9_df['year'] = 2023\n",
    "visits_organic_2023_months_7_8_9_df.head()"
   ]
  },
  {
   "cell_type": "markdown",
   "id": "68b7e631-70e1-45d5-8143-fcca7c6a937b",
   "metadata": {},
   "source": [
    "Прогноз посещений для органического канала трафика июля-сентябрь 2024"
   ]
  },
  {
   "cell_type": "code",
   "execution_count": 58,
   "id": "fbe05cde-7668-49c3-8c7b-61c34287b55e",
   "metadata": {},
   "outputs": [
    {
     "data": {
      "text/html": [
       "<div>\n",
       "<style scoped>\n",
       "    .dataframe tbody tr th:only-of-type {\n",
       "        vertical-align: middle;\n",
       "    }\n",
       "\n",
       "    .dataframe tbody tr th {\n",
       "        vertical-align: top;\n",
       "    }\n",
       "\n",
       "    .dataframe thead th {\n",
       "        text-align: right;\n",
       "    }\n",
       "</style>\n",
       "<table border=\"1\" class=\"dataframe\">\n",
       "  <thead>\n",
       "    <tr style=\"text-align: right;\">\n",
       "      <th></th>\n",
       "      <th>month</th>\n",
       "      <th>visits</th>\n",
       "      <th>year</th>\n",
       "    </tr>\n",
       "  </thead>\n",
       "  <tbody>\n",
       "    <tr>\n",
       "      <th>4</th>\n",
       "      <td>7</td>\n",
       "      <td>93398.0</td>\n",
       "      <td>2024</td>\n",
       "    </tr>\n",
       "    <tr>\n",
       "      <th>5</th>\n",
       "      <td>8</td>\n",
       "      <td>84669.0</td>\n",
       "      <td>2024</td>\n",
       "    </tr>\n",
       "    <tr>\n",
       "      <th>6</th>\n",
       "      <td>9</td>\n",
       "      <td>58881.0</td>\n",
       "      <td>2024</td>\n",
       "    </tr>\n",
       "  </tbody>\n",
       "</table>\n",
       "</div>"
      ],
      "text/plain": [
       "   month   visits  year\n",
       "4      7  93398.0  2024\n",
       "5      8  84669.0  2024\n",
       "6      9  58881.0  2024"
      ]
     },
     "execution_count": 58,
     "metadata": {},
     "output_type": "execute_result"
    }
   ],
   "source": [
    "visits_organic_2024_months_7_8_9_df = visits_organic_2023_months_7_8_9_df.copy()\n",
    "visits_organic_2024_months_7_8_9_df['visits'] = round(visits_organic_2024_months_7_8_9_df['visits'] * visits_organic_difference_2023_2024_effect_mean_coef)\n",
    "visits_organic_2024_months_7_8_9_df['year'] = 2024\n",
    "visits_organic_2024_months_7_8_9_df.head()"
   ]
  },
  {
   "cell_type": "code",
   "execution_count": 59,
   "id": "1ba46f56-dec4-4ceb-ad92-2cf9ccca88e4",
   "metadata": {},
   "outputs": [],
   "source": [
    "#график для сравнения"
   ]
  },
  {
   "cell_type": "code",
   "execution_count": 60,
   "id": "174ed971-e2a5-48c4-a6f5-bf36b8d09322",
   "metadata": {},
   "outputs": [
    {
     "data": {
      "text/html": [
       "<div>\n",
       "<style scoped>\n",
       "    .dataframe tbody tr th:only-of-type {\n",
       "        vertical-align: middle;\n",
       "    }\n",
       "\n",
       "    .dataframe tbody tr th {\n",
       "        vertical-align: top;\n",
       "    }\n",
       "\n",
       "    .dataframe thead th {\n",
       "        text-align: right;\n",
       "    }\n",
       "</style>\n",
       "<table border=\"1\" class=\"dataframe\">\n",
       "  <thead>\n",
       "    <tr style=\"text-align: right;\">\n",
       "      <th></th>\n",
       "      <th>month</th>\n",
       "      <th>visits</th>\n",
       "      <th>year</th>\n",
       "    </tr>\n",
       "  </thead>\n",
       "  <tbody>\n",
       "    <tr>\n",
       "      <th>4</th>\n",
       "      <td>7</td>\n",
       "      <td>81928.0</td>\n",
       "      <td>2023</td>\n",
       "    </tr>\n",
       "    <tr>\n",
       "      <th>5</th>\n",
       "      <td>8</td>\n",
       "      <td>74271.0</td>\n",
       "      <td>2023</td>\n",
       "    </tr>\n",
       "    <tr>\n",
       "      <th>6</th>\n",
       "      <td>9</td>\n",
       "      <td>51650.0</td>\n",
       "      <td>2023</td>\n",
       "    </tr>\n",
       "    <tr>\n",
       "      <th>4</th>\n",
       "      <td>7</td>\n",
       "      <td>93398.0</td>\n",
       "      <td>2024</td>\n",
       "    </tr>\n",
       "    <tr>\n",
       "      <th>5</th>\n",
       "      <td>8</td>\n",
       "      <td>84669.0</td>\n",
       "      <td>2024</td>\n",
       "    </tr>\n",
       "    <tr>\n",
       "      <th>6</th>\n",
       "      <td>9</td>\n",
       "      <td>58881.0</td>\n",
       "      <td>2024</td>\n",
       "    </tr>\n",
       "  </tbody>\n",
       "</table>\n",
       "</div>"
      ],
      "text/plain": [
       "   month   visits  year\n",
       "4      7  81928.0  2023\n",
       "5      8  74271.0  2023\n",
       "6      9  51650.0  2023\n",
       "4      7  93398.0  2024\n",
       "5      8  84669.0  2024\n",
       "6      9  58881.0  2024"
      ]
     },
     "execution_count": 60,
     "metadata": {},
     "output_type": "execute_result"
    }
   ],
   "source": [
    "visits_organic_2023_2024_months_7_8_9_df = pd.concat([visits_organic_2023_months_7_8_9_df, visits_organic_2024_months_7_8_9_df], axis = 0)\n",
    "visits_organic_2023_2024_months_7_8_9_df"
   ]
  },
  {
   "cell_type": "code",
   "execution_count": 61,
   "id": "f6700a46-f331-48f3-ad9f-34a1a0012afb",
   "metadata": {},
   "outputs": [
    {
     "data": {
      "image/png": "[encoded data removed]",
      "text/plain": [
       "<Figure size 1800x400 with 1 Axes>"
      ]
     },
     "metadata": {},
     "output_type": "display_data"
    }
   ],
   "source": [
    "plt.figure(figsize = (18, 4))\n",
    "sns.barplot(data = visits_organic_2023_2024_months_7_8_9_df, x = 'month', y = 'visits', hue = 'year')\n",
    "plt.title('Прогноз посещений для органического канала трафика июль-сентябрь 2024 (сравнение с 2023)', fontsize = 14)\n",
    "plt.tight_layout()\n",
    "plt.show()"
   ]
  },
  {
   "cell_type": "markdown",
   "id": "19705e06-0081-407b-a72f-466d9ec008f0",
   "metadata": {},
   "source": [
    "#### a.\tКак изменится прогноз, если органический трафик будет работать эффективнее на 5%?"
   ]
  },
  {
   "cell_type": "code",
   "execution_count": 62,
   "id": "36b47807-a8ca-4f73-89b5-59224dbee031",
   "metadata": {},
   "outputs": [
    {
     "data": {
      "text/plain": [
       "1.19"
      ]
     },
     "execution_count": 62,
     "metadata": {},
     "output_type": "execute_result"
    }
   ],
   "source": [
    "#коэффициент прироста с учетом эффективности в 5%\n",
    "visits_organic_difference_2023_2024_effect_mean_5_coef  = visits_organic_difference_2023_2024_effect_mean_coef + 0.05\n",
    "visits_organic_difference_2023_2024_effect_mean_5_coef"
   ]
  },
  {
   "cell_type": "markdown",
   "id": "fab4fa0f-23c8-4955-abe5-8dce7911ce8d",
   "metadata": {},
   "source": [
    "Прогноз посещений для органического канала трафика июля-сентябрь 2024 при увеличении эффективности на 5%"
   ]
  },
  {
   "cell_type": "code",
   "execution_count": 63,
   "id": "221d49ea-a017-4c2c-bd65-6fda47e23e67",
   "metadata": {},
   "outputs": [
    {
     "data": {
      "text/html": [
       "<div>\n",
       "<style scoped>\n",
       "    .dataframe tbody tr th:only-of-type {\n",
       "        vertical-align: middle;\n",
       "    }\n",
       "\n",
       "    .dataframe tbody tr th {\n",
       "        vertical-align: top;\n",
       "    }\n",
       "\n",
       "    .dataframe thead th {\n",
       "        text-align: right;\n",
       "    }\n",
       "</style>\n",
       "<table border=\"1\" class=\"dataframe\">\n",
       "  <thead>\n",
       "    <tr style=\"text-align: right;\">\n",
       "      <th></th>\n",
       "      <th>month</th>\n",
       "      <th>visits</th>\n",
       "      <th>year</th>\n",
       "    </tr>\n",
       "  </thead>\n",
       "  <tbody>\n",
       "    <tr>\n",
       "      <th>4</th>\n",
       "      <td>7</td>\n",
       "      <td>97494.0</td>\n",
       "      <td>2024</td>\n",
       "    </tr>\n",
       "    <tr>\n",
       "      <th>5</th>\n",
       "      <td>8</td>\n",
       "      <td>88382.0</td>\n",
       "      <td>2024</td>\n",
       "    </tr>\n",
       "    <tr>\n",
       "      <th>6</th>\n",
       "      <td>9</td>\n",
       "      <td>61464.0</td>\n",
       "      <td>2024</td>\n",
       "    </tr>\n",
       "  </tbody>\n",
       "</table>\n",
       "</div>"
      ],
      "text/plain": [
       "   month   visits  year\n",
       "4      7  97494.0  2024\n",
       "5      8  88382.0  2024\n",
       "6      9  61464.0  2024"
      ]
     },
     "execution_count": 63,
     "metadata": {},
     "output_type": "execute_result"
    }
   ],
   "source": [
    "visits_organic_2024_months_7_8_9_5ef_df = visits_organic_2023_months_7_8_9_df.copy()\n",
    "visits_organic_2024_months_7_8_9_5ef_df['visits'] = round(visits_organic_2024_months_7_8_9_5ef_df['visits'] * visits_organic_difference_2023_2024_effect_mean_5_coef)\n",
    "visits_organic_2024_months_7_8_9_5ef_df['year'] = 2024\n",
    "visits_organic_2024_months_7_8_9_5ef_df.head()"
   ]
  },
  {
   "cell_type": "code",
   "execution_count": 64,
   "id": "438f190b-fcda-404e-abaa-f08a3bb854cc",
   "metadata": {},
   "outputs": [],
   "source": [
    "#график для сравнения"
   ]
  },
  {
   "cell_type": "code",
   "execution_count": 65,
   "id": "54b71dad-6a91-481a-a23b-e632a2ae02b2",
   "metadata": {},
   "outputs": [
    {
     "data": {
      "text/html": [
       "<div>\n",
       "<style scoped>\n",
       "    .dataframe tbody tr th:only-of-type {\n",
       "        vertical-align: middle;\n",
       "    }\n",
       "\n",
       "    .dataframe tbody tr th {\n",
       "        vertical-align: top;\n",
       "    }\n",
       "\n",
       "    .dataframe thead th {\n",
       "        text-align: right;\n",
       "    }\n",
       "</style>\n",
       "<table border=\"1\" class=\"dataframe\">\n",
       "  <thead>\n",
       "    <tr style=\"text-align: right;\">\n",
       "      <th></th>\n",
       "      <th>month</th>\n",
       "      <th>visits</th>\n",
       "      <th>year</th>\n",
       "    </tr>\n",
       "  </thead>\n",
       "  <tbody>\n",
       "    <tr>\n",
       "      <th>4</th>\n",
       "      <td>7</td>\n",
       "      <td>81928.0</td>\n",
       "      <td>2023</td>\n",
       "    </tr>\n",
       "    <tr>\n",
       "      <th>5</th>\n",
       "      <td>8</td>\n",
       "      <td>74271.0</td>\n",
       "      <td>2023</td>\n",
       "    </tr>\n",
       "    <tr>\n",
       "      <th>6</th>\n",
       "      <td>9</td>\n",
       "      <td>51650.0</td>\n",
       "      <td>2023</td>\n",
       "    </tr>\n",
       "    <tr>\n",
       "      <th>4</th>\n",
       "      <td>7</td>\n",
       "      <td>97494.0</td>\n",
       "      <td>2024</td>\n",
       "    </tr>\n",
       "    <tr>\n",
       "      <th>5</th>\n",
       "      <td>8</td>\n",
       "      <td>88382.0</td>\n",
       "      <td>2024</td>\n",
       "    </tr>\n",
       "    <tr>\n",
       "      <th>6</th>\n",
       "      <td>9</td>\n",
       "      <td>61464.0</td>\n",
       "      <td>2024</td>\n",
       "    </tr>\n",
       "  </tbody>\n",
       "</table>\n",
       "</div>"
      ],
      "text/plain": [
       "   month   visits  year\n",
       "4      7  81928.0  2023\n",
       "5      8  74271.0  2023\n",
       "6      9  51650.0  2023\n",
       "4      7  97494.0  2024\n",
       "5      8  88382.0  2024\n",
       "6      9  61464.0  2024"
      ]
     },
     "execution_count": 65,
     "metadata": {},
     "output_type": "execute_result"
    }
   ],
   "source": [
    "visits_organic_2023_2024_months_7_8_9_5ef_df = pd.concat([visits_organic_2023_months_7_8_9_df, visits_organic_2024_months_7_8_9_5ef_df], axis = 0)\n",
    "visits_organic_2023_2024_months_7_8_9_5ef_df"
   ]
  },
  {
   "cell_type": "code",
   "execution_count": 66,
   "id": "8fbe15a5-c0c4-47c2-85df-e757c562af74",
   "metadata": {},
   "outputs": [
    {
     "data": {
      "image/png": "[encoded data removed]",
      "text/plain": [
       "<Figure size 1800x400 with 1 Axes>"
      ]
     },
     "metadata": {},
     "output_type": "display_data"
    }
   ],
   "source": [
    "plt.figure(figsize = (18, 4))\n",
    "sns.barplot(data = visits_organic_2023_2024_months_7_8_9_5ef_df, x = 'month', y = 'visits', hue = 'year')\n",
    "plt.title('Прогноз посещений для органического канала трафика (+5% к эффективности) июль-сентябрь 2024 (сравнение с 2023)', fontsize = 14)\n",
    "plt.tight_layout()\n",
    "plt.show()"
   ]
  },
  {
   "cell_type": "markdown",
   "id": "371ba5cd-6b0c-4c8b-8414-368959e51653",
   "metadata": {},
   "source": [
    "#### Восстановление хронологии за 2023 год"
   ]
  },
  {
   "cell_type": "code",
   "execution_count": 67,
   "id": "6db3d84e-56c4-4e1f-b96a-1e3c689e3562",
   "metadata": {},
   "outputs": [],
   "source": [
    "#составим датасет за 2023 год и восполним отсутствующие месяцы (январь, февраль) данными за 2024 год\n",
    "#эффективность будет ниже на 14%"
   ]
  },
  {
   "cell_type": "code",
   "execution_count": 68,
   "id": "8ce712ea-db38-4922-b8c5-7025330432e8",
   "metadata": {
    "scrolled": true
   },
   "outputs": [
    {
     "data": {
      "text/html": [
       "<div>\n",
       "<style scoped>\n",
       "    .dataframe tbody tr th:only-of-type {\n",
       "        vertical-align: middle;\n",
       "    }\n",
       "\n",
       "    .dataframe tbody tr th {\n",
       "        vertical-align: top;\n",
       "    }\n",
       "\n",
       "    .dataframe thead th {\n",
       "        text-align: right;\n",
       "    }\n",
       "</style>\n",
       "<table border=\"1\" class=\"dataframe\">\n",
       "  <thead>\n",
       "    <tr style=\"text-align: right;\">\n",
       "      <th></th>\n",
       "      <th>id</th>\n",
       "      <th>utm_medium</th>\n",
       "      <th>device_type</th>\n",
       "      <th>utm_source</th>\n",
       "      <th>browser</th>\n",
       "      <th>year</th>\n",
       "      <th>month</th>\n",
       "      <th>day</th>\n",
       "      <th>hour</th>\n",
       "    </tr>\n",
       "  </thead>\n",
       "  <tbody>\n",
       "    <tr>\n",
       "      <th>1</th>\n",
       "      <td>277323126</td>\n",
       "      <td>organic</td>\n",
       "      <td>Tablet</td>\n",
       "      <td>yandex</td>\n",
       "      <td>Yandex Browser</td>\n",
       "      <td>2023</td>\n",
       "      <td>3</td>\n",
       "      <td>1</td>\n",
       "      <td>6</td>\n",
       "    </tr>\n",
       "    <tr>\n",
       "      <th>3</th>\n",
       "      <td>277340573</td>\n",
       "      <td>organic</td>\n",
       "      <td>Desktop</td>\n",
       "      <td>google</td>\n",
       "      <td>Chrome</td>\n",
       "      <td>2023</td>\n",
       "      <td>3</td>\n",
       "      <td>1</td>\n",
       "      <td>7</td>\n",
       "    </tr>\n",
       "    <tr>\n",
       "      <th>6</th>\n",
       "      <td>277357036</td>\n",
       "      <td>organic</td>\n",
       "      <td>Tablet</td>\n",
       "      <td>yandex</td>\n",
       "      <td>Chrome</td>\n",
       "      <td>2023</td>\n",
       "      <td>3</td>\n",
       "      <td>1</td>\n",
       "      <td>8</td>\n",
       "    </tr>\n",
       "    <tr>\n",
       "      <th>7</th>\n",
       "      <td>277362728</td>\n",
       "      <td>organic</td>\n",
       "      <td>Phablet</td>\n",
       "      <td>google</td>\n",
       "      <td>Samsung Browser</td>\n",
       "      <td>2023</td>\n",
       "      <td>3</td>\n",
       "      <td>1</td>\n",
       "      <td>8</td>\n",
       "    </tr>\n",
       "    <tr>\n",
       "      <th>8</th>\n",
       "      <td>277363899</td>\n",
       "      <td>organic</td>\n",
       "      <td>Mobile</td>\n",
       "      <td>google</td>\n",
       "      <td>Chrome Mobile</td>\n",
       "      <td>2023</td>\n",
       "      <td>3</td>\n",
       "      <td>1</td>\n",
       "      <td>9</td>\n",
       "    </tr>\n",
       "  </tbody>\n",
       "</table>\n",
       "</div>"
      ],
      "text/plain": [
       "          id utm_medium device_type utm_source          browser  year  month  \\\n",
       "1  277323126    organic      Tablet     yandex   Yandex Browser  2023      3   \n",
       "3  277340573    organic     Desktop     google           Chrome  2023      3   \n",
       "6  277357036    organic      Tablet     yandex           Chrome  2023      3   \n",
       "7  277362728    organic     Phablet     google  Samsung Browser  2023      3   \n",
       "8  277363899    organic      Mobile     google    Chrome Mobile  2023      3   \n",
       "\n",
       "   day  hour  \n",
       "1    1     6  \n",
       "3    1     7  \n",
       "6    1     8  \n",
       "7    1     8  \n",
       "8    1     9  "
      ]
     },
     "execution_count": 68,
     "metadata": {},
     "output_type": "execute_result"
    }
   ],
   "source": [
    "#получим данные за 2023 год\n",
    "visits_organic_2023_df.head()"
   ]
  },
  {
   "cell_type": "code",
   "execution_count": 69,
   "id": "554bddc6-871f-4554-a46e-6030f2229e30",
   "metadata": {
    "scrolled": true
   },
   "outputs": [
    {
     "data": {
      "text/html": [
       "<div>\n",
       "<style scoped>\n",
       "    .dataframe tbody tr th:only-of-type {\n",
       "        vertical-align: middle;\n",
       "    }\n",
       "\n",
       "    .dataframe tbody tr th {\n",
       "        vertical-align: top;\n",
       "    }\n",
       "\n",
       "    .dataframe thead th {\n",
       "        text-align: right;\n",
       "    }\n",
       "</style>\n",
       "<table border=\"1\" class=\"dataframe\">\n",
       "  <thead>\n",
       "    <tr style=\"text-align: right;\">\n",
       "      <th></th>\n",
       "      <th>id</th>\n",
       "      <th>utm_medium</th>\n",
       "      <th>device_type</th>\n",
       "      <th>utm_source</th>\n",
       "      <th>browser</th>\n",
       "      <th>year</th>\n",
       "      <th>month</th>\n",
       "      <th>day</th>\n",
       "      <th>hour</th>\n",
       "    </tr>\n",
       "  </thead>\n",
       "  <tbody>\n",
       "    <tr>\n",
       "      <th>73822</th>\n",
       "      <td>527961559</td>\n",
       "      <td>organic</td>\n",
       "      <td>Desktop</td>\n",
       "      <td>google</td>\n",
       "      <td>Chrome</td>\n",
       "      <td>2024</td>\n",
       "      <td>2</td>\n",
       "      <td>1</td>\n",
       "      <td>0</td>\n",
       "    </tr>\n",
       "    <tr>\n",
       "      <th>73823</th>\n",
       "      <td>527968251</td>\n",
       "      <td>organic</td>\n",
       "      <td>Mobile</td>\n",
       "      <td>google</td>\n",
       "      <td>Chrome Mobile</td>\n",
       "      <td>2024</td>\n",
       "      <td>2</td>\n",
       "      <td>1</td>\n",
       "      <td>0</td>\n",
       "    </tr>\n",
       "    <tr>\n",
       "      <th>73824</th>\n",
       "      <td>527991606</td>\n",
       "      <td>organic</td>\n",
       "      <td>Tablet</td>\n",
       "      <td>yandex</td>\n",
       "      <td>Yandex Browser</td>\n",
       "      <td>2024</td>\n",
       "      <td>2</td>\n",
       "      <td>1</td>\n",
       "      <td>2</td>\n",
       "    </tr>\n",
       "    <tr>\n",
       "      <th>74350</th>\n",
       "      <td>528035349</td>\n",
       "      <td>organic</td>\n",
       "      <td>Mobile</td>\n",
       "      <td>google</td>\n",
       "      <td>Chrome Mobile</td>\n",
       "      <td>2024</td>\n",
       "      <td>2</td>\n",
       "      <td>1</td>\n",
       "      <td>4</td>\n",
       "    </tr>\n",
       "    <tr>\n",
       "      <th>74351</th>\n",
       "      <td>528068572</td>\n",
       "      <td>organic</td>\n",
       "      <td>Mobile</td>\n",
       "      <td>google</td>\n",
       "      <td>Chrome Mobile</td>\n",
       "      <td>2024</td>\n",
       "      <td>2</td>\n",
       "      <td>1</td>\n",
       "      <td>6</td>\n",
       "    </tr>\n",
       "  </tbody>\n",
       "</table>\n",
       "</div>"
      ],
      "text/plain": [
       "              id utm_medium device_type utm_source         browser  year  \\\n",
       "73822  527961559    organic     Desktop     google          Chrome  2024   \n",
       "73823  527968251    organic      Mobile     google   Chrome Mobile  2024   \n",
       "73824  527991606    organic      Tablet     yandex  Yandex Browser  2024   \n",
       "74350  528035349    organic      Mobile     google   Chrome Mobile  2024   \n",
       "74351  528068572    organic      Mobile     google   Chrome Mobile  2024   \n",
       "\n",
       "       month  day  hour  \n",
       "73822      2    1     0  \n",
       "73823      2    1     0  \n",
       "73824      2    1     2  \n",
       "74350      2    1     4  \n",
       "74351      2    1     6  "
      ]
     },
     "execution_count": 69,
     "metadata": {},
     "output_type": "execute_result"
    }
   ],
   "source": [
    "#получим данные за 2024 год январь и февраль\n",
    "visits_organic_2024_1_2_df = visits_organic_2024_df[(visits_organic_2024_df['month'] == 1) | (visits_organic_2024_df['month'] == 2)]\n",
    "visits_organic_2024_1_2_df.head()"
   ]
  },
  {
   "cell_type": "code",
   "execution_count": 70,
   "id": "398738a8-9fbd-4583-9111-109ed09a580d",
   "metadata": {
    "scrolled": true
   },
   "outputs": [
    {
     "data": {
      "text/html": [
       "<div>\n",
       "<style scoped>\n",
       "    .dataframe tbody tr th:only-of-type {\n",
       "        vertical-align: middle;\n",
       "    }\n",
       "\n",
       "    .dataframe tbody tr th {\n",
       "        vertical-align: top;\n",
       "    }\n",
       "\n",
       "    .dataframe thead th {\n",
       "        text-align: right;\n",
       "    }\n",
       "</style>\n",
       "<table border=\"1\" class=\"dataframe\">\n",
       "  <thead>\n",
       "    <tr style=\"text-align: right;\">\n",
       "      <th></th>\n",
       "      <th>id</th>\n",
       "      <th>utm_medium</th>\n",
       "      <th>device_type</th>\n",
       "      <th>utm_source</th>\n",
       "      <th>browser</th>\n",
       "      <th>year</th>\n",
       "      <th>month</th>\n",
       "      <th>day</th>\n",
       "      <th>hour</th>\n",
       "    </tr>\n",
       "  </thead>\n",
       "  <tbody>\n",
       "    <tr>\n",
       "      <th>73822</th>\n",
       "      <td>527961559</td>\n",
       "      <td>organic</td>\n",
       "      <td>Desktop</td>\n",
       "      <td>google</td>\n",
       "      <td>Chrome</td>\n",
       "      <td>2024</td>\n",
       "      <td>2</td>\n",
       "      <td>1</td>\n",
       "      <td>0</td>\n",
       "    </tr>\n",
       "    <tr>\n",
       "      <th>73823</th>\n",
       "      <td>527968251</td>\n",
       "      <td>organic</td>\n",
       "      <td>Mobile</td>\n",
       "      <td>google</td>\n",
       "      <td>Chrome Mobile</td>\n",
       "      <td>2024</td>\n",
       "      <td>2</td>\n",
       "      <td>1</td>\n",
       "      <td>0</td>\n",
       "    </tr>\n",
       "    <tr>\n",
       "      <th>73824</th>\n",
       "      <td>527991606</td>\n",
       "      <td>organic</td>\n",
       "      <td>Tablet</td>\n",
       "      <td>yandex</td>\n",
       "      <td>Yandex Browser</td>\n",
       "      <td>2024</td>\n",
       "      <td>2</td>\n",
       "      <td>1</td>\n",
       "      <td>2</td>\n",
       "    </tr>\n",
       "    <tr>\n",
       "      <th>74350</th>\n",
       "      <td>528035349</td>\n",
       "      <td>organic</td>\n",
       "      <td>Mobile</td>\n",
       "      <td>google</td>\n",
       "      <td>Chrome Mobile</td>\n",
       "      <td>2024</td>\n",
       "      <td>2</td>\n",
       "      <td>1</td>\n",
       "      <td>4</td>\n",
       "    </tr>\n",
       "    <tr>\n",
       "      <th>74351</th>\n",
       "      <td>528068572</td>\n",
       "      <td>organic</td>\n",
       "      <td>Mobile</td>\n",
       "      <td>google</td>\n",
       "      <td>Chrome Mobile</td>\n",
       "      <td>2024</td>\n",
       "      <td>2</td>\n",
       "      <td>1</td>\n",
       "      <td>6</td>\n",
       "    </tr>\n",
       "  </tbody>\n",
       "</table>\n",
       "</div>"
      ],
      "text/plain": [
       "              id utm_medium device_type utm_source         browser  year  \\\n",
       "73822  527961559    organic     Desktop     google          Chrome  2024   \n",
       "73823  527968251    organic      Mobile     google   Chrome Mobile  2024   \n",
       "73824  527991606    organic      Tablet     yandex  Yandex Browser  2024   \n",
       "74350  528035349    organic      Mobile     google   Chrome Mobile  2024   \n",
       "74351  528068572    organic      Mobile     google   Chrome Mobile  2024   \n",
       "\n",
       "       month  day  hour  \n",
       "73822      2    1     0  \n",
       "73823      2    1     0  \n",
       "73824      2    1     2  \n",
       "74350      2    1     4  \n",
       "74351      2    1     6  "
      ]
     },
     "execution_count": 70,
     "metadata": {},
     "output_type": "execute_result"
    }
   ],
   "source": [
    "#составим набор полных данных за год\n",
    "visits_organic_2023_restored_df = pd.concat([visits_organic_2024_1_2_df, visits_organic_2023_df])\n",
    "visits_organic_2023_restored_df.head()"
   ]
  },
  {
   "cell_type": "code",
   "execution_count": 71,
   "id": "042ace18-3e2e-40c8-8d88-bc6059169ac5",
   "metadata": {
    "scrolled": true
   },
   "outputs": [
    {
     "data": {
      "text/html": [
       "<div>\n",
       "<style scoped>\n",
       "    .dataframe tbody tr th:only-of-type {\n",
       "        vertical-align: middle;\n",
       "    }\n",
       "\n",
       "    .dataframe tbody tr th {\n",
       "        vertical-align: top;\n",
       "    }\n",
       "\n",
       "    .dataframe thead th {\n",
       "        text-align: right;\n",
       "    }\n",
       "</style>\n",
       "<table border=\"1\" class=\"dataframe\">\n",
       "  <thead>\n",
       "    <tr style=\"text-align: right;\">\n",
       "      <th></th>\n",
       "      <th>month</th>\n",
       "      <th>visits</th>\n",
       "    </tr>\n",
       "  </thead>\n",
       "  <tbody>\n",
       "    <tr>\n",
       "      <th>0</th>\n",
       "      <td>1</td>\n",
       "      <td>28584</td>\n",
       "    </tr>\n",
       "    <tr>\n",
       "      <th>1</th>\n",
       "      <td>2</td>\n",
       "      <td>25613</td>\n",
       "    </tr>\n",
       "    <tr>\n",
       "      <th>2</th>\n",
       "      <td>3</td>\n",
       "      <td>29114</td>\n",
       "    </tr>\n",
       "    <tr>\n",
       "      <th>3</th>\n",
       "      <td>4</td>\n",
       "      <td>33718</td>\n",
       "    </tr>\n",
       "    <tr>\n",
       "      <th>4</th>\n",
       "      <td>5</td>\n",
       "      <td>43032</td>\n",
       "    </tr>\n",
       "  </tbody>\n",
       "</table>\n",
       "</div>"
      ],
      "text/plain": [
       "   month  visits\n",
       "0      1   28584\n",
       "1      2   25613\n",
       "2      3   29114\n",
       "3      4   33718\n",
       "4      5   43032"
      ]
     },
     "execution_count": 71,
     "metadata": {},
     "output_type": "execute_result"
    }
   ],
   "source": [
    "visits_organic_2023_restored_months_df = visits_organic_2023_restored_df.groupby(['month']).size().reset_index(name = 'visits')\n",
    "visits_organic_2023_restored_months_df.head()"
   ]
  },
  {
   "cell_type": "code",
   "execution_count": 72,
   "id": "7c5a14ee-70b4-4f18-bfdc-ba04b61334ee",
   "metadata": {},
   "outputs": [],
   "source": [
    "#ранее было определено, что рост составил 14%\n",
    "#к месяцем яварь и фревряль (2024) применим поправку (эффективность будет ниже на 14%)"
   ]
  },
  {
   "cell_type": "code",
   "execution_count": 73,
   "id": "1690d16e-4403-492e-9668-884505269926",
   "metadata": {},
   "outputs": [
    {
     "data": {
      "text/html": [
       "<div>\n",
       "<style scoped>\n",
       "    .dataframe tbody tr th:only-of-type {\n",
       "        vertical-align: middle;\n",
       "    }\n",
       "\n",
       "    .dataframe tbody tr th {\n",
       "        vertical-align: top;\n",
       "    }\n",
       "\n",
       "    .dataframe thead th {\n",
       "        text-align: right;\n",
       "    }\n",
       "</style>\n",
       "<table border=\"1\" class=\"dataframe\">\n",
       "  <thead>\n",
       "    <tr style=\"text-align: right;\">\n",
       "      <th></th>\n",
       "      <th>month</th>\n",
       "      <th>visits</th>\n",
       "    </tr>\n",
       "  </thead>\n",
       "  <tbody>\n",
       "    <tr>\n",
       "      <th>0</th>\n",
       "      <td>1</td>\n",
       "      <td>25074</td>\n",
       "    </tr>\n",
       "    <tr>\n",
       "      <th>1</th>\n",
       "      <td>2</td>\n",
       "      <td>22468</td>\n",
       "    </tr>\n",
       "    <tr>\n",
       "      <th>2</th>\n",
       "      <td>3</td>\n",
       "      <td>29114</td>\n",
       "    </tr>\n",
       "    <tr>\n",
       "      <th>3</th>\n",
       "      <td>4</td>\n",
       "      <td>33718</td>\n",
       "    </tr>\n",
       "    <tr>\n",
       "      <th>4</th>\n",
       "      <td>5</td>\n",
       "      <td>43032</td>\n",
       "    </tr>\n",
       "    <tr>\n",
       "      <th>5</th>\n",
       "      <td>6</td>\n",
       "      <td>63141</td>\n",
       "    </tr>\n",
       "    <tr>\n",
       "      <th>6</th>\n",
       "      <td>7</td>\n",
       "      <td>81928</td>\n",
       "    </tr>\n",
       "    <tr>\n",
       "      <th>7</th>\n",
       "      <td>8</td>\n",
       "      <td>74271</td>\n",
       "    </tr>\n",
       "    <tr>\n",
       "      <th>8</th>\n",
       "      <td>9</td>\n",
       "      <td>51650</td>\n",
       "    </tr>\n",
       "    <tr>\n",
       "      <th>9</th>\n",
       "      <td>10</td>\n",
       "      <td>31744</td>\n",
       "    </tr>\n",
       "    <tr>\n",
       "      <th>10</th>\n",
       "      <td>11</td>\n",
       "      <td>19487</td>\n",
       "    </tr>\n",
       "    <tr>\n",
       "      <th>11</th>\n",
       "      <td>12</td>\n",
       "      <td>13829</td>\n",
       "    </tr>\n",
       "  </tbody>\n",
       "</table>\n",
       "</div>"
      ],
      "text/plain": [
       "    month  visits\n",
       "0       1   25074\n",
       "1       2   22468\n",
       "2       3   29114\n",
       "3       4   33718\n",
       "4       5   43032\n",
       "5       6   63141\n",
       "6       7   81928\n",
       "7       8   74271\n",
       "8       9   51650\n",
       "9      10   31744\n",
       "10     11   19487\n",
       "11     12   13829"
      ]
     },
     "execution_count": 73,
     "metadata": {},
     "output_type": "execute_result"
    }
   ],
   "source": [
    "visits_organic_2023_restored_months_df.loc[0: 1, 'visits'] = round(visits_organic_2023_restored_months_df.loc[0: 1, 'visits'] / visits_organic_difference_2023_2024_effect_mean_coef)\n",
    "visits_organic_2023_restored_months_df"
   ]
  },
  {
   "cell_type": "code",
   "execution_count": 74,
   "id": "d955b9bb-a7a2-441e-92f9-5cc840329cc5",
   "metadata": {},
   "outputs": [
    {
     "data": {
      "image/png": "[encoded data removed]",
      "text/plain": [
       "<Figure size 1800x400 with 1 Axes>"
      ]
     },
     "metadata": {},
     "output_type": "display_data"
    }
   ],
   "source": [
    "plt.figure(figsize = (18, 4))\n",
    "sns.barplot(data = visits_organic_2023_restored_months_df, x = 'month', y = 'visits')\n",
    "plt.title('Распределение посещений по месяцам 2023 года', fontsize = 14)\n",
    "plt.show()"
   ]
  },
  {
   "cell_type": "code",
   "execution_count": 75,
   "id": "4c8c8f4b-2c13-4db2-872b-c3eafe11d71e",
   "metadata": {},
   "outputs": [
    {
     "name": "stdout",
     "output_type": "stream",
     "text": [
      "Среднее количество посещений за 2023 год: 40788.0\n"
     ]
    }
   ],
   "source": [
    "visits_organic_2023_restored_months_mean =  visits_organic_2023_restored_months_df['visits'].mean()\n",
    "print(f'Среднее количество посещений за 2023 год: {visits_organic_2023_restored_months_mean}')"
   ]
  },
  {
   "cell_type": "markdown",
   "id": "b6cdb9a2-98a0-49b9-9e14-68d0978fb3e1",
   "metadata": {},
   "source": [
    "### 4. Канал с самым высоким потенциалом"
   ]
  },
  {
   "cell_type": "code",
   "execution_count": 76,
   "id": "5a1df2b8-f50a-4cf7-a809-57785e378e62",
   "metadata": {},
   "outputs": [],
   "source": [
    "#оценка за весь период 2023 - 2024"
   ]
  },
  {
   "cell_type": "code",
   "execution_count": 77,
   "id": "98d7836c-531d-4b7e-ae1d-c069df5fc501",
   "metadata": {},
   "outputs": [],
   "source": [
    "visits_utm_medium_df = visits_df.copy()"
   ]
  },
  {
   "cell_type": "code",
   "execution_count": 78,
   "id": "40bc620e-7d06-4cfa-b952-b8732b3b9f0d",
   "metadata": {},
   "outputs": [],
   "source": [
    "visits_utm_medium_df['year'] = pd.to_datetime(visits_df['started_at']).dt.year"
   ]
  },
  {
   "cell_type": "code",
   "execution_count": 79,
   "id": "f1c81d1e-c32d-4c59-9e85-3c46788bed77",
   "metadata": {},
   "outputs": [],
   "source": [
    "visits_utm_medium_df['month'] = pd.to_datetime(visits_df['started_at']).dt.month"
   ]
  },
  {
   "cell_type": "code",
   "execution_count": 80,
   "id": "c40b0093-e4a9-4290-8b85-b20834abf6b6",
   "metadata": {},
   "outputs": [],
   "source": [
    "visits_utm_medium_df = visits_utm_medium_df.drop('started_at', axis = 1)"
   ]
  },
  {
   "cell_type": "code",
   "execution_count": 81,
   "id": "a296cd96-036e-4a4d-9dfc-9e7631bbc289",
   "metadata": {
    "scrolled": true
   },
   "outputs": [
    {
     "data": {
      "text/html": [
       "<div>\n",
       "<style scoped>\n",
       "    .dataframe tbody tr th:only-of-type {\n",
       "        vertical-align: middle;\n",
       "    }\n",
       "\n",
       "    .dataframe tbody tr th {\n",
       "        vertical-align: top;\n",
       "    }\n",
       "\n",
       "    .dataframe thead th {\n",
       "        text-align: right;\n",
       "    }\n",
       "</style>\n",
       "<table border=\"1\" class=\"dataframe\">\n",
       "  <thead>\n",
       "    <tr style=\"text-align: right;\">\n",
       "      <th></th>\n",
       "      <th>id</th>\n",
       "      <th>utm_medium</th>\n",
       "      <th>device_type</th>\n",
       "      <th>utm_source</th>\n",
       "      <th>browser</th>\n",
       "      <th>year</th>\n",
       "      <th>month</th>\n",
       "    </tr>\n",
       "  </thead>\n",
       "  <tbody>\n",
       "    <tr>\n",
       "      <th>0</th>\n",
       "      <td>277249829</td>\n",
       "      <td>organic</td>\n",
       "      <td>Mobile</td>\n",
       "      <td>yandex</td>\n",
       "      <td>Chrome Mobile</td>\n",
       "      <td>2023</td>\n",
       "      <td>3</td>\n",
       "    </tr>\n",
       "    <tr>\n",
       "      <th>1</th>\n",
       "      <td>277323126</td>\n",
       "      <td>organic</td>\n",
       "      <td>Tablet</td>\n",
       "      <td>yandex</td>\n",
       "      <td>Yandex Browser</td>\n",
       "      <td>2023</td>\n",
       "      <td>3</td>\n",
       "    </tr>\n",
       "    <tr>\n",
       "      <th>2</th>\n",
       "      <td>277337231</td>\n",
       "      <td>organic</td>\n",
       "      <td>Mobile</td>\n",
       "      <td>yandex</td>\n",
       "      <td>Chrome Mobile</td>\n",
       "      <td>2023</td>\n",
       "      <td>3</td>\n",
       "    </tr>\n",
       "    <tr>\n",
       "      <th>3</th>\n",
       "      <td>277340573</td>\n",
       "      <td>organic</td>\n",
       "      <td>Desktop</td>\n",
       "      <td>google</td>\n",
       "      <td>Chrome</td>\n",
       "      <td>2023</td>\n",
       "      <td>3</td>\n",
       "    </tr>\n",
       "    <tr>\n",
       "      <th>4</th>\n",
       "      <td>277341578</td>\n",
       "      <td>affiliate</td>\n",
       "      <td>Desktop</td>\n",
       "      <td>affiliate_3421</td>\n",
       "      <td>Firefox</td>\n",
       "      <td>2023</td>\n",
       "      <td>3</td>\n",
       "    </tr>\n",
       "  </tbody>\n",
       "</table>\n",
       "</div>"
      ],
      "text/plain": [
       "          id utm_medium device_type      utm_source         browser  year  \\\n",
       "0  277249829    organic      Mobile          yandex   Chrome Mobile  2023   \n",
       "1  277323126    organic      Tablet          yandex  Yandex Browser  2023   \n",
       "2  277337231    organic      Mobile          yandex   Chrome Mobile  2023   \n",
       "3  277340573    organic     Desktop          google          Chrome  2023   \n",
       "4  277341578  affiliate     Desktop  affiliate_3421         Firefox  2023   \n",
       "\n",
       "   month  \n",
       "0      3  \n",
       "1      3  \n",
       "2      3  \n",
       "3      3  \n",
       "4      3  "
      ]
     },
     "execution_count": 81,
     "metadata": {},
     "output_type": "execute_result"
    }
   ],
   "source": [
    "visits_utm_medium_df.head()"
   ]
  },
  {
   "cell_type": "markdown",
   "id": "ef469f3e-eb37-4bc7-8cc7-f68873e2ffc4",
   "metadata": {},
   "source": [
    "Распределение посещений по каналам трафика за весь период"
   ]
  },
  {
   "cell_type": "code",
   "execution_count": 82,
   "id": "d55b71cb-1165-4dee-93ed-b9261658ecb3",
   "metadata": {
    "scrolled": true
   },
   "outputs": [
    {
     "data": {
      "text/html": [
       "<div>\n",
       "<style scoped>\n",
       "    .dataframe tbody tr th:only-of-type {\n",
       "        vertical-align: middle;\n",
       "    }\n",
       "\n",
       "    .dataframe tbody tr th {\n",
       "        vertical-align: top;\n",
       "    }\n",
       "\n",
       "    .dataframe thead th {\n",
       "        text-align: right;\n",
       "    }\n",
       "</style>\n",
       "<table border=\"1\" class=\"dataframe\">\n",
       "  <thead>\n",
       "    <tr style=\"text-align: right;\">\n",
       "      <th></th>\n",
       "      <th>utm_medium</th>\n",
       "      <th>year</th>\n",
       "      <th>visits</th>\n",
       "    </tr>\n",
       "  </thead>\n",
       "  <tbody>\n",
       "    <tr>\n",
       "      <th>0</th>\n",
       "      <td>affiliate</td>\n",
       "      <td>2023</td>\n",
       "      <td>28667</td>\n",
       "    </tr>\n",
       "    <tr>\n",
       "      <th>1</th>\n",
       "      <td>affiliate</td>\n",
       "      <td>2024</td>\n",
       "      <td>15096</td>\n",
       "    </tr>\n",
       "    <tr>\n",
       "      <th>2</th>\n",
       "      <td>cpc</td>\n",
       "      <td>2023</td>\n",
       "      <td>27599</td>\n",
       "    </tr>\n",
       "    <tr>\n",
       "      <th>3</th>\n",
       "      <td>cpc</td>\n",
       "      <td>2024</td>\n",
       "      <td>39656</td>\n",
       "    </tr>\n",
       "    <tr>\n",
       "      <th>4</th>\n",
       "      <td>organic</td>\n",
       "      <td>2023</td>\n",
       "      <td>471898</td>\n",
       "    </tr>\n",
       "  </tbody>\n",
       "</table>\n",
       "</div>"
      ],
      "text/plain": [
       "  utm_medium  year  visits\n",
       "0  affiliate  2023   28667\n",
       "1  affiliate  2024   15096\n",
       "2        cpc  2023   27599\n",
       "3        cpc  2024   39656\n",
       "4    organic  2023  471898"
      ]
     },
     "execution_count": 82,
     "metadata": {},
     "output_type": "execute_result"
    }
   ],
   "source": [
    "visits_utm_medium_years_df = visits_utm_medium_df.groupby(['utm_medium', 'year']).size().reset_index(name = 'visits')\n",
    "visits_utm_medium_years_df.head()"
   ]
  },
  {
   "cell_type": "code",
   "execution_count": 83,
   "id": "b119beae-fdab-476a-967f-f1acc775a32d",
   "metadata": {
    "scrolled": true
   },
   "outputs": [
    {
     "data": {
      "image/png": "[encoded data removed]",
      "text/plain": [
       "<Figure size 1800x400 with 1 Axes>"
      ]
     },
     "metadata": {},
     "output_type": "display_data"
    }
   ],
   "source": [
    "plt.figure(figsize = (18, 4))\n",
    "sns.barplot(data = visits_utm_medium_years_df, x = 'utm_medium', y = 'visits', hue = 'year')\n",
    "plt.title('Распределение посещений по каналам трафика за весь период', fontsize = 14)\n",
    "plt.show()"
   ]
  },
  {
   "cell_type": "markdown",
   "id": "81562f8e-ea9e-40b6-b9d2-9666d5d3fc73",
   "metadata": {},
   "source": [
    "Распределение посещений по каналам трафика по месяцам"
   ]
  },
  {
   "cell_type": "code",
   "execution_count": 84,
   "id": "ab050bce-dfe3-4f74-b9ed-addbb2155e42",
   "metadata": {
    "scrolled": true
   },
   "outputs": [
    {
     "data": {
      "text/html": [
       "<div>\n",
       "<style scoped>\n",
       "    .dataframe tbody tr th:only-of-type {\n",
       "        vertical-align: middle;\n",
       "    }\n",
       "\n",
       "    .dataframe tbody tr th {\n",
       "        vertical-align: top;\n",
       "    }\n",
       "\n",
       "    .dataframe thead th {\n",
       "        text-align: right;\n",
       "    }\n",
       "</style>\n",
       "<table border=\"1\" class=\"dataframe\">\n",
       "  <thead>\n",
       "    <tr style=\"text-align: right;\">\n",
       "      <th></th>\n",
       "      <th>utm_medium</th>\n",
       "      <th>month</th>\n",
       "      <th>year</th>\n",
       "      <th>visits</th>\n",
       "    </tr>\n",
       "  </thead>\n",
       "  <tbody>\n",
       "    <tr>\n",
       "      <th>0</th>\n",
       "      <td>affiliate</td>\n",
       "      <td>1</td>\n",
       "      <td>2024</td>\n",
       "      <td>2103</td>\n",
       "    </tr>\n",
       "    <tr>\n",
       "      <th>1</th>\n",
       "      <td>affiliate</td>\n",
       "      <td>2</td>\n",
       "      <td>2024</td>\n",
       "      <td>1642</td>\n",
       "    </tr>\n",
       "    <tr>\n",
       "      <th>2</th>\n",
       "      <td>affiliate</td>\n",
       "      <td>3</td>\n",
       "      <td>2023</td>\n",
       "      <td>2000</td>\n",
       "    </tr>\n",
       "    <tr>\n",
       "      <th>3</th>\n",
       "      <td>affiliate</td>\n",
       "      <td>3</td>\n",
       "      <td>2024</td>\n",
       "      <td>2074</td>\n",
       "    </tr>\n",
       "    <tr>\n",
       "      <th>4</th>\n",
       "      <td>affiliate</td>\n",
       "      <td>4</td>\n",
       "      <td>2023</td>\n",
       "      <td>2498</td>\n",
       "    </tr>\n",
       "  </tbody>\n",
       "</table>\n",
       "</div>"
      ],
      "text/plain": [
       "  utm_medium  month  year  visits\n",
       "0  affiliate      1  2024    2103\n",
       "1  affiliate      2  2024    1642\n",
       "2  affiliate      3  2023    2000\n",
       "3  affiliate      3  2024    2074\n",
       "4  affiliate      4  2023    2498"
      ]
     },
     "execution_count": 84,
     "metadata": {},
     "output_type": "execute_result"
    }
   ],
   "source": [
    "visits_utm_medium_months_df = visits_utm_medium_df.groupby(['utm_medium', 'month', 'year']).size().reset_index(name = 'visits')\n",
    "visits_utm_medium_months_df.head()"
   ]
  },
  {
   "cell_type": "code",
   "execution_count": 85,
   "id": "5c8dfb50-bebc-4e37-ab14-d3ea13359c6e",
   "metadata": {},
   "outputs": [
    {
     "data": {
      "image/png": "[encoded data removed]",
      "text/plain": [
       "<Figure size 1800x400 with 1 Axes>"
      ]
     },
     "metadata": {},
     "output_type": "display_data"
    }
   ],
   "source": [
    "plt.figure(figsize = (18, 4))\n",
    "sns.barplot(data = visits_utm_medium_months_df, x = 'month', y = 'visits', hue = 'utm_medium')\n",
    "plt.title('Распределение посещений по каналам трафика по месяцам за весь период', fontsize = 14)\n",
    "plt.show()"
   ]
  },
  {
   "cell_type": "markdown",
   "id": "bf21a744-c7cf-493f-97b2-85299e47d845",
   "metadata": {},
   "source": [
    "Органический канал - самый популярный. <br>\n",
    "Из данных следует, что cpc и affiliate создают наименьший прирост трафика. "
   ]
  },
  {
   "cell_type": "markdown",
   "id": "5746b0f0-14f2-40b6-9227-2faff4397160",
   "metadata": {},
   "source": [
    "### 5. Комментарии по заданию"
   ]
  },
  {
   "cell_type": "markdown",
   "id": "65319e2b-eddb-45cb-864e-0190cb7b8136",
   "metadata": {},
   "source": [
    "#### a.\tПосмотри на сайт и на полученные данные, и предложи, как можно улучшить метрики эффективности разных каналов. "
   ]
  },
  {
   "cell_type": "markdown",
   "id": "946acbda-c197-4a8a-a50b-5bdfd56c6efd",
   "metadata": {},
   "source": [
    "- При поиске в Yandex Browser по запросу \"спутник экскурсии\" первый сайт - Tripster, в браузерах Edge и Google Chrome Спутник занимает первую позицию, возможно стоит купить рекламу по брендовому запросу «спутник экскурсии» (Яндекс.Директ);\n",
    "- Совершенствование affiliate канала возможно через привлечение блогеров, оптимизацию SMM. Я изучил социальные сети, указанные на сайте (VK, Telegram), публикации осуществляются в отношении 1 пост в 1-2 дня, что довольно мало, нет контент-различий: одинаковый контент публикуется в VK и Telegram."
   ]
  },
  {
   "cell_type": "markdown",
   "id": "9c547f21-0f56-439d-b6da-7165b2dfcb91",
   "metadata": {},
   "source": [
    "#### b.\tКак ты думаешь, почему каждый канал отличается по эффективности? "
   ]
  },
  {
   "cell_type": "markdown",
   "id": "ba044d94-93cc-466e-9fa1-6d74a8c24edb",
   "metadata": {},
   "source": [
    "Эффективность каналов трафика отличается потому, что у каждого из них — своя природа привлечения.\n",
    "- Organic — люди сами ищут и приходят по ключам, часто уже с намерением купить, следовательно, высокая конверсия, но медленный рост.\n",
    "- CPC — можно быстро привести тёплую аудиторию, если настроен таргетинг, но часть кликов — случайные, следовательно, конверсия ниже.\n",
    "- Affiliate — аудитория приходит по рекомендации партнёров, и их мотивация может быть разной."
   ]
  },
  {
   "cell_type": "markdown",
   "id": "479fc46e-ee6a-4c1e-b0cd-ab9c05746d69",
   "metadata": {},
   "source": [
    "- В органике все зависит от алгоритмов поисковых систем.\n",
    "- В CPC — всё под контролем, но за деньги.\n",
    "- В партнёрке — зависимость от активности партнёров и качества их трафика."
   ]
  },
  {
   "cell_type": "markdown",
   "id": "2946995a-b575-49ab-9fda-33ada320e5bc",
   "metadata": {},
   "source": [
    "#### c.\tДостаточно ли данных для выводов, почему? Какие дополнительные метрики бизнеса или улучшения сайта ты можешь предложить и почему?"
   ]
  },
  {
   "cell_type": "markdown",
   "id": "b811711c-32bb-41ec-ad65-1d0c11014c93",
   "metadata": {},
   "source": [
    "- Наличие признака 'ended_at' (visits) обеспечит информацией о продолжительности посещения сервиса;\n",
    "- Среднее время на сайте / на странице экскурсии - можно найти точки, где пользователи уходят слишком быстро;\n",
    "- Путь пользователя (в какие экскурсии заходят чаще всего и в каком порядке) - для оптимизации внутренней навигации.\n"
   ]
  },
  {
   "cell_type": "markdown",
   "id": "34459b62-4a7b-460c-8f4f-5475e52da1b5",
   "metadata": {},
   "source": [
    "### Анализ посещений, заказов, просмотров: март 2023 - июнь 2024"
   ]
  },
  {
   "cell_type": "markdown",
   "id": "624dff7c-53b8-4905-87f9-65ad3fa4ef8c",
   "metadata": {},
   "source": [
    "#### Посещения и заказы"
   ]
  },
  {
   "cell_type": "code",
   "execution_count": 86,
   "id": "b42fe3dd-2091-4f6b-b901-f62ba78aebee",
   "metadata": {},
   "outputs": [],
   "source": [
    "#изучим \"чистый\" набор данных о посещениях"
   ]
  },
  {
   "cell_type": "code",
   "execution_count": 87,
   "id": "da95ba9d-7c84-4f96-b17a-af61a98343a8",
   "metadata": {},
   "outputs": [
    {
     "data": {
      "text/html": [
       "<div>\n",
       "<style scoped>\n",
       "    .dataframe tbody tr th:only-of-type {\n",
       "        vertical-align: middle;\n",
       "    }\n",
       "\n",
       "    .dataframe tbody tr th {\n",
       "        vertical-align: top;\n",
       "    }\n",
       "\n",
       "    .dataframe thead th {\n",
       "        text-align: right;\n",
       "    }\n",
       "</style>\n",
       "<table border=\"1\" class=\"dataframe\">\n",
       "  <thead>\n",
       "    <tr style=\"text-align: right;\">\n",
       "      <th></th>\n",
       "      <th>started_at</th>\n",
       "      <th>id</th>\n",
       "      <th>utm_medium</th>\n",
       "      <th>device_type</th>\n",
       "      <th>utm_source</th>\n",
       "      <th>browser</th>\n",
       "    </tr>\n",
       "  </thead>\n",
       "  <tbody>\n",
       "    <tr>\n",
       "      <th>1</th>\n",
       "      <td>2023-03-01 06:40:17.746113</td>\n",
       "      <td>277323126</td>\n",
       "      <td>organic</td>\n",
       "      <td>Tablet</td>\n",
       "      <td>yandex</td>\n",
       "      <td>Yandex Browser</td>\n",
       "    </tr>\n",
       "    <tr>\n",
       "      <th>3</th>\n",
       "      <td>2023-03-01 07:48:37.006550</td>\n",
       "      <td>277340573</td>\n",
       "      <td>organic</td>\n",
       "      <td>Desktop</td>\n",
       "      <td>google</td>\n",
       "      <td>Chrome</td>\n",
       "    </tr>\n",
       "    <tr>\n",
       "      <th>4</th>\n",
       "      <td>2023-03-01 07:52:18.295917</td>\n",
       "      <td>277341578</td>\n",
       "      <td>affiliate</td>\n",
       "      <td>Desktop</td>\n",
       "      <td>affiliate_3421</td>\n",
       "      <td>Firefox</td>\n",
       "    </tr>\n",
       "    <tr>\n",
       "      <th>5</th>\n",
       "      <td>2023-03-01 07:52:21.296114</td>\n",
       "      <td>277341589</td>\n",
       "      <td>affiliate</td>\n",
       "      <td>Desktop</td>\n",
       "      <td>affiliate_3421</td>\n",
       "      <td>Chrome</td>\n",
       "    </tr>\n",
       "    <tr>\n",
       "      <th>6</th>\n",
       "      <td>2023-03-01 08:42:32.200535</td>\n",
       "      <td>277357036</td>\n",
       "      <td>organic</td>\n",
       "      <td>Tablet</td>\n",
       "      <td>yandex</td>\n",
       "      <td>Chrome</td>\n",
       "    </tr>\n",
       "  </tbody>\n",
       "</table>\n",
       "</div>"
      ],
      "text/plain": [
       "                   started_at         id utm_medium device_type  \\\n",
       "1  2023-03-01 06:40:17.746113  277323126    organic      Tablet   \n",
       "3  2023-03-01 07:48:37.006550  277340573    organic     Desktop   \n",
       "4  2023-03-01 07:52:18.295917  277341578  affiliate     Desktop   \n",
       "5  2023-03-01 07:52:21.296114  277341589  affiliate     Desktop   \n",
       "6  2023-03-01 08:42:32.200535  277357036    organic      Tablet   \n",
       "\n",
       "       utm_source         browser  \n",
       "1          yandex  Yandex Browser  \n",
       "3          google          Chrome  \n",
       "4  affiliate_3421         Firefox  \n",
       "5  affiliate_3421          Chrome  \n",
       "6          yandex          Chrome  "
      ]
     },
     "execution_count": 87,
     "metadata": {},
     "output_type": "execute_result"
    }
   ],
   "source": [
    "cleaned_visits_2_df = cleaned_visits_df.copy()\n",
    "cleaned_visits_2_df = cleaned_visits_2_df.rename(columns = {'id' : 'visit_id'})\n",
    "cleaned_visits_2_df = cleaned_visits_2_df.drop('started_at', axis = 1)\n",
    "cleaned_visits_df.head()"
   ]
  },
  {
   "cell_type": "code",
   "execution_count": 88,
   "id": "119df1ac-9ef3-474b-9625-2ed05111ded5",
   "metadata": {},
   "outputs": [
    {
     "data": {
      "text/plain": [
       "802900"
      ]
     },
     "execution_count": 88,
     "metadata": {},
     "output_type": "execute_result"
    }
   ],
   "source": [
    "cleaned_visits_2_df['visit_id'].nunique()"
   ]
  },
  {
   "cell_type": "code",
   "execution_count": 89,
   "id": "4952cb25-1ae3-4c37-8f85-c63e752cf93b",
   "metadata": {},
   "outputs": [
    {
     "name": "stdout",
     "output_type": "stream",
     "text": [
      "Число посещений: 802900\n"
     ]
    }
   ],
   "source": [
    "cleaned_visits = len(cleaned_visits_2_df)\n",
    "print(f'Число посещений: {cleaned_visits}')"
   ]
  },
  {
   "cell_type": "code",
   "execution_count": 90,
   "id": "67f98878-341b-4fa8-99ff-9e8d9cefda90",
   "metadata": {},
   "outputs": [
    {
     "data": {
      "text/html": [
       "<div>\n",
       "<style scoped>\n",
       "    .dataframe tbody tr th:only-of-type {\n",
       "        vertical-align: middle;\n",
       "    }\n",
       "\n",
       "    .dataframe tbody tr th {\n",
       "        vertical-align: top;\n",
       "    }\n",
       "\n",
       "    .dataframe thead th {\n",
       "        text-align: right;\n",
       "    }\n",
       "</style>\n",
       "<table border=\"1\" class=\"dataframe\">\n",
       "  <thead>\n",
       "    <tr style=\"text-align: right;\">\n",
       "      <th></th>\n",
       "      <th>created_at</th>\n",
       "      <th>order_id</th>\n",
       "      <th>visit_id</th>\n",
       "      <th>state</th>\n",
       "    </tr>\n",
       "  </thead>\n",
       "  <tbody>\n",
       "    <tr>\n",
       "      <th>0</th>\n",
       "      <td>2024-01-14 11:25:22.889597</td>\n",
       "      <td>2019060</td>\n",
       "      <td>515725102.0</td>\n",
       "      <td>held</td>\n",
       "    </tr>\n",
       "    <tr>\n",
       "      <th>1</th>\n",
       "      <td>2024-01-05 12:17:37.790378</td>\n",
       "      <td>2009076</td>\n",
       "      <td>509837645.0</td>\n",
       "      <td>held</td>\n",
       "    </tr>\n",
       "    <tr>\n",
       "      <th>2</th>\n",
       "      <td>2024-03-06 21:13:36.779976</td>\n",
       "      <td>2094016</td>\n",
       "      <td>552236470.0</td>\n",
       "      <td>held</td>\n",
       "    </tr>\n",
       "    <tr>\n",
       "      <th>3</th>\n",
       "      <td>2024-02-10 22:39:52.937576</td>\n",
       "      <td>2052647</td>\n",
       "      <td>534974347.0</td>\n",
       "      <td>held</td>\n",
       "    </tr>\n",
       "    <tr>\n",
       "      <th>4</th>\n",
       "      <td>2024-02-18 18:58:46.747766</td>\n",
       "      <td>2064185</td>\n",
       "      <td>540372323.0</td>\n",
       "      <td>canceled</td>\n",
       "    </tr>\n",
       "  </tbody>\n",
       "</table>\n",
       "</div>"
      ],
      "text/plain": [
       "                   created_at  order_id     visit_id     state\n",
       "0  2024-01-14 11:25:22.889597   2019060  515725102.0      held\n",
       "1  2024-01-05 12:17:37.790378   2009076  509837645.0      held\n",
       "2  2024-03-06 21:13:36.779976   2094016  552236470.0      held\n",
       "3  2024-02-10 22:39:52.937576   2052647  534974347.0      held\n",
       "4  2024-02-18 18:58:46.747766   2064185  540372323.0  canceled"
      ]
     },
     "execution_count": 90,
     "metadata": {},
     "output_type": "execute_result"
    }
   ],
   "source": [
    "orders_df = orders_df.rename(columns = {'id' : 'order_id'})\n",
    "orders_df.head()"
   ]
  },
  {
   "cell_type": "markdown",
   "id": "3cadc3f4-432f-42f4-8ecf-159fc8206e8e",
   "metadata": {},
   "source": [
    "Информация о посещения и заказах"
   ]
  },
  {
   "cell_type": "code",
   "execution_count": 91,
   "id": "67794d3e-c812-440e-b041-b88e56b75668",
   "metadata": {},
   "outputs": [
    {
     "data": {
      "text/html": [
       "<div>\n",
       "<style scoped>\n",
       "    .dataframe tbody tr th:only-of-type {\n",
       "        vertical-align: middle;\n",
       "    }\n",
       "\n",
       "    .dataframe tbody tr th {\n",
       "        vertical-align: top;\n",
       "    }\n",
       "\n",
       "    .dataframe thead th {\n",
       "        text-align: right;\n",
       "    }\n",
       "</style>\n",
       "<table border=\"1\" class=\"dataframe\">\n",
       "  <thead>\n",
       "    <tr style=\"text-align: right;\">\n",
       "      <th></th>\n",
       "      <th>visit_id</th>\n",
       "      <th>utm_medium</th>\n",
       "      <th>device_type</th>\n",
       "      <th>utm_source</th>\n",
       "      <th>browser</th>\n",
       "      <th>created_at</th>\n",
       "      <th>order_id</th>\n",
       "      <th>state</th>\n",
       "    </tr>\n",
       "  </thead>\n",
       "  <tbody>\n",
       "    <tr>\n",
       "      <th>0</th>\n",
       "      <td>277645089</td>\n",
       "      <td>organic</td>\n",
       "      <td>Mobile</td>\n",
       "      <td>google</td>\n",
       "      <td>Mobile Safari</td>\n",
       "      <td>2023-03-01 19:58:44.153719</td>\n",
       "      <td>1069226</td>\n",
       "      <td>canceled</td>\n",
       "    </tr>\n",
       "    <tr>\n",
       "      <th>1</th>\n",
       "      <td>277899506</td>\n",
       "      <td>organic</td>\n",
       "      <td>Desktop</td>\n",
       "      <td>yandex</td>\n",
       "      <td>Firefox</td>\n",
       "      <td>2023-03-02 08:31:25.383312</td>\n",
       "      <td>1069697</td>\n",
       "      <td>held</td>\n",
       "    </tr>\n",
       "    <tr>\n",
       "      <th>2</th>\n",
       "      <td>277899506</td>\n",
       "      <td>organic</td>\n",
       "      <td>Desktop</td>\n",
       "      <td>yandex</td>\n",
       "      <td>Firefox</td>\n",
       "      <td>2023-03-02 08:37:49.352254</td>\n",
       "      <td>1069707</td>\n",
       "      <td>canceled</td>\n",
       "    </tr>\n",
       "    <tr>\n",
       "      <th>3</th>\n",
       "      <td>277899506</td>\n",
       "      <td>organic</td>\n",
       "      <td>Desktop</td>\n",
       "      <td>yandex</td>\n",
       "      <td>Firefox</td>\n",
       "      <td>2023-03-02 08:33:34.314937</td>\n",
       "      <td>1069702</td>\n",
       "      <td>canceled</td>\n",
       "    </tr>\n",
       "    <tr>\n",
       "      <th>4</th>\n",
       "      <td>277899506</td>\n",
       "      <td>organic</td>\n",
       "      <td>Desktop</td>\n",
       "      <td>yandex</td>\n",
       "      <td>Firefox</td>\n",
       "      <td>2023-03-02 08:34:48.654282</td>\n",
       "      <td>1069705</td>\n",
       "      <td>canceled</td>\n",
       "    </tr>\n",
       "  </tbody>\n",
       "</table>\n",
       "</div>"
      ],
      "text/plain": [
       "    visit_id utm_medium device_type utm_source        browser  \\\n",
       "0  277645089    organic      Mobile     google  Mobile Safari   \n",
       "1  277899506    organic     Desktop     yandex        Firefox   \n",
       "2  277899506    organic     Desktop     yandex        Firefox   \n",
       "3  277899506    organic     Desktop     yandex        Firefox   \n",
       "4  277899506    organic     Desktop     yandex        Firefox   \n",
       "\n",
       "                   created_at  order_id     state  \n",
       "0  2023-03-01 19:58:44.153719   1069226  canceled  \n",
       "1  2023-03-02 08:31:25.383312   1069697      held  \n",
       "2  2023-03-02 08:37:49.352254   1069707  canceled  \n",
       "3  2023-03-02 08:33:34.314937   1069702  canceled  \n",
       "4  2023-03-02 08:34:48.654282   1069705  canceled  "
      ]
     },
     "execution_count": 91,
     "metadata": {},
     "output_type": "execute_result"
    }
   ],
   "source": [
    "visits_orders_state_df = pd.merge(cleaned_visits_2_df, orders_df, on = 'visit_id', how = 'inner')\n",
    "visits_orders_state_df.head()"
   ]
  },
  {
   "cell_type": "code",
   "execution_count": 92,
   "id": "bae188aa-44f4-4905-9c41-98343ed594c9",
   "metadata": {},
   "outputs": [
    {
     "data": {
      "text/html": [
       "<div>\n",
       "<style scoped>\n",
       "    .dataframe tbody tr th:only-of-type {\n",
       "        vertical-align: middle;\n",
       "    }\n",
       "\n",
       "    .dataframe tbody tr th {\n",
       "        vertical-align: top;\n",
       "    }\n",
       "\n",
       "    .dataframe thead th {\n",
       "        text-align: right;\n",
       "    }\n",
       "</style>\n",
       "<table border=\"1\" class=\"dataframe\">\n",
       "  <thead>\n",
       "    <tr style=\"text-align: right;\">\n",
       "      <th></th>\n",
       "      <th>visit_id</th>\n",
       "      <th>utm_medium</th>\n",
       "      <th>device_type</th>\n",
       "      <th>utm_source</th>\n",
       "      <th>browser</th>\n",
       "      <th>order_id</th>\n",
       "      <th>state</th>\n",
       "      <th>year</th>\n",
       "      <th>month</th>\n",
       "    </tr>\n",
       "  </thead>\n",
       "  <tbody>\n",
       "    <tr>\n",
       "      <th>0</th>\n",
       "      <td>277645089</td>\n",
       "      <td>organic</td>\n",
       "      <td>Mobile</td>\n",
       "      <td>google</td>\n",
       "      <td>Mobile Safari</td>\n",
       "      <td>1069226</td>\n",
       "      <td>canceled</td>\n",
       "      <td>2023</td>\n",
       "      <td>3</td>\n",
       "    </tr>\n",
       "    <tr>\n",
       "      <th>1</th>\n",
       "      <td>277899506</td>\n",
       "      <td>organic</td>\n",
       "      <td>Desktop</td>\n",
       "      <td>yandex</td>\n",
       "      <td>Firefox</td>\n",
       "      <td>1069697</td>\n",
       "      <td>held</td>\n",
       "      <td>2023</td>\n",
       "      <td>3</td>\n",
       "    </tr>\n",
       "    <tr>\n",
       "      <th>2</th>\n",
       "      <td>277899506</td>\n",
       "      <td>organic</td>\n",
       "      <td>Desktop</td>\n",
       "      <td>yandex</td>\n",
       "      <td>Firefox</td>\n",
       "      <td>1069707</td>\n",
       "      <td>canceled</td>\n",
       "      <td>2023</td>\n",
       "      <td>3</td>\n",
       "    </tr>\n",
       "    <tr>\n",
       "      <th>3</th>\n",
       "      <td>277899506</td>\n",
       "      <td>organic</td>\n",
       "      <td>Desktop</td>\n",
       "      <td>yandex</td>\n",
       "      <td>Firefox</td>\n",
       "      <td>1069702</td>\n",
       "      <td>canceled</td>\n",
       "      <td>2023</td>\n",
       "      <td>3</td>\n",
       "    </tr>\n",
       "    <tr>\n",
       "      <th>4</th>\n",
       "      <td>277899506</td>\n",
       "      <td>organic</td>\n",
       "      <td>Desktop</td>\n",
       "      <td>yandex</td>\n",
       "      <td>Firefox</td>\n",
       "      <td>1069705</td>\n",
       "      <td>canceled</td>\n",
       "      <td>2023</td>\n",
       "      <td>3</td>\n",
       "    </tr>\n",
       "  </tbody>\n",
       "</table>\n",
       "</div>"
      ],
      "text/plain": [
       "    visit_id utm_medium device_type utm_source        browser  order_id  \\\n",
       "0  277645089    organic      Mobile     google  Mobile Safari   1069226   \n",
       "1  277899506    organic     Desktop     yandex        Firefox   1069697   \n",
       "2  277899506    organic     Desktop     yandex        Firefox   1069707   \n",
       "3  277899506    organic     Desktop     yandex        Firefox   1069702   \n",
       "4  277899506    organic     Desktop     yandex        Firefox   1069705   \n",
       "\n",
       "      state  year  month  \n",
       "0  canceled  2023      3  \n",
       "1      held  2023      3  \n",
       "2  canceled  2023      3  \n",
       "3  canceled  2023      3  \n",
       "4  canceled  2023      3  "
      ]
     },
     "execution_count": 92,
     "metadata": {},
     "output_type": "execute_result"
    }
   ],
   "source": [
    "visits_orders_state_df['year'] = pd.to_datetime(visits_orders_state_df['created_at']).dt.year\n",
    "visits_orders_state_df['month'] = pd.to_datetime(visits_orders_state_df['created_at']).dt.month\n",
    "visits_orders_state_df = visits_orders_state_df.drop('created_at', axis = 1)\n",
    "visits_orders_state_df.head()"
   ]
  },
  {
   "cell_type": "code",
   "execution_count": 93,
   "id": "8bd0bdd1-6f20-422a-90e8-a6a326c38e2d",
   "metadata": {},
   "outputs": [
    {
     "name": "stdout",
     "output_type": "stream",
     "text": [
      "Число всех заказов: 11712\n"
     ]
    }
   ],
   "source": [
    "visits_with_orders = len(visits_orders_state_df)\n",
    "print(f'Число всех заказов: {visits_with_orders}')"
   ]
  },
  {
   "cell_type": "code",
   "execution_count": 94,
   "id": "07c0f4ec-b85f-458c-a865-8ca1461fe876",
   "metadata": {},
   "outputs": [
    {
     "data": {
      "text/html": [
       "<div>\n",
       "<style scoped>\n",
       "    .dataframe tbody tr th:only-of-type {\n",
       "        vertical-align: middle;\n",
       "    }\n",
       "\n",
       "    .dataframe tbody tr th {\n",
       "        vertical-align: top;\n",
       "    }\n",
       "\n",
       "    .dataframe thead th {\n",
       "        text-align: right;\n",
       "    }\n",
       "</style>\n",
       "<table border=\"1\" class=\"dataframe\">\n",
       "  <thead>\n",
       "    <tr style=\"text-align: right;\">\n",
       "      <th></th>\n",
       "      <th>month</th>\n",
       "      <th>year</th>\n",
       "      <th>state</th>\n",
       "      <th>orders</th>\n",
       "    </tr>\n",
       "  </thead>\n",
       "  <tbody>\n",
       "    <tr>\n",
       "      <th>0</th>\n",
       "      <td>1</td>\n",
       "      <td>2024</td>\n",
       "      <td>canceled</td>\n",
       "      <td>208</td>\n",
       "    </tr>\n",
       "    <tr>\n",
       "      <th>1</th>\n",
       "      <td>1</td>\n",
       "      <td>2024</td>\n",
       "      <td>held</td>\n",
       "      <td>197</td>\n",
       "    </tr>\n",
       "    <tr>\n",
       "      <th>2</th>\n",
       "      <td>2</td>\n",
       "      <td>2024</td>\n",
       "      <td>canceled</td>\n",
       "      <td>176</td>\n",
       "    </tr>\n",
       "    <tr>\n",
       "      <th>3</th>\n",
       "      <td>2</td>\n",
       "      <td>2024</td>\n",
       "      <td>held</td>\n",
       "      <td>187</td>\n",
       "    </tr>\n",
       "    <tr>\n",
       "      <th>4</th>\n",
       "      <td>3</td>\n",
       "      <td>2023</td>\n",
       "      <td>canceled</td>\n",
       "      <td>270</td>\n",
       "    </tr>\n",
       "  </tbody>\n",
       "</table>\n",
       "</div>"
      ],
      "text/plain": [
       "   month  year     state  orders\n",
       "0      1  2024  canceled     208\n",
       "1      1  2024      held     197\n",
       "2      2  2024  canceled     176\n",
       "3      2  2024      held     187\n",
       "4      3  2023  canceled     270"
      ]
     },
     "execution_count": 94,
     "metadata": {},
     "output_type": "execute_result"
    }
   ],
   "source": [
    "orders_months_years_df = visits_orders_state_df.groupby(['month', 'year', 'state']).size().reset_index(name = 'orders')\n",
    "orders_months_years_df.head()"
   ]
  },
  {
   "cell_type": "markdown",
   "id": "b5d9667e-3a1d-4cbf-87ad-6cb35756072a",
   "metadata": {},
   "source": [
    "Распределение заказов по месяцам"
   ]
  },
  {
   "cell_type": "code",
   "execution_count": 95,
   "id": "390faa47-6eb7-4f77-afa6-7ff19401900b",
   "metadata": {},
   "outputs": [
    {
     "data": {
      "image/png": "[encoded data removed]",
      "text/plain": [
       "<Figure size 1712.38x400 with 2 Axes>"
      ]
     },
     "metadata": {},
     "output_type": "display_data"
    }
   ],
   "source": [
    "sns.catplot(\n",
    "    data = orders_months_years_df,\n",
    "    kind = 'bar',\n",
    "    x = 'month',\n",
    "    y = 'orders',\n",
    "    hue = 'state',\n",
    "    col = 'year',\n",
    "    height = 4,\n",
    "    aspect = 2\n",
    ")\n",
    "plt.show()"
   ]
  },
  {
   "cell_type": "markdown",
   "id": "72f9956c-5e2c-4753-830a-febc3bde40c6",
   "metadata": {},
   "source": [
    "Успешные заказы"
   ]
  },
  {
   "cell_type": "code",
   "execution_count": 96,
   "id": "e9f152d7-567c-44a7-b226-86f9fa7f7792",
   "metadata": {},
   "outputs": [
    {
     "data": {
      "text/html": [
       "<div>\n",
       "<style scoped>\n",
       "    .dataframe tbody tr th:only-of-type {\n",
       "        vertical-align: middle;\n",
       "    }\n",
       "\n",
       "    .dataframe tbody tr th {\n",
       "        vertical-align: top;\n",
       "    }\n",
       "\n",
       "    .dataframe thead th {\n",
       "        text-align: right;\n",
       "    }\n",
       "</style>\n",
       "<table border=\"1\" class=\"dataframe\">\n",
       "  <thead>\n",
       "    <tr style=\"text-align: right;\">\n",
       "      <th></th>\n",
       "      <th>visit_id</th>\n",
       "      <th>utm_medium</th>\n",
       "      <th>device_type</th>\n",
       "      <th>utm_source</th>\n",
       "      <th>browser</th>\n",
       "      <th>order_id</th>\n",
       "      <th>state</th>\n",
       "      <th>year</th>\n",
       "      <th>month</th>\n",
       "    </tr>\n",
       "  </thead>\n",
       "  <tbody>\n",
       "    <tr>\n",
       "      <th>1</th>\n",
       "      <td>277899506</td>\n",
       "      <td>organic</td>\n",
       "      <td>Desktop</td>\n",
       "      <td>yandex</td>\n",
       "      <td>Firefox</td>\n",
       "      <td>1069697</td>\n",
       "      <td>held</td>\n",
       "      <td>2023</td>\n",
       "      <td>3</td>\n",
       "    </tr>\n",
       "    <tr>\n",
       "      <th>6</th>\n",
       "      <td>278070885</td>\n",
       "      <td>affiliate</td>\n",
       "      <td>Desktop</td>\n",
       "      <td>affiliate_151</td>\n",
       "      <td>Chrome</td>\n",
       "      <td>1070344</td>\n",
       "      <td>held</td>\n",
       "      <td>2023</td>\n",
       "      <td>3</td>\n",
       "    </tr>\n",
       "    <tr>\n",
       "      <th>7</th>\n",
       "      <td>278221792</td>\n",
       "      <td>organic</td>\n",
       "      <td>Desktop</td>\n",
       "      <td>google</td>\n",
       "      <td>Safari</td>\n",
       "      <td>1070820</td>\n",
       "      <td>held</td>\n",
       "      <td>2023</td>\n",
       "      <td>3</td>\n",
       "    </tr>\n",
       "    <tr>\n",
       "      <th>9</th>\n",
       "      <td>279270477</td>\n",
       "      <td>organic</td>\n",
       "      <td>Mobile</td>\n",
       "      <td>google</td>\n",
       "      <td>Chrome Mobile</td>\n",
       "      <td>1073561</td>\n",
       "      <td>held</td>\n",
       "      <td>2023</td>\n",
       "      <td>3</td>\n",
       "    </tr>\n",
       "    <tr>\n",
       "      <th>10</th>\n",
       "      <td>277787564</td>\n",
       "      <td>organic</td>\n",
       "      <td>Mobile</td>\n",
       "      <td>yandex</td>\n",
       "      <td>Mobile Safari</td>\n",
       "      <td>1069582</td>\n",
       "      <td>held</td>\n",
       "      <td>2023</td>\n",
       "      <td>3</td>\n",
       "    </tr>\n",
       "  </tbody>\n",
       "</table>\n",
       "</div>"
      ],
      "text/plain": [
       "     visit_id utm_medium device_type     utm_source        browser  order_id  \\\n",
       "1   277899506    organic     Desktop         yandex        Firefox   1069697   \n",
       "6   278070885  affiliate     Desktop  affiliate_151         Chrome   1070344   \n",
       "7   278221792    organic     Desktop         google         Safari   1070820   \n",
       "9   279270477    organic      Mobile         google  Chrome Mobile   1073561   \n",
       "10  277787564    organic      Mobile         yandex  Mobile Safari   1069582   \n",
       "\n",
       "   state  year  month  \n",
       "1   held  2023      3  \n",
       "6   held  2023      3  \n",
       "7   held  2023      3  \n",
       "9   held  2023      3  \n",
       "10  held  2023      3  "
      ]
     },
     "execution_count": 96,
     "metadata": {},
     "output_type": "execute_result"
    }
   ],
   "source": [
    "visits_orders_state_held_df = visits_orders_state_df[visits_orders_state_df['state'] == 'held']\n",
    "visits_orders_state_held_df.head()"
   ]
  },
  {
   "cell_type": "code",
   "execution_count": 97,
   "id": "aef3a93e-5c34-42cf-80b3-a48461a44ec3",
   "metadata": {},
   "outputs": [
    {
     "name": "stdout",
     "output_type": "stream",
     "text": [
      "Число успешных заказов: 6207\n"
     ]
    }
   ],
   "source": [
    "visits_orders_state_held = len(visits_orders_state_held_df)\n",
    "print(f'Число успешных заказов: {visits_orders_state_held}')"
   ]
  },
  {
   "cell_type": "markdown",
   "id": "4576f3c4-e72f-4937-9df1-3840f9caed8b",
   "metadata": {},
   "source": [
    "Заказы еще не проведенных на момент выгрузки"
   ]
  },
  {
   "cell_type": "code",
   "execution_count": 98,
   "id": "0812012f-c7d5-4a0f-8e95-bfac90289749",
   "metadata": {},
   "outputs": [
    {
     "data": {
      "text/html": [
       "<div>\n",
       "<style scoped>\n",
       "    .dataframe tbody tr th:only-of-type {\n",
       "        vertical-align: middle;\n",
       "    }\n",
       "\n",
       "    .dataframe tbody tr th {\n",
       "        vertical-align: top;\n",
       "    }\n",
       "\n",
       "    .dataframe thead th {\n",
       "        text-align: right;\n",
       "    }\n",
       "</style>\n",
       "<table border=\"1\" class=\"dataframe\">\n",
       "  <thead>\n",
       "    <tr style=\"text-align: right;\">\n",
       "      <th></th>\n",
       "      <th>visit_id</th>\n",
       "      <th>utm_medium</th>\n",
       "      <th>device_type</th>\n",
       "      <th>utm_source</th>\n",
       "      <th>browser</th>\n",
       "      <th>order_id</th>\n",
       "      <th>state</th>\n",
       "      <th>year</th>\n",
       "      <th>month</th>\n",
       "    </tr>\n",
       "  </thead>\n",
       "  <tbody>\n",
       "    <tr>\n",
       "      <th>244</th>\n",
       "      <td>290286451</td>\n",
       "      <td>organic</td>\n",
       "      <td>Mobile</td>\n",
       "      <td>yandex</td>\n",
       "      <td>Yandex Browser</td>\n",
       "      <td>1109156</td>\n",
       "      <td>pending</td>\n",
       "      <td>2023</td>\n",
       "      <td>3</td>\n",
       "    </tr>\n",
       "    <tr>\n",
       "      <th>644</th>\n",
       "      <td>382183663</td>\n",
       "      <td>cpc</td>\n",
       "      <td>Mobile</td>\n",
       "      <td>yandex</td>\n",
       "      <td>Chrome Mobile</td>\n",
       "      <td>1549765</td>\n",
       "      <td>pending</td>\n",
       "      <td>2023</td>\n",
       "      <td>7</td>\n",
       "    </tr>\n",
       "    <tr>\n",
       "      <th>698</th>\n",
       "      <td>386491261</td>\n",
       "      <td>organic</td>\n",
       "      <td>Mobile</td>\n",
       "      <td>google</td>\n",
       "      <td>Mobile Safari</td>\n",
       "      <td>1574217</td>\n",
       "      <td>pending</td>\n",
       "      <td>2023</td>\n",
       "      <td>7</td>\n",
       "    </tr>\n",
       "    <tr>\n",
       "      <th>1800</th>\n",
       "      <td>405736670</td>\n",
       "      <td>affiliate</td>\n",
       "      <td>Desktop</td>\n",
       "      <td>affiliate_151</td>\n",
       "      <td>Chrome</td>\n",
       "      <td>1681640</td>\n",
       "      <td>pending</td>\n",
       "      <td>2023</td>\n",
       "      <td>8</td>\n",
       "    </tr>\n",
       "    <tr>\n",
       "      <th>1991</th>\n",
       "      <td>417769419</td>\n",
       "      <td>organic</td>\n",
       "      <td>Mobile</td>\n",
       "      <td>google</td>\n",
       "      <td>Google Search App</td>\n",
       "      <td>1729350</td>\n",
       "      <td>pending</td>\n",
       "      <td>2023</td>\n",
       "      <td>8</td>\n",
       "    </tr>\n",
       "  </tbody>\n",
       "</table>\n",
       "</div>"
      ],
      "text/plain": [
       "       visit_id utm_medium device_type     utm_source            browser  \\\n",
       "244   290286451    organic      Mobile         yandex     Yandex Browser   \n",
       "644   382183663        cpc      Mobile         yandex      Chrome Mobile   \n",
       "698   386491261    organic      Mobile         google      Mobile Safari   \n",
       "1800  405736670  affiliate     Desktop  affiliate_151             Chrome   \n",
       "1991  417769419    organic      Mobile         google  Google Search App   \n",
       "\n",
       "      order_id    state  year  month  \n",
       "244    1109156  pending  2023      3  \n",
       "644    1549765  pending  2023      7  \n",
       "698    1574217  pending  2023      7  \n",
       "1800   1681640  pending  2023      8  \n",
       "1991   1729350  pending  2023      8  "
      ]
     },
     "execution_count": 98,
     "metadata": {},
     "output_type": "execute_result"
    }
   ],
   "source": [
    "visits_orders_state_pending_df = visits_orders_state_df[visits_orders_state_df['state'] == 'pending']\n",
    "visits_orders_state_pending_df.head()"
   ]
  },
  {
   "cell_type": "code",
   "execution_count": 99,
   "id": "f5c76d9a-7439-4125-adf0-9a91efe9de07",
   "metadata": {},
   "outputs": [
    {
     "name": "stdout",
     "output_type": "stream",
     "text": [
      "Число еще не проведенных на момент выгрузки заказов: 28\n"
     ]
    }
   ],
   "source": [
    "visits_orders_state_pending = len(visits_orders_state_pending_df)\n",
    "print(f'Число еще не проведенных на момент выгрузки заказов: {visits_orders_state_pending}')"
   ]
  },
  {
   "cell_type": "markdown",
   "id": "534dbdfe-2390-47a1-9715-8ba4f5eef09f",
   "metadata": {},
   "source": [
    "Отмененные заказы"
   ]
  },
  {
   "cell_type": "code",
   "execution_count": 100,
   "id": "9507041c-4068-4f9b-90ae-0c3d1d61e1db",
   "metadata": {},
   "outputs": [
    {
     "data": {
      "text/html": [
       "<div>\n",
       "<style scoped>\n",
       "    .dataframe tbody tr th:only-of-type {\n",
       "        vertical-align: middle;\n",
       "    }\n",
       "\n",
       "    .dataframe tbody tr th {\n",
       "        vertical-align: top;\n",
       "    }\n",
       "\n",
       "    .dataframe thead th {\n",
       "        text-align: right;\n",
       "    }\n",
       "</style>\n",
       "<table border=\"1\" class=\"dataframe\">\n",
       "  <thead>\n",
       "    <tr style=\"text-align: right;\">\n",
       "      <th></th>\n",
       "      <th>visit_id</th>\n",
       "      <th>utm_medium</th>\n",
       "      <th>device_type</th>\n",
       "      <th>utm_source</th>\n",
       "      <th>browser</th>\n",
       "      <th>order_id</th>\n",
       "      <th>state</th>\n",
       "      <th>year</th>\n",
       "      <th>month</th>\n",
       "    </tr>\n",
       "  </thead>\n",
       "  <tbody>\n",
       "    <tr>\n",
       "      <th>0</th>\n",
       "      <td>277645089</td>\n",
       "      <td>organic</td>\n",
       "      <td>Mobile</td>\n",
       "      <td>google</td>\n",
       "      <td>Mobile Safari</td>\n",
       "      <td>1069226</td>\n",
       "      <td>canceled</td>\n",
       "      <td>2023</td>\n",
       "      <td>3</td>\n",
       "    </tr>\n",
       "    <tr>\n",
       "      <th>2</th>\n",
       "      <td>277899506</td>\n",
       "      <td>organic</td>\n",
       "      <td>Desktop</td>\n",
       "      <td>yandex</td>\n",
       "      <td>Firefox</td>\n",
       "      <td>1069707</td>\n",
       "      <td>canceled</td>\n",
       "      <td>2023</td>\n",
       "      <td>3</td>\n",
       "    </tr>\n",
       "    <tr>\n",
       "      <th>3</th>\n",
       "      <td>277899506</td>\n",
       "      <td>organic</td>\n",
       "      <td>Desktop</td>\n",
       "      <td>yandex</td>\n",
       "      <td>Firefox</td>\n",
       "      <td>1069702</td>\n",
       "      <td>canceled</td>\n",
       "      <td>2023</td>\n",
       "      <td>3</td>\n",
       "    </tr>\n",
       "    <tr>\n",
       "      <th>4</th>\n",
       "      <td>277899506</td>\n",
       "      <td>organic</td>\n",
       "      <td>Desktop</td>\n",
       "      <td>yandex</td>\n",
       "      <td>Firefox</td>\n",
       "      <td>1069705</td>\n",
       "      <td>canceled</td>\n",
       "      <td>2023</td>\n",
       "      <td>3</td>\n",
       "    </tr>\n",
       "    <tr>\n",
       "      <th>5</th>\n",
       "      <td>277973531</td>\n",
       "      <td>organic</td>\n",
       "      <td>Mobile</td>\n",
       "      <td>google</td>\n",
       "      <td>Chrome Mobile</td>\n",
       "      <td>1070014</td>\n",
       "      <td>canceled</td>\n",
       "      <td>2023</td>\n",
       "      <td>3</td>\n",
       "    </tr>\n",
       "  </tbody>\n",
       "</table>\n",
       "</div>"
      ],
      "text/plain": [
       "    visit_id utm_medium device_type utm_source        browser  order_id  \\\n",
       "0  277645089    organic      Mobile     google  Mobile Safari   1069226   \n",
       "2  277899506    organic     Desktop     yandex        Firefox   1069707   \n",
       "3  277899506    organic     Desktop     yandex        Firefox   1069702   \n",
       "4  277899506    organic     Desktop     yandex        Firefox   1069705   \n",
       "5  277973531    organic      Mobile     google  Chrome Mobile   1070014   \n",
       "\n",
       "      state  year  month  \n",
       "0  canceled  2023      3  \n",
       "2  canceled  2023      3  \n",
       "3  canceled  2023      3  \n",
       "4  canceled  2023      3  \n",
       "5  canceled  2023      3  "
      ]
     },
     "execution_count": 100,
     "metadata": {},
     "output_type": "execute_result"
    }
   ],
   "source": [
    "visits_orders_state_canceled_df = visits_orders_state_df[visits_orders_state_df['state'] == 'canceled']\n",
    "visits_orders_state_canceled_df.head()"
   ]
  },
  {
   "cell_type": "code",
   "execution_count": 101,
   "id": "44782c2f-7c59-4d67-8d90-96af9cd08ac9",
   "metadata": {},
   "outputs": [
    {
     "name": "stdout",
     "output_type": "stream",
     "text": [
      "Число отмененных заказов: 5477\n"
     ]
    }
   ],
   "source": [
    "visits_orders_state_canceled = len(visits_orders_state_canceled_df)\n",
    "print(f'Число отмененных заказов: {visits_orders_state_canceled}')"
   ]
  },
  {
   "cell_type": "markdown",
   "id": "bbaf278d-74e4-4e80-bee8-b03daf0c436c",
   "metadata": {},
   "source": [
    "Соотношение заказов"
   ]
  },
  {
   "cell_type": "code",
   "execution_count": 102,
   "id": "468512bb-4091-4267-97c4-5b58a76016e2",
   "metadata": {},
   "outputs": [
    {
     "data": {
      "text/html": [
       "<div>\n",
       "<style scoped>\n",
       "    .dataframe tbody tr th:only-of-type {\n",
       "        vertical-align: middle;\n",
       "    }\n",
       "\n",
       "    .dataframe tbody tr th {\n",
       "        vertical-align: top;\n",
       "    }\n",
       "\n",
       "    .dataframe thead th {\n",
       "        text-align: right;\n",
       "    }\n",
       "</style>\n",
       "<table border=\"1\" class=\"dataframe\">\n",
       "  <thead>\n",
       "    <tr style=\"text-align: right;\">\n",
       "      <th></th>\n",
       "      <th>state</th>\n",
       "      <th>amount</th>\n",
       "    </tr>\n",
       "  </thead>\n",
       "  <tbody>\n",
       "    <tr>\n",
       "      <th>0</th>\n",
       "      <td>held</td>\n",
       "      <td>6207</td>\n",
       "    </tr>\n",
       "    <tr>\n",
       "      <th>1</th>\n",
       "      <td>pending</td>\n",
       "      <td>28</td>\n",
       "    </tr>\n",
       "    <tr>\n",
       "      <th>2</th>\n",
       "      <td>canceled</td>\n",
       "      <td>5477</td>\n",
       "    </tr>\n",
       "  </tbody>\n",
       "</table>\n",
       "</div>"
      ],
      "text/plain": [
       "      state  amount\n",
       "0      held    6207\n",
       "1   pending      28\n",
       "2  canceled    5477"
      ]
     },
     "execution_count": 102,
     "metadata": {},
     "output_type": "execute_result"
    }
   ],
   "source": [
    "visits_orders_states_df = pd.DataFrame({'state': ['held', 'pending', 'canceled'], 'amount': [visits_orders_state_held, visits_orders_state_pending, visits_orders_state_canceled]})\n",
    "visits_orders_states_df"
   ]
  },
  {
   "cell_type": "code",
   "execution_count": 103,
   "id": "c568db78-321d-4534-a0ec-c178908f29f0",
   "metadata": {},
   "outputs": [
    {
     "data": {
      "image/png": "[encoded data removed]",
      "text/plain": [
       "<Figure size 1800x400 with 1 Axes>"
      ]
     },
     "metadata": {},
     "output_type": "display_data"
    }
   ],
   "source": [
    "plt.figure(figsize = (18, 4))\n",
    "plt.pie(x = visits_orders_states_df['amount'], labels = visits_orders_states_df['state'] )\n",
    "plt.title('Соотношение заказов в период: март 2023 - июнь 2024', fontsize = 14)\n",
    "plt.show()"
   ]
  },
  {
   "cell_type": "markdown",
   "id": "ffbef817-4aee-47d4-b253-523bc50873c3",
   "metadata": {},
   "source": [
    "Конверсия"
   ]
  },
  {
   "cell_type": "code",
   "execution_count": 104,
   "id": "5af2df1b-d162-4909-8215-b829401abead",
   "metadata": {},
   "outputs": [
    {
     "name": "stdout",
     "output_type": "stream",
     "text": [
      "Соотношение совершивших заказ к числу всех посещений: 1.46%\n"
     ]
    }
   ],
   "source": [
    "conversion_rate = round((visits_with_orders / cleaned_visits) * 100, 2)\n",
    "print(f'Соотношение совершивших заказ к числу всех посещений: {conversion_rate}%')"
   ]
  },
  {
   "cell_type": "code",
   "execution_count": 105,
   "id": "d6c5a0c8-5fa8-463f-b019-a63163f90028",
   "metadata": {},
   "outputs": [
    {
     "name": "stdout",
     "output_type": "stream",
     "text": [
      "Соотношение успешных заказов к числу всех посещений: 0.77%\n"
     ]
    }
   ],
   "source": [
    "conversion_rate = round((visits_orders_state_held / cleaned_visits) * 100, 2)\n",
    "print(f'Соотношение успешных заказов к числу всех посещений: {conversion_rate}%')"
   ]
  },
  {
   "cell_type": "code",
   "execution_count": 106,
   "id": "f69d28f3-445b-4410-824a-00fcf894bbf7",
   "metadata": {},
   "outputs": [
    {
     "name": "stdout",
     "output_type": "stream",
     "text": [
      "Соотношение отменённых заказов к числу всех посещений: 0.68%\n"
     ]
    }
   ],
   "source": [
    "conversion_rate = round((visits_orders_state_canceled / cleaned_visits) * 100, 2)\n",
    "print(f'Соотношение отменённых заказов к числу всех посещений: {conversion_rate}%')"
   ]
  },
  {
   "cell_type": "markdown",
   "id": "815ad7ba-5e41-40fc-99f5-1da736d31ca5",
   "metadata": {},
   "source": [
    "#### Посещения и просмотры"
   ]
  },
  {
   "cell_type": "code",
   "execution_count": 107,
   "id": "056eca9f-a2ce-48dc-beef-92c7def026ae",
   "metadata": {},
   "outputs": [
    {
     "data": {
      "text/html": [
       "<div>\n",
       "<style scoped>\n",
       "    .dataframe tbody tr th:only-of-type {\n",
       "        vertical-align: middle;\n",
       "    }\n",
       "\n",
       "    .dataframe tbody tr th {\n",
       "        vertical-align: top;\n",
       "    }\n",
       "\n",
       "    .dataframe thead th {\n",
       "        text-align: right;\n",
       "    }\n",
       "</style>\n",
       "<table border=\"1\" class=\"dataframe\">\n",
       "  <thead>\n",
       "    <tr style=\"text-align: right;\">\n",
       "      <th></th>\n",
       "      <th>time</th>\n",
       "      <th>view_id</th>\n",
       "      <th>visit_id</th>\n",
       "    </tr>\n",
       "  </thead>\n",
       "  <tbody>\n",
       "    <tr>\n",
       "      <th>0</th>\n",
       "      <td>2024-06-30 20:20:48.141495</td>\n",
       "      <td>119089860</td>\n",
       "      <td>661384025</td>\n",
       "    </tr>\n",
       "    <tr>\n",
       "      <th>1</th>\n",
       "      <td>2024-06-30 20:21:02.648150</td>\n",
       "      <td>119089916</td>\n",
       "      <td>661384025</td>\n",
       "    </tr>\n",
       "    <tr>\n",
       "      <th>2</th>\n",
       "      <td>2024-06-30 20:23:51.727024</td>\n",
       "      <td>119090574</td>\n",
       "      <td>661384025</td>\n",
       "    </tr>\n",
       "    <tr>\n",
       "      <th>3</th>\n",
       "      <td>2024-06-30 20:49:01.842606</td>\n",
       "      <td>119096406</td>\n",
       "      <td>661384025</td>\n",
       "    </tr>\n",
       "    <tr>\n",
       "      <th>4</th>\n",
       "      <td>2024-06-30 20:52:11.079409</td>\n",
       "      <td>119097078</td>\n",
       "      <td>661609161</td>\n",
       "    </tr>\n",
       "  </tbody>\n",
       "</table>\n",
       "</div>"
      ],
      "text/plain": [
       "                         time    view_id   visit_id\n",
       "0  2024-06-30 20:20:48.141495  119089860  661384025\n",
       "1  2024-06-30 20:21:02.648150  119089916  661384025\n",
       "2  2024-06-30 20:23:51.727024  119090574  661384025\n",
       "3  2024-06-30 20:49:01.842606  119096406  661384025\n",
       "4  2024-06-30 20:52:11.079409  119097078  661609161"
      ]
     },
     "execution_count": 107,
     "metadata": {},
     "output_type": "execute_result"
    }
   ],
   "source": [
    "views_df = views_df.rename(columns = {'id' : 'view_id'})\n",
    "views_df.head()"
   ]
  },
  {
   "cell_type": "code",
   "execution_count": 108,
   "id": "55bb9b91-a5d5-445a-800d-9776ff737289",
   "metadata": {},
   "outputs": [
    {
     "data": {
      "text/html": [
       "<div>\n",
       "<style scoped>\n",
       "    .dataframe tbody tr th:only-of-type {\n",
       "        vertical-align: middle;\n",
       "    }\n",
       "\n",
       "    .dataframe tbody tr th {\n",
       "        vertical-align: top;\n",
       "    }\n",
       "\n",
       "    .dataframe thead th {\n",
       "        text-align: right;\n",
       "    }\n",
       "</style>\n",
       "<table border=\"1\" class=\"dataframe\">\n",
       "  <thead>\n",
       "    <tr style=\"text-align: right;\">\n",
       "      <th></th>\n",
       "      <th>visit_id</th>\n",
       "      <th>utm_medium</th>\n",
       "      <th>device_type</th>\n",
       "      <th>utm_source</th>\n",
       "      <th>browser</th>\n",
       "    </tr>\n",
       "  </thead>\n",
       "  <tbody>\n",
       "    <tr>\n",
       "      <th>1</th>\n",
       "      <td>277323126</td>\n",
       "      <td>organic</td>\n",
       "      <td>Tablet</td>\n",
       "      <td>yandex</td>\n",
       "      <td>Yandex Browser</td>\n",
       "    </tr>\n",
       "    <tr>\n",
       "      <th>3</th>\n",
       "      <td>277340573</td>\n",
       "      <td>organic</td>\n",
       "      <td>Desktop</td>\n",
       "      <td>google</td>\n",
       "      <td>Chrome</td>\n",
       "    </tr>\n",
       "    <tr>\n",
       "      <th>4</th>\n",
       "      <td>277341578</td>\n",
       "      <td>affiliate</td>\n",
       "      <td>Desktop</td>\n",
       "      <td>affiliate_3421</td>\n",
       "      <td>Firefox</td>\n",
       "    </tr>\n",
       "    <tr>\n",
       "      <th>5</th>\n",
       "      <td>277341589</td>\n",
       "      <td>affiliate</td>\n",
       "      <td>Desktop</td>\n",
       "      <td>affiliate_3421</td>\n",
       "      <td>Chrome</td>\n",
       "    </tr>\n",
       "    <tr>\n",
       "      <th>6</th>\n",
       "      <td>277357036</td>\n",
       "      <td>organic</td>\n",
       "      <td>Tablet</td>\n",
       "      <td>yandex</td>\n",
       "      <td>Chrome</td>\n",
       "    </tr>\n",
       "  </tbody>\n",
       "</table>\n",
       "</div>"
      ],
      "text/plain": [
       "    visit_id utm_medium device_type      utm_source         browser\n",
       "1  277323126    organic      Tablet          yandex  Yandex Browser\n",
       "3  277340573    organic     Desktop          google          Chrome\n",
       "4  277341578  affiliate     Desktop  affiliate_3421         Firefox\n",
       "5  277341589  affiliate     Desktop  affiliate_3421          Chrome\n",
       "6  277357036    organic      Tablet          yandex          Chrome"
      ]
     },
     "execution_count": 108,
     "metadata": {},
     "output_type": "execute_result"
    }
   ],
   "source": [
    "cleaned_visits_2_df.head()"
   ]
  },
  {
   "cell_type": "code",
   "execution_count": 109,
   "id": "ada1d6c8-05ae-48b6-acf2-f3cb1360488b",
   "metadata": {},
   "outputs": [
    {
     "data": {
      "text/html": [
       "<div>\n",
       "<style scoped>\n",
       "    .dataframe tbody tr th:only-of-type {\n",
       "        vertical-align: middle;\n",
       "    }\n",
       "\n",
       "    .dataframe tbody tr th {\n",
       "        vertical-align: top;\n",
       "    }\n",
       "\n",
       "    .dataframe thead th {\n",
       "        text-align: right;\n",
       "    }\n",
       "</style>\n",
       "<table border=\"1\" class=\"dataframe\">\n",
       "  <thead>\n",
       "    <tr style=\"text-align: right;\">\n",
       "      <th></th>\n",
       "      <th>time</th>\n",
       "      <th>view_id</th>\n",
       "      <th>visit_id</th>\n",
       "      <th>utm_medium</th>\n",
       "      <th>device_type</th>\n",
       "      <th>utm_source</th>\n",
       "      <th>browser</th>\n",
       "    </tr>\n",
       "  </thead>\n",
       "  <tbody>\n",
       "    <tr>\n",
       "      <th>0</th>\n",
       "      <td>2024-06-30 20:20:48.141495</td>\n",
       "      <td>119089860</td>\n",
       "      <td>661384025</td>\n",
       "      <td>organic</td>\n",
       "      <td>Mobile</td>\n",
       "      <td>google</td>\n",
       "      <td>Chrome Mobile iOS</td>\n",
       "    </tr>\n",
       "    <tr>\n",
       "      <th>1</th>\n",
       "      <td>2024-06-30 20:21:02.648150</td>\n",
       "      <td>119089916</td>\n",
       "      <td>661384025</td>\n",
       "      <td>organic</td>\n",
       "      <td>Mobile</td>\n",
       "      <td>google</td>\n",
       "      <td>Chrome Mobile iOS</td>\n",
       "    </tr>\n",
       "    <tr>\n",
       "      <th>2</th>\n",
       "      <td>2024-06-30 20:23:51.727024</td>\n",
       "      <td>119090574</td>\n",
       "      <td>661384025</td>\n",
       "      <td>organic</td>\n",
       "      <td>Mobile</td>\n",
       "      <td>google</td>\n",
       "      <td>Chrome Mobile iOS</td>\n",
       "    </tr>\n",
       "    <tr>\n",
       "      <th>3</th>\n",
       "      <td>2024-06-30 20:49:01.842606</td>\n",
       "      <td>119096406</td>\n",
       "      <td>661384025</td>\n",
       "      <td>organic</td>\n",
       "      <td>Mobile</td>\n",
       "      <td>google</td>\n",
       "      <td>Chrome Mobile iOS</td>\n",
       "    </tr>\n",
       "    <tr>\n",
       "      <th>4</th>\n",
       "      <td>2024-06-30 20:52:11.079409</td>\n",
       "      <td>119097078</td>\n",
       "      <td>661609161</td>\n",
       "      <td>organic</td>\n",
       "      <td>Mobile</td>\n",
       "      <td>google</td>\n",
       "      <td>Mobile Safari</td>\n",
       "    </tr>\n",
       "  </tbody>\n",
       "</table>\n",
       "</div>"
      ],
      "text/plain": [
       "                         time    view_id   visit_id utm_medium device_type  \\\n",
       "0  2024-06-30 20:20:48.141495  119089860  661384025    organic      Mobile   \n",
       "1  2024-06-30 20:21:02.648150  119089916  661384025    organic      Mobile   \n",
       "2  2024-06-30 20:23:51.727024  119090574  661384025    organic      Mobile   \n",
       "3  2024-06-30 20:49:01.842606  119096406  661384025    organic      Mobile   \n",
       "4  2024-06-30 20:52:11.079409  119097078  661609161    organic      Mobile   \n",
       "\n",
       "  utm_source            browser  \n",
       "0     google  Chrome Mobile iOS  \n",
       "1     google  Chrome Mobile iOS  \n",
       "2     google  Chrome Mobile iOS  \n",
       "3     google  Chrome Mobile iOS  \n",
       "4     google      Mobile Safari  "
      ]
     },
     "execution_count": 109,
     "metadata": {},
     "output_type": "execute_result"
    }
   ],
   "source": [
    "visits_views_df = pd.merge(views_df, cleaned_visits_2_df, on = 'visit_id', how = 'inner')\n",
    "visits_views_df.head()"
   ]
  },
  {
   "cell_type": "markdown",
   "id": "75e95424-35f9-4a5a-953d-167236d57008",
   "metadata": {},
   "source": [
    "Распределение просмотров по месяцам"
   ]
  },
  {
   "cell_type": "code",
   "execution_count": 110,
   "id": "d5c6f042-a2d9-45d9-aec7-f7a0cbd558c2",
   "metadata": {},
   "outputs": [
    {
     "data": {
      "text/html": [
       "<div>\n",
       "<style scoped>\n",
       "    .dataframe tbody tr th:only-of-type {\n",
       "        vertical-align: middle;\n",
       "    }\n",
       "\n",
       "    .dataframe tbody tr th {\n",
       "        vertical-align: top;\n",
       "    }\n",
       "\n",
       "    .dataframe thead th {\n",
       "        text-align: right;\n",
       "    }\n",
       "</style>\n",
       "<table border=\"1\" class=\"dataframe\">\n",
       "  <thead>\n",
       "    <tr style=\"text-align: right;\">\n",
       "      <th></th>\n",
       "      <th>time</th>\n",
       "      <th>view_id</th>\n",
       "      <th>visit_id</th>\n",
       "      <th>utm_medium</th>\n",
       "      <th>device_type</th>\n",
       "      <th>utm_source</th>\n",
       "      <th>browser</th>\n",
       "      <th>month</th>\n",
       "      <th>year</th>\n",
       "    </tr>\n",
       "  </thead>\n",
       "  <tbody>\n",
       "    <tr>\n",
       "      <th>0</th>\n",
       "      <td>2024-06-30 20:20:48.141495</td>\n",
       "      <td>119089860</td>\n",
       "      <td>661384025</td>\n",
       "      <td>organic</td>\n",
       "      <td>Mobile</td>\n",
       "      <td>google</td>\n",
       "      <td>Chrome Mobile iOS</td>\n",
       "      <td>6</td>\n",
       "      <td>2024</td>\n",
       "    </tr>\n",
       "    <tr>\n",
       "      <th>1</th>\n",
       "      <td>2024-06-30 20:21:02.648150</td>\n",
       "      <td>119089916</td>\n",
       "      <td>661384025</td>\n",
       "      <td>organic</td>\n",
       "      <td>Mobile</td>\n",
       "      <td>google</td>\n",
       "      <td>Chrome Mobile iOS</td>\n",
       "      <td>6</td>\n",
       "      <td>2024</td>\n",
       "    </tr>\n",
       "    <tr>\n",
       "      <th>2</th>\n",
       "      <td>2024-06-30 20:23:51.727024</td>\n",
       "      <td>119090574</td>\n",
       "      <td>661384025</td>\n",
       "      <td>organic</td>\n",
       "      <td>Mobile</td>\n",
       "      <td>google</td>\n",
       "      <td>Chrome Mobile iOS</td>\n",
       "      <td>6</td>\n",
       "      <td>2024</td>\n",
       "    </tr>\n",
       "    <tr>\n",
       "      <th>3</th>\n",
       "      <td>2024-06-30 20:49:01.842606</td>\n",
       "      <td>119096406</td>\n",
       "      <td>661384025</td>\n",
       "      <td>organic</td>\n",
       "      <td>Mobile</td>\n",
       "      <td>google</td>\n",
       "      <td>Chrome Mobile iOS</td>\n",
       "      <td>6</td>\n",
       "      <td>2024</td>\n",
       "    </tr>\n",
       "    <tr>\n",
       "      <th>4</th>\n",
       "      <td>2024-06-30 20:52:11.079409</td>\n",
       "      <td>119097078</td>\n",
       "      <td>661609161</td>\n",
       "      <td>organic</td>\n",
       "      <td>Mobile</td>\n",
       "      <td>google</td>\n",
       "      <td>Mobile Safari</td>\n",
       "      <td>6</td>\n",
       "      <td>2024</td>\n",
       "    </tr>\n",
       "  </tbody>\n",
       "</table>\n",
       "</div>"
      ],
      "text/plain": [
       "                         time    view_id   visit_id utm_medium device_type  \\\n",
       "0  2024-06-30 20:20:48.141495  119089860  661384025    organic      Mobile   \n",
       "1  2024-06-30 20:21:02.648150  119089916  661384025    organic      Mobile   \n",
       "2  2024-06-30 20:23:51.727024  119090574  661384025    organic      Mobile   \n",
       "3  2024-06-30 20:49:01.842606  119096406  661384025    organic      Mobile   \n",
       "4  2024-06-30 20:52:11.079409  119097078  661609161    organic      Mobile   \n",
       "\n",
       "  utm_source            browser  month  year  \n",
       "0     google  Chrome Mobile iOS      6  2024  \n",
       "1     google  Chrome Mobile iOS      6  2024  \n",
       "2     google  Chrome Mobile iOS      6  2024  \n",
       "3     google  Chrome Mobile iOS      6  2024  \n",
       "4     google      Mobile Safari      6  2024  "
      ]
     },
     "execution_count": 110,
     "metadata": {},
     "output_type": "execute_result"
    }
   ],
   "source": [
    "visits_views_months_df = visits_views_df.copy()\n",
    "visits_views_months_df['month'] = pd.to_datetime(visits_views_months_df['time']).dt.month\n",
    "visits_views_months_df['year'] = pd.to_datetime(visits_views_months_df['time']).dt.year\n",
    "visits_views_months_df.head()"
   ]
  },
  {
   "cell_type": "code",
   "execution_count": 111,
   "id": "becfd1b2-292a-407b-bab8-0ea10efc0888",
   "metadata": {},
   "outputs": [
    {
     "data": {
      "text/html": [
       "<div>\n",
       "<style scoped>\n",
       "    .dataframe tbody tr th:only-of-type {\n",
       "        vertical-align: middle;\n",
       "    }\n",
       "\n",
       "    .dataframe tbody tr th {\n",
       "        vertical-align: top;\n",
       "    }\n",
       "\n",
       "    .dataframe thead th {\n",
       "        text-align: right;\n",
       "    }\n",
       "</style>\n",
       "<table border=\"1\" class=\"dataframe\">\n",
       "  <thead>\n",
       "    <tr style=\"text-align: right;\">\n",
       "      <th></th>\n",
       "      <th>month</th>\n",
       "      <th>year</th>\n",
       "      <th>views</th>\n",
       "    </tr>\n",
       "  </thead>\n",
       "  <tbody>\n",
       "    <tr>\n",
       "      <th>0</th>\n",
       "      <td>1</td>\n",
       "      <td>2024</td>\n",
       "      <td>15126</td>\n",
       "    </tr>\n",
       "    <tr>\n",
       "      <th>1</th>\n",
       "      <td>2</td>\n",
       "      <td>2024</td>\n",
       "      <td>15671</td>\n",
       "    </tr>\n",
       "    <tr>\n",
       "      <th>2</th>\n",
       "      <td>3</td>\n",
       "      <td>2023</td>\n",
       "      <td>21368</td>\n",
       "    </tr>\n",
       "    <tr>\n",
       "      <th>3</th>\n",
       "      <td>3</td>\n",
       "      <td>2024</td>\n",
       "      <td>21883</td>\n",
       "    </tr>\n",
       "    <tr>\n",
       "      <th>4</th>\n",
       "      <td>4</td>\n",
       "      <td>2023</td>\n",
       "      <td>24811</td>\n",
       "    </tr>\n",
       "  </tbody>\n",
       "</table>\n",
       "</div>"
      ],
      "text/plain": [
       "   month  year  views\n",
       "0      1  2024  15126\n",
       "1      2  2024  15671\n",
       "2      3  2023  21368\n",
       "3      3  2024  21883\n",
       "4      4  2023  24811"
      ]
     },
     "execution_count": 111,
     "metadata": {},
     "output_type": "execute_result"
    }
   ],
   "source": [
    "visits_views_months_df = visits_views_months_df.groupby(['month', 'year']).size().reset_index(name = 'views')\n",
    "visits_views_months_df.head()"
   ]
  },
  {
   "cell_type": "code",
   "execution_count": 112,
   "id": "6a1b1606-5841-4a86-9833-98c02915a2c9",
   "metadata": {},
   "outputs": [
    {
     "data": {
      "image/png": "[encoded data removed]",
      "text/plain": [
       "<Figure size 1800x400 with 1 Axes>"
      ]
     },
     "metadata": {},
     "output_type": "display_data"
    }
   ],
   "source": [
    "plt.figure(figsize = (18, 4))\n",
    "sns.barplot(data = visits_views_months_df, x = 'month', y = 'views', hue = 'year')\n",
    "plt.title('Распределение просмотров по месяцам', fontsize = 14)\n",
    "plt.show()"
   ]
  },
  {
   "cell_type": "markdown",
   "id": "190858ab-c087-47ea-965b-c002ed57ff47",
   "metadata": {},
   "source": [
    "Рейтинг посещений"
   ]
  },
  {
   "cell_type": "code",
   "execution_count": 113,
   "id": "aa28a71e-d504-4ec6-818d-fbbde361e89c",
   "metadata": {},
   "outputs": [
    {
     "data": {
      "text/plain": [
       "visit_id\n",
       "355668607    117\n",
       "320558814     80\n",
       "647137593     56\n",
       "649392885     50\n",
       "322890056     49\n",
       "385153725     49\n",
       "277615912     49\n",
       "316104652     47\n",
       "577179877     47\n",
       "658891038     46\n",
       "Name: count, dtype: int64"
      ]
     },
     "execution_count": 113,
     "metadata": {},
     "output_type": "execute_result"
    }
   ],
   "source": [
    "top_visitors = visits_views_df['visit_id'].value_counts()[:10]\n",
    "top_visitors"
   ]
  },
  {
   "cell_type": "code",
   "execution_count": 114,
   "id": "fa0752a8-9de2-46a4-bc09-89bd5a1cd7fc",
   "metadata": {},
   "outputs": [
    {
     "data": {
      "text/html": [
       "<div>\n",
       "<style scoped>\n",
       "    .dataframe tbody tr th:only-of-type {\n",
       "        vertical-align: middle;\n",
       "    }\n",
       "\n",
       "    .dataframe tbody tr th {\n",
       "        vertical-align: top;\n",
       "    }\n",
       "\n",
       "    .dataframe thead th {\n",
       "        text-align: right;\n",
       "    }\n",
       "</style>\n",
       "<table border=\"1\" class=\"dataframe\">\n",
       "  <thead>\n",
       "    <tr style=\"text-align: right;\">\n",
       "      <th></th>\n",
       "      <th>visit_id</th>\n",
       "      <th>views</th>\n",
       "    </tr>\n",
       "  </thead>\n",
       "  <tbody>\n",
       "    <tr>\n",
       "      <th>0</th>\n",
       "      <td>355668607</td>\n",
       "      <td>117</td>\n",
       "    </tr>\n",
       "    <tr>\n",
       "      <th>1</th>\n",
       "      <td>320558814</td>\n",
       "      <td>80</td>\n",
       "    </tr>\n",
       "    <tr>\n",
       "      <th>2</th>\n",
       "      <td>647137593</td>\n",
       "      <td>56</td>\n",
       "    </tr>\n",
       "    <tr>\n",
       "      <th>3</th>\n",
       "      <td>649392885</td>\n",
       "      <td>50</td>\n",
       "    </tr>\n",
       "    <tr>\n",
       "      <th>4</th>\n",
       "      <td>322890056</td>\n",
       "      <td>49</td>\n",
       "    </tr>\n",
       "  </tbody>\n",
       "</table>\n",
       "</div>"
      ],
      "text/plain": [
       "    visit_id  views\n",
       "0  355668607    117\n",
       "1  320558814     80\n",
       "2  647137593     56\n",
       "3  649392885     50\n",
       "4  322890056     49"
      ]
     },
     "execution_count": 114,
     "metadata": {},
     "output_type": "execute_result"
    }
   ],
   "source": [
    "top_visitors_df = pd.DataFrame({'visit_id' : top_visitors.index, 'views' : top_visitors.values})\n",
    "top_visitors_df.head()"
   ]
  },
  {
   "cell_type": "code",
   "execution_count": 115,
   "id": "360cac98-3e8e-4a12-97c4-941b9f29b543",
   "metadata": {},
   "outputs": [
    {
     "data": {
      "image/png": "[encoded data removed]",
      "text/plain": [
       "<Figure size 1800x400 with 1 Axes>"
      ]
     },
     "metadata": {},
     "output_type": "display_data"
    }
   ],
   "source": [
    "plt.figure(figsize = (18, 4))\n",
    "sns.barplot(data = top_visitors_df, x = 'visit_id', y = 'views')\n",
    "plt.title('Распределение просмотров по посещениям', fontsize = 14)\n",
    "plt.show()"
   ]
  }
 ],
 "metadata": {
  "kernelspec": {
   "display_name": "Python 3 (ipykernel)",
   "language": "python",
   "name": "python3"
  },
  "language_info": {
   "codemirror_mode": {
    "name": "ipython",
    "version": 3
   },
   "file_extension": ".py",
   "mimetype": "text/x-python",
   "name": "python",
   "nbconvert_exporter": "python",
   "pygments_lexer": "ipython3",
   "version": "3.12.6"
  }
 },
 "nbformat": 4,
 "nbformat_minor": 5
}
